{
  "nbformat": 4,
  "nbformat_minor": 0,
  "metadata": {
    "colab": {
      "name": "Lab_2.ipynb",
      "provenance": [],
      "collapsed_sections": []
    },
    "kernelspec": {
      "display_name": "Python 3",
      "language": "python",
      "name": "python3"
    },
    "language_info": {
      "codemirror_mode": {
        "name": "ipython",
        "version": 3
      },
      "file_extension": ".py",
      "mimetype": "text/x-python",
      "name": "python",
      "nbconvert_exporter": "python",
      "pygments_lexer": "ipython3",
      "version": "3.7.4"
    }
  },
  "cells": [
    {
      "cell_type": "markdown",
      "metadata": {
        "id": "lyQ45Phps6Z6"
      },
      "source": [
        "# **Israel Elections Data Analysis - Lab 2**\n"
      ]
    },
    {
      "cell_type": "markdown",
      "metadata": {
        "id": "8DKMb3rPhv0R"
      },
      "source": [
        "",
        "\n",
        ""
      ]
    },
    {
      "cell_type": "code",
      "metadata": {
        "id": "eRKSr5EstAUm",
        "outputId": "007b9d6e-469f-4fc1-e4e9-5bbba72740f1",
        "colab": {
          "base_uri": "https://localhost:8080/"
        }
      },
      "source": [
        "# Add a check if we run in google colab or locally in jupyter notebook\n",
        "run_in_colab = True\n",
        "if 'google.colab' in str(get_ipython()):\n",
        "    run_in_colab = True\n",
        "    print('Running on CoLab')\n",
        "else:\n",
        "    print('Running locally on Jupyter')"
      ],
      "execution_count": 1,
      "outputs": [
        {
          "output_type": "stream",
          "text": [
            "Running on CoLab\n"
          ],
          "name": "stdout"
        }
      ]
    },
    {
      "cell_type": "code",
      "metadata": {
        "id": "FTNiH27ZzL1F"
      },
      "source": [
        "# First install tha needed packages using conda in the current Jupyter kernel\n",
        "import sys\n",
        "if not(run_in_colab):\n",
        "  !conda install --yes --prefix {sys.prefix} numpy\n",
        "  !conda install --yes --prefix {sys.prefix} pandas\n",
        "  !conda install --yes --prefix {sys.prefix} matplotlib\n",
        "\n",
        "# Alternatively, if your python wasn't installed using anaconda, we can use pip install: \n",
        "# !{sys.executable} -m pip install numpy\n",
        "# !{sys.executable} -m pip install pandas\n",
        "# !{sys.executable} -m pip install matplotlib\n"
      ],
      "execution_count": 2,
      "outputs": []
    },
    {
      "cell_type": "code",
      "metadata": {
        "id": "iC0NlMvHzL1L"
      },
      "source": [
        "# Import modules \n",
        "\n",
        "import numpy as np  # a module for working with numerical array \n",
        "import pandas as pd  # a module for working with data-frames\n",
        "import os\n",
        "import io\n",
        "from matplotlib import pyplot as plt\n",
        "import copy\n",
        "#from scipy.stats.stats import pearsonr, spearmanr\n",
        "\n",
        "%matplotlib inline"
      ],
      "execution_count": 3,
      "outputs": []
    },
    {
      "cell_type": "markdown",
      "metadata": {
        "id": "pGTS_zCRZGfV"
      },
      "source": [
        "First, we need to mount our local drive to the colab network"
      ]
    },
    {
      "cell_type": "code",
      "metadata": {
        "id": "RWSJpsyKqHjH",
        "outputId": "8aa0a183-d90c-4765-9687-0e4444648c4c",
        "colab": {
          "base_uri": "https://localhost:8080/"
        }
      },
      "source": [
        "# Mount drive in google colab\n",
        "if run_in_colab:\n",
        "    from google.colab import drive\n",
        "    drive.mount('/content/drive')\n",
        "else:  # Set local path \n",
        "    data_path = \"C:/Users/Daniel Ohayon/PycharmProjects/Statistics Lab\"  \n"
      ],
      "execution_count": 4,
      "outputs": [
        {
          "output_type": "stream",
          "text": [
            "Mounted at /content/drive\n"
          ],
          "name": "stdout"
        }
      ]
    },
    {
      "cell_type": "code",
      "metadata": {
        "id": "xaG-KYCw8XZz",
        "outputId": "9e103e7f-b9ae-49c4-bb36-f12e2597aeb6",
        "colab": {
          "resources": {
            "http://localhost:8080/nbextensions/google.colab/files.js": {
              "data": "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",
              "ok": true,
              "headers": [
                [
                  "content-type",
                  "application/javascript"
                ]
              ],
              "status": 200,
              "status_text": ""
            }
          },
          "base_uri": "https://localhost:8080/",
          "height": 108
        }
      },
      "source": [
        "# Loading elections 2020 elections data:\n",
        "if run_in_colab:\n",
        "    from google.colab import files\n",
        "    uploaded = files.upload()"
      ],
      "execution_count": 5,
      "outputs": [
        {
          "output_type": "display_data",
          "data": {
            "text/html": [
              "\n",
              "     <input type=\"file\" id=\"files-55597737-8499-4260-9d41-cf070bac531d\" name=\"files[]\" multiple disabled\n",
              "        style=\"border:none\" />\n",
              "     <output id=\"result-55597737-8499-4260-9d41-cf070bac531d\">\n",
              "      Upload widget is only available when the cell has been executed in the\n",
              "      current browser session. Please rerun this cell to enable.\n",
              "      </output>\n",
              "      <script src=\"/nbextensions/google.colab/files.js\"></script> "
            ],
            "text/plain": [
              "<IPython.core.display.HTML object>"
            ]
          },
          "metadata": {
            "tags": []
          }
        },
        {
          "output_type": "stream",
          "text": [
            "Saving votes per ballot 2020.csv to votes per ballot 2020.csv\n",
            "Saving votes per city 2020.csv to votes per city 2020.csv\n"
          ],
          "name": "stdout"
        }
      ]
    },
    {
      "cell_type": "code",
      "metadata": {
        "id": "QxK5YlBH1geD"
      },
      "source": [
        "import io\n",
        "\n",
        "data_type = \"city\" # \"ballot\"  # city\n",
        "if   run_in_colab:\n",
        "    df_2020_raw = pd.read_csv(io.BytesIO(uploaded['votes per city 2020.csv']),  encoding = 'iso-8859-8', index_col='שם ישוב')\n",
        "else:  # read local file\n",
        "    if data_type == \"ballot\":\n",
        "        df_2020_raw = pd.read_csv(data_path + 'votes per ballot 2020.csv',  encoding = 'iso-8859-8', index_col='שם ישוב')\n",
        "        # preprocessing of ballot\n",
        "        df_2020 = df_2020_raw.drop('סמל ועדה', axis=1) # new column added in Sep 2019\n",
        "        df_2020 = df_2020[df_2020.columns[8:-1]] # removing \"metadata\" columns\n",
        "    else:\n",
        "        df_2020_raw = pd.read_csv(data_path + 'votes per city 2020.csv',  encoding = 'iso-8859-8', index_col='שם ישוב')\n",
        "        # preprocessing of cities \n",
        "        df_2020 = df_2020_raw.drop('סמל ועדה', axis=1) # new column added in Sep 2019\n",
        "        df_2020 = df_2020[df_2020.columns[5:-1]] # removing \"metadata\" columns\n",
        "# Dataset is now stored in a Pandas Dataframe"
      ],
      "execution_count": 6,
      "outputs": []
    },
    {
      "cell_type": "code",
      "metadata": {
        "id": "PVfhjKgS16sL",
        "outputId": "0b096d31-5778-4057-ea89-e8a2b2647f29",
        "colab": {
          "base_uri": "https://localhost:8080/",
          "height": 446
        }
      },
      "source": [
        "df_2020 = df_2020_raw.drop('סמל ועדה', axis=1) # new column added in Sep 2019\n",
        "df_2020 = df_2020[df_2020.columns[5:-1]] # removing \"metadata\" columns\n",
        "df_2020"
      ],
      "execution_count": 7,
      "outputs": [
        {
          "output_type": "execute_result",
          "data": {
            "text/html": [
              "<div>\n",
              "<style scoped>\n",
              "    .dataframe tbody tr th:only-of-type {\n",
              "        vertical-align: middle;\n",
              "    }\n",
              "\n",
              "    .dataframe tbody tr th {\n",
              "        vertical-align: top;\n",
              "    }\n",
              "\n",
              "    .dataframe thead th {\n",
              "        text-align: right;\n",
              "    }\n",
              "</style>\n",
              "<table border=\"1\" class=\"dataframe\">\n",
              "  <thead>\n",
              "    <tr style=\"text-align: right;\">\n",
              "      <th></th>\n",
              "      <th>אמת</th>\n",
              "      <th>ג</th>\n",
              "      <th>ודעם</th>\n",
              "      <th>ז</th>\n",
              "      <th>זך</th>\n",
              "      <th>זץ</th>\n",
              "      <th>טב</th>\n",
              "      <th>י</th>\n",
              "      <th>יז</th>\n",
              "      <th>ינ</th>\n",
              "      <th>יף</th>\n",
              "      <th>יק</th>\n",
              "      <th>יר</th>\n",
              "      <th>כ</th>\n",
              "      <th>כן</th>\n",
              "      <th>ל</th>\n",
              "      <th>מחל</th>\n",
              "      <th>נ</th>\n",
              "      <th>נז</th>\n",
              "      <th>ני</th>\n",
              "      <th>נץ</th>\n",
              "      <th>נק</th>\n",
              "      <th>פה</th>\n",
              "      <th>ףז</th>\n",
              "      <th>ץ</th>\n",
              "      <th>ק</th>\n",
              "      <th>קי</th>\n",
              "      <th>קך</th>\n",
              "      <th>קץ</th>\n",
              "      <th>שס</th>\n",
              "    </tr>\n",
              "    <tr>\n",
              "      <th>שם ישוב</th>\n",
              "      <th></th>\n",
              "      <th></th>\n",
              "      <th></th>\n",
              "      <th></th>\n",
              "      <th></th>\n",
              "      <th></th>\n",
              "      <th></th>\n",
              "      <th></th>\n",
              "      <th></th>\n",
              "      <th></th>\n",
              "      <th></th>\n",
              "      <th></th>\n",
              "      <th></th>\n",
              "      <th></th>\n",
              "      <th></th>\n",
              "      <th></th>\n",
              "      <th></th>\n",
              "      <th></th>\n",
              "      <th></th>\n",
              "      <th></th>\n",
              "      <th></th>\n",
              "      <th></th>\n",
              "      <th></th>\n",
              "      <th></th>\n",
              "      <th></th>\n",
              "      <th></th>\n",
              "      <th></th>\n",
              "      <th></th>\n",
              "      <th></th>\n",
              "      <th></th>\n",
              "    </tr>\n",
              "  </thead>\n",
              "  <tbody>\n",
              "    <tr>\n",
              "      <th>אבו גווייעד שבט</th>\n",
              "      <td>13</td>\n",
              "      <td>0</td>\n",
              "      <td>554</td>\n",
              "      <td>0</td>\n",
              "      <td>0</td>\n",
              "      <td>0</td>\n",
              "      <td>0</td>\n",
              "      <td>0</td>\n",
              "      <td>1</td>\n",
              "      <td>0</td>\n",
              "      <td>0</td>\n",
              "      <td>0</td>\n",
              "      <td>0</td>\n",
              "      <td>0</td>\n",
              "      <td>1</td>\n",
              "      <td>1</td>\n",
              "      <td>4</td>\n",
              "      <td>0</td>\n",
              "      <td>1</td>\n",
              "      <td>0</td>\n",
              "      <td>0</td>\n",
              "      <td>0</td>\n",
              "      <td>8</td>\n",
              "      <td>2</td>\n",
              "      <td>0</td>\n",
              "      <td>0</td>\n",
              "      <td>0</td>\n",
              "      <td>0</td>\n",
              "      <td>2</td>\n",
              "      <td>2</td>\n",
              "    </tr>\n",
              "    <tr>\n",
              "      <th>אבו גוש</th>\n",
              "      <td>75</td>\n",
              "      <td>4</td>\n",
              "      <td>2157</td>\n",
              "      <td>0</td>\n",
              "      <td>0</td>\n",
              "      <td>0</td>\n",
              "      <td>5</td>\n",
              "      <td>0</td>\n",
              "      <td>0</td>\n",
              "      <td>5</td>\n",
              "      <td>1</td>\n",
              "      <td>0</td>\n",
              "      <td>1</td>\n",
              "      <td>0</td>\n",
              "      <td>0</td>\n",
              "      <td>5</td>\n",
              "      <td>280</td>\n",
              "      <td>0</td>\n",
              "      <td>0</td>\n",
              "      <td>0</td>\n",
              "      <td>3</td>\n",
              "      <td>2</td>\n",
              "      <td>123</td>\n",
              "      <td>0</td>\n",
              "      <td>2</td>\n",
              "      <td>0</td>\n",
              "      <td>0</td>\n",
              "      <td>1</td>\n",
              "      <td>4</td>\n",
              "      <td>14</td>\n",
              "    </tr>\n",
              "    <tr>\n",
              "      <th>אבו סנאן</th>\n",
              "      <td>92</td>\n",
              "      <td>6</td>\n",
              "      <td>4458</td>\n",
              "      <td>0</td>\n",
              "      <td>1</td>\n",
              "      <td>0</td>\n",
              "      <td>16</td>\n",
              "      <td>1</td>\n",
              "      <td>2</td>\n",
              "      <td>13</td>\n",
              "      <td>2</td>\n",
              "      <td>0</td>\n",
              "      <td>1</td>\n",
              "      <td>1</td>\n",
              "      <td>2</td>\n",
              "      <td>230</td>\n",
              "      <td>190</td>\n",
              "      <td>3</td>\n",
              "      <td>2</td>\n",
              "      <td>1</td>\n",
              "      <td>3</td>\n",
              "      <td>3</td>\n",
              "      <td>752</td>\n",
              "      <td>0</td>\n",
              "      <td>2</td>\n",
              "      <td>2</td>\n",
              "      <td>1</td>\n",
              "      <td>2</td>\n",
              "      <td>4</td>\n",
              "      <td>247</td>\n",
              "    </tr>\n",
              "    <tr>\n",
              "      <th>אבו עבדון שבט</th>\n",
              "      <td>0</td>\n",
              "      <td>0</td>\n",
              "      <td>40</td>\n",
              "      <td>0</td>\n",
              "      <td>0</td>\n",
              "      <td>0</td>\n",
              "      <td>0</td>\n",
              "      <td>0</td>\n",
              "      <td>0</td>\n",
              "      <td>0</td>\n",
              "      <td>0</td>\n",
              "      <td>0</td>\n",
              "      <td>0</td>\n",
              "      <td>0</td>\n",
              "      <td>0</td>\n",
              "      <td>0</td>\n",
              "      <td>0</td>\n",
              "      <td>0</td>\n",
              "      <td>0</td>\n",
              "      <td>0</td>\n",
              "      <td>0</td>\n",
              "      <td>0</td>\n",
              "      <td>0</td>\n",
              "      <td>0</td>\n",
              "      <td>0</td>\n",
              "      <td>0</td>\n",
              "      <td>0</td>\n",
              "      <td>0</td>\n",
              "      <td>0</td>\n",
              "      <td>0</td>\n",
              "    </tr>\n",
              "    <tr>\n",
              "      <th>אבו קורינאת שבט</th>\n",
              "      <td>9</td>\n",
              "      <td>0</td>\n",
              "      <td>1263</td>\n",
              "      <td>0</td>\n",
              "      <td>0</td>\n",
              "      <td>0</td>\n",
              "      <td>1</td>\n",
              "      <td>0</td>\n",
              "      <td>0</td>\n",
              "      <td>3</td>\n",
              "      <td>0</td>\n",
              "      <td>0</td>\n",
              "      <td>1</td>\n",
              "      <td>0</td>\n",
              "      <td>0</td>\n",
              "      <td>0</td>\n",
              "      <td>8</td>\n",
              "      <td>0</td>\n",
              "      <td>1</td>\n",
              "      <td>2</td>\n",
              "      <td>1</td>\n",
              "      <td>0</td>\n",
              "      <td>33</td>\n",
              "      <td>0</td>\n",
              "      <td>2</td>\n",
              "      <td>1</td>\n",
              "      <td>0</td>\n",
              "      <td>2</td>\n",
              "      <td>1</td>\n",
              "      <td>0</td>\n",
              "    </tr>\n",
              "    <tr>\n",
              "      <th>...</th>\n",
              "      <td>...</td>\n",
              "      <td>...</td>\n",
              "      <td>...</td>\n",
              "      <td>...</td>\n",
              "      <td>...</td>\n",
              "      <td>...</td>\n",
              "      <td>...</td>\n",
              "      <td>...</td>\n",
              "      <td>...</td>\n",
              "      <td>...</td>\n",
              "      <td>...</td>\n",
              "      <td>...</td>\n",
              "      <td>...</td>\n",
              "      <td>...</td>\n",
              "      <td>...</td>\n",
              "      <td>...</td>\n",
              "      <td>...</td>\n",
              "      <td>...</td>\n",
              "      <td>...</td>\n",
              "      <td>...</td>\n",
              "      <td>...</td>\n",
              "      <td>...</td>\n",
              "      <td>...</td>\n",
              "      <td>...</td>\n",
              "      <td>...</td>\n",
              "      <td>...</td>\n",
              "      <td>...</td>\n",
              "      <td>...</td>\n",
              "      <td>...</td>\n",
              "      <td>...</td>\n",
              "    </tr>\n",
              "    <tr>\n",
              "      <th>תקומה</th>\n",
              "      <td>5</td>\n",
              "      <td>5</td>\n",
              "      <td>0</td>\n",
              "      <td>0</td>\n",
              "      <td>0</td>\n",
              "      <td>0</td>\n",
              "      <td>163</td>\n",
              "      <td>0</td>\n",
              "      <td>0</td>\n",
              "      <td>0</td>\n",
              "      <td>0</td>\n",
              "      <td>0</td>\n",
              "      <td>0</td>\n",
              "      <td>0</td>\n",
              "      <td>0</td>\n",
              "      <td>1</td>\n",
              "      <td>161</td>\n",
              "      <td>1</td>\n",
              "      <td>0</td>\n",
              "      <td>0</td>\n",
              "      <td>2</td>\n",
              "      <td>1</td>\n",
              "      <td>63</td>\n",
              "      <td>0</td>\n",
              "      <td>0</td>\n",
              "      <td>0</td>\n",
              "      <td>0</td>\n",
              "      <td>0</td>\n",
              "      <td>0</td>\n",
              "      <td>12</td>\n",
              "    </tr>\n",
              "    <tr>\n",
              "      <th>תקוע</th>\n",
              "      <td>28</td>\n",
              "      <td>33</td>\n",
              "      <td>3</td>\n",
              "      <td>7</td>\n",
              "      <td>0</td>\n",
              "      <td>0</td>\n",
              "      <td>760</td>\n",
              "      <td>0</td>\n",
              "      <td>0</td>\n",
              "      <td>0</td>\n",
              "      <td>0</td>\n",
              "      <td>0</td>\n",
              "      <td>0</td>\n",
              "      <td>5</td>\n",
              "      <td>1</td>\n",
              "      <td>35</td>\n",
              "      <td>583</td>\n",
              "      <td>2</td>\n",
              "      <td>0</td>\n",
              "      <td>0</td>\n",
              "      <td>29</td>\n",
              "      <td>0</td>\n",
              "      <td>85</td>\n",
              "      <td>2</td>\n",
              "      <td>0</td>\n",
              "      <td>1</td>\n",
              "      <td>0</td>\n",
              "      <td>2</td>\n",
              "      <td>5</td>\n",
              "      <td>34</td>\n",
              "    </tr>\n",
              "    <tr>\n",
              "      <th>תראבין אצאנע שבט</th>\n",
              "      <td>0</td>\n",
              "      <td>0</td>\n",
              "      <td>43</td>\n",
              "      <td>0</td>\n",
              "      <td>1</td>\n",
              "      <td>0</td>\n",
              "      <td>0</td>\n",
              "      <td>0</td>\n",
              "      <td>0</td>\n",
              "      <td>0</td>\n",
              "      <td>0</td>\n",
              "      <td>0</td>\n",
              "      <td>0</td>\n",
              "      <td>0</td>\n",
              "      <td>0</td>\n",
              "      <td>0</td>\n",
              "      <td>0</td>\n",
              "      <td>0</td>\n",
              "      <td>0</td>\n",
              "      <td>0</td>\n",
              "      <td>0</td>\n",
              "      <td>0</td>\n",
              "      <td>4</td>\n",
              "      <td>0</td>\n",
              "      <td>0</td>\n",
              "      <td>0</td>\n",
              "      <td>0</td>\n",
              "      <td>0</td>\n",
              "      <td>0</td>\n",
              "      <td>0</td>\n",
              "    </tr>\n",
              "    <tr>\n",
              "      <th>תראבין אצאנעישוב</th>\n",
              "      <td>0</td>\n",
              "      <td>0</td>\n",
              "      <td>160</td>\n",
              "      <td>0</td>\n",
              "      <td>0</td>\n",
              "      <td>0</td>\n",
              "      <td>0</td>\n",
              "      <td>0</td>\n",
              "      <td>0</td>\n",
              "      <td>1</td>\n",
              "      <td>0</td>\n",
              "      <td>0</td>\n",
              "      <td>0</td>\n",
              "      <td>0</td>\n",
              "      <td>0</td>\n",
              "      <td>0</td>\n",
              "      <td>40</td>\n",
              "      <td>0</td>\n",
              "      <td>1</td>\n",
              "      <td>0</td>\n",
              "      <td>0</td>\n",
              "      <td>0</td>\n",
              "      <td>2</td>\n",
              "      <td>1</td>\n",
              "      <td>0</td>\n",
              "      <td>1</td>\n",
              "      <td>0</td>\n",
              "      <td>0</td>\n",
              "      <td>0</td>\n",
              "      <td>0</td>\n",
              "    </tr>\n",
              "    <tr>\n",
              "      <th>תרום</th>\n",
              "      <td>9</td>\n",
              "      <td>7</td>\n",
              "      <td>0</td>\n",
              "      <td>0</td>\n",
              "      <td>0</td>\n",
              "      <td>0</td>\n",
              "      <td>85</td>\n",
              "      <td>0</td>\n",
              "      <td>0</td>\n",
              "      <td>0</td>\n",
              "      <td>0</td>\n",
              "      <td>0</td>\n",
              "      <td>0</td>\n",
              "      <td>0</td>\n",
              "      <td>0</td>\n",
              "      <td>1</td>\n",
              "      <td>254</td>\n",
              "      <td>1</td>\n",
              "      <td>0</td>\n",
              "      <td>0</td>\n",
              "      <td>2</td>\n",
              "      <td>0</td>\n",
              "      <td>65</td>\n",
              "      <td>0</td>\n",
              "      <td>0</td>\n",
              "      <td>0</td>\n",
              "      <td>0</td>\n",
              "      <td>0</td>\n",
              "      <td>0</td>\n",
              "      <td>47</td>\n",
              "    </tr>\n",
              "  </tbody>\n",
              "</table>\n",
              "<p>1214 rows × 30 columns</p>\n",
              "</div>"
            ],
            "text/plain": [
              "                  אמת   ג  ודעם  ז  זך  זץ   טב  ...  ףז  ץ  ק  קי  קך  קץ   שס\n",
              "שם ישוב                                          ...                           \n",
              "אבו גווייעד שבט    13   0   554  0   0   0    0  ...   2  0  0   0   0   2    2\n",
              "אבו גוש            75   4  2157  0   0   0    5  ...   0  2  0   0   1   4   14\n",
              "אבו סנאן           92   6  4458  0   1   0   16  ...   0  2  2   1   2   4  247\n",
              "אבו עבדון שבט       0   0    40  0   0   0    0  ...   0  0  0   0   0   0    0\n",
              "אבו קורינאת שבט     9   0  1263  0   0   0    1  ...   0  2  1   0   2   1    0\n",
              "...               ...  ..   ... ..  ..  ..  ...  ...  .. .. ..  ..  ..  ..  ...\n",
              "תקומה               5   5     0  0   0   0  163  ...   0  0  0   0   0   0   12\n",
              "תקוע               28  33     3  7   0   0  760  ...   2  0  1   0   2   5   34\n",
              "תראבין אצאנע שבט    0   0    43  0   1   0    0  ...   0  0  0   0   0   0    0\n",
              "תראבין אצאנעישוב    0   0   160  0   0   0    0  ...   1  0  1   0   0   0    0\n",
              "תרום                9   7     0  0   0   0   85  ...   0  0  0   0   0   0   47\n",
              "\n",
              "[1214 rows x 30 columns]"
            ]
          },
          "metadata": {
            "tags": []
          },
          "execution_count": 7
        }
      ]
    },
    {
      "cell_type": "markdown",
      "metadata": {
        "id": "0gsoQa8PctMx"
      },
      "source": [
        "**Create a dictionary of the parties:**"
      ]
    },
    {
      "cell_type": "code",
      "metadata": {
        "id": "uBzyiaHEkjvT"
      },
      "source": [
        "party_names = {\"פה\" : \"כחול לבן\" , \"מחל\" : \"הליכוד\" , \"ודעם\" : \"הרשימה המשותפת\" , \"שס\" : \"שס\" ,\n",
        "               \"ג\" : \"יהדות התורה\",\"אמת\" : \"העבודה גשר מרצ\", \"ל\" : \"ישראל ביתנו\" ,  \"טב\" : \"ימינה\"  }"
      ],
      "execution_count": 8,
      "outputs": []
    },
    {
      "cell_type": "markdown",
      "metadata": {
        "id": "BvQP7wrpjXkL"
      },
      "source": [
        "# **Q1.**"
      ]
    },
    {
      "cell_type": "markdown",
      "metadata": {
        "id": "j-KIIxOrlgtC"
      },
      "source": [
        "**A. a function that create a proportional scatter plot of 2 parties:**"
      ]
    },
    {
      "cell_type": "code",
      "metadata": {
        "id": "E4ReP8E5jVTu",
        "outputId": "b59a9d43-ddeb-4dc7-d911-65252be1a04e",
        "colab": {
          "base_uri": "https://localhost:8080/"
        }
      },
      "source": [
        "def size_scatter_parties(df, party1, party2):     \n",
        "    party_share1 = df[party1] / df['כשרים']         # find the partial share of each party in each city (make vectors)\n",
        "    party_share2 = df[party2] / df[\"כשרים\"]\n",
        "    sizes = (df[\"כשרים\"]/max(df[\"כשרים\"])) *200        # standardize the size of the biggest city = 200\n",
        "    plt.scatter(party_share1, party_share2, s = sizes)    # print(max(sizes)) #making sure the max size is 200, which appears to be true\n",
        "    plt.xlabel(party_names[party1][::-1])           # axis labels as parties names\n",
        "    plt.ylabel(party_names[party2][::-1])\n",
        "    plt.title('Scatter for two parties with sizes')\n",
        "\n",
        "df_2020_raw.drop(['מעטפות חיצוניות'],axis=0)                          # so this row won't be presented as a city\n",
        "print(max(df_2020_raw[\"כשרים\"]/max(df_2020_raw[\"כשרים\"]) *200))     # making sure the max size is 200, which appears to be true\n"
      ],
      "execution_count": 9,
      "outputs": [
        {
          "output_type": "stream",
          "text": [
            "200.0\n"
          ],
          "name": "stdout"
        }
      ]
    },
    {
      "cell_type": "markdown",
      "metadata": {
        "id": "FP0lnxAxloph"
      },
      "source": [
        "**B. Create the plot for each pair we selected:**"
      ]
    },
    {
      "cell_type": "code",
      "metadata": {
        "id": "pcB1Nr6NlsbT",
        "outputId": "232ab6b1-ebff-4664-d002-f509ffc6cd09",
        "colab": {
          "base_uri": "https://localhost:8080/",
          "height": 295
        }
      },
      "source": [
        "size_scatter_parties(df_2020_raw, \"ג\", \"ודעם\")"
      ],
      "execution_count": 10,
      "outputs": [
        {
          "output_type": "display_data",
          "data": {
            "image/png": "[encoded data removed]",
            "text/plain": [
              "<Figure size 432x288 with 1 Axes>"
            ]
          },
          "metadata": {
            "tags": [],
            "needs_background": "light"
          }
        }
      ]
    },
    {
      "cell_type": "markdown",
      "metadata": {
        "id": "YGrrUp7Vdg6i"
      },
      "source": [
        "**In this plot you can see the negative correlation between the parties - all the cities where there is a voting rate for one of these parties, there is no voting rate for the other party.\n",
        "In Israel there are not many cities where the proportion of the Arab population and the proportion of the ultra-Orthodox population are high as well, so the correlation is negative between the parties.**"
      ]
    },
    {
      "cell_type": "code",
      "metadata": {
        "id": "Ed-O9TCPmom3",
        "outputId": "995cbcc4-2a2a-41ea-e30c-7313eeec2146",
        "colab": {
          "base_uri": "https://localhost:8080/",
          "height": 295
        }
      },
      "source": [
        "size_scatter_parties(df_2020_raw, \"פה\", \"מחל\")"
      ],
      "execution_count": 11,
      "outputs": [
        {
          "output_type": "display_data",
          "data": {
            "image/png": "[encoded data removed]",
            "text/plain": [
              "<Figure size 432x288 with 1 Axes>"
            ]
          },
          "metadata": {
            "tags": [],
            "needs_background": "light"
          }
        }
      ]
    },
    {
      "cell_type": "markdown",
      "metadata": {
        "id": "sDFAKTMFezCl"
      },
      "source": [
        "**There is a negative correlation between the two parties. It can be seen that in the large cities the percentage distribution between the parties is relatively equal, and the further away to the edges you can see more small cities with a tendency to vote for only one of the parties.**"
      ]
    },
    {
      "cell_type": "code",
      "metadata": {
        "id": "23grudMhmpjO",
        "outputId": "537b61d0-06ee-4209-9b5e-32af4635655e",
        "colab": {
          "base_uri": "https://localhost:8080/",
          "height": 295
        }
      },
      "source": [
        "size_scatter_parties(df_2020_raw, \"מחל\", \"טב\")"
      ],
      "execution_count": 12,
      "outputs": [
        {
          "output_type": "display_data",
          "data": {
            "image/png": "[encoded data removed]",
            "text/plain": [
              "<Figure size 432x288 with 1 Axes>"
            ]
          },
          "metadata": {
            "tags": [],
            "needs_background": "light"
          }
        }
      ]
    },
    {
      "cell_type": "markdown",
      "metadata": {
        "id": "LT7nR3w3iZgD"
      },
      "source": [
        "**There is a low correlation between these parties.\n",
        "The nature of voters for these parties is relatively similar, so it can be seen that in the big cities there is a greater concentration of voters for the big party - the 'הליכוד' and especially in the small cities you can see a broader vote for the small party among them - 'ימינה'.**"
      ]
    },
    {
      "cell_type": "markdown",
      "metadata": {
        "id": "r8LZnC1MpW8D"
      },
      "source": [
        "# **Q2.**"
      ]
    },
    {
      "cell_type": "markdown",
      "metadata": {
        "id": "1xwIeOCG-ZMP"
      },
      "source": [
        "**A. Computing and Plotting the Correlation Matrix:**"
      ]
    },
    {
      "cell_type": "markdown",
      "metadata": {
        "id": "-N4bUdqWjHeI"
      },
      "source": [
        "**Computing votes share only for parties above a certain threshold, and extracting these parties:**"
      ]
    },
    {
      "cell_type": "code",
      "metadata": {
        "id": "PO99lpk9p1zO"
      },
      "source": [
        "def parties_votes_percents(df, thresh):\n",
        "    par = df.sum().div(df.sum().sum()).sort_values(ascending=False)\n",
        "    return par[par > thresh]\n",
        "\n",
        "top_parties = parties_votes_percents(df_2020, 0.0325)  # finding the top 8 parties\n",
        "par_names = top_parties.keys()"
      ],
      "execution_count": 13,
      "outputs": []
    },
    {
      "cell_type": "markdown",
      "metadata": {
        "id": "h8jP_C0J5uyM"
      },
      "source": [
        "**Creating a Dataframe for the top 8 parties:**"
      ]
    },
    {
      "cell_type": "code",
      "metadata": {
        "id": "Gi4bjYsFjTTz"
      },
      "source": [
        "top_par_df = df_2020_raw[par_names]                                   # dataframe for the top 8 parties\n",
        "top_par_df.columns = top_par_df.columns.to_series().map(party_names)  # changing the colnames to parties names\n",
        "\n",
        "votes_per_city = df_2020_raw['כשרים']\n",
        "top_par_df = top_par_df.div(votes_per_city, axis = 0)                 # calculating voting percents"
      ],
      "execution_count": 14,
      "outputs": []
    },
    {
      "cell_type": "markdown",
      "metadata": {
        "id": "4uh0FxQoljGM"
      },
      "source": [
        "**Computing the correlation matrix:**"
      ]
    },
    {
      "cell_type": "code",
      "metadata": {
        "id": "uae9-J9Tk9RS",
        "outputId": "949ac6af-37ad-4b75-fb5f-aa160bd59559",
        "colab": {
          "base_uri": "https://localhost:8080/",
          "height": 294
        }
      },
      "source": [
        "corr_mat_par = top_par_df.corr().round(3)\n",
        "corr_mat_par"
      ],
      "execution_count": 15,
      "outputs": [
        {
          "output_type": "execute_result",
          "data": {
            "text/html": [
              "<div>\n",
              "<style scoped>\n",
              "    .dataframe tbody tr th:only-of-type {\n",
              "        vertical-align: middle;\n",
              "    }\n",
              "\n",
              "    .dataframe tbody tr th {\n",
              "        vertical-align: top;\n",
              "    }\n",
              "\n",
              "    .dataframe thead th {\n",
              "        text-align: right;\n",
              "    }\n",
              "</style>\n",
              "<table border=\"1\" class=\"dataframe\">\n",
              "  <thead>\n",
              "    <tr style=\"text-align: right;\">\n",
              "      <th></th>\n",
              "      <th>הליכוד</th>\n",
              "      <th>כחול לבן</th>\n",
              "      <th>הרשימה המשותפת</th>\n",
              "      <th>שס</th>\n",
              "      <th>יהדות התורה</th>\n",
              "      <th>העבודה גשר מרצ</th>\n",
              "      <th>ישראל ביתנו</th>\n",
              "      <th>ימינה</th>\n",
              "    </tr>\n",
              "  </thead>\n",
              "  <tbody>\n",
              "    <tr>\n",
              "      <th>הליכוד</th>\n",
              "      <td>1.000</td>\n",
              "      <td>-0.363</td>\n",
              "      <td>-0.407</td>\n",
              "      <td>0.499</td>\n",
              "      <td>-0.036</td>\n",
              "      <td>-0.480</td>\n",
              "      <td>0.097</td>\n",
              "      <td>0.106</td>\n",
              "    </tr>\n",
              "    <tr>\n",
              "      <th>כחול לבן</th>\n",
              "      <td>-0.363</td>\n",
              "      <td>1.000</td>\n",
              "      <td>-0.429</td>\n",
              "      <td>-0.440</td>\n",
              "      <td>-0.276</td>\n",
              "      <td>0.668</td>\n",
              "      <td>0.140</td>\n",
              "      <td>-0.438</td>\n",
              "    </tr>\n",
              "    <tr>\n",
              "      <th>הרשימה המשותפת</th>\n",
              "      <td>-0.407</td>\n",
              "      <td>-0.429</td>\n",
              "      <td>1.000</td>\n",
              "      <td>-0.176</td>\n",
              "      <td>-0.092</td>\n",
              "      <td>-0.256</td>\n",
              "      <td>-0.171</td>\n",
              "      <td>-0.198</td>\n",
              "    </tr>\n",
              "    <tr>\n",
              "      <th>שס</th>\n",
              "      <td>0.499</td>\n",
              "      <td>-0.440</td>\n",
              "      <td>-0.176</td>\n",
              "      <td>1.000</td>\n",
              "      <td>0.338</td>\n",
              "      <td>-0.375</td>\n",
              "      <td>-0.058</td>\n",
              "      <td>0.011</td>\n",
              "    </tr>\n",
              "    <tr>\n",
              "      <th>יהדות התורה</th>\n",
              "      <td>-0.036</td>\n",
              "      <td>-0.276</td>\n",
              "      <td>-0.092</td>\n",
              "      <td>0.338</td>\n",
              "      <td>1.000</td>\n",
              "      <td>-0.206</td>\n",
              "      <td>-0.078</td>\n",
              "      <td>0.095</td>\n",
              "    </tr>\n",
              "    <tr>\n",
              "      <th>העבודה גשר מרצ</th>\n",
              "      <td>-0.480</td>\n",
              "      <td>0.668</td>\n",
              "      <td>-0.256</td>\n",
              "      <td>-0.375</td>\n",
              "      <td>-0.206</td>\n",
              "      <td>1.000</td>\n",
              "      <td>0.016</td>\n",
              "      <td>-0.361</td>\n",
              "    </tr>\n",
              "    <tr>\n",
              "      <th>ישראל ביתנו</th>\n",
              "      <td>0.097</td>\n",
              "      <td>0.140</td>\n",
              "      <td>-0.171</td>\n",
              "      <td>-0.058</td>\n",
              "      <td>-0.078</td>\n",
              "      <td>0.016</td>\n",
              "      <td>1.000</td>\n",
              "      <td>-0.181</td>\n",
              "    </tr>\n",
              "    <tr>\n",
              "      <th>ימינה</th>\n",
              "      <td>0.106</td>\n",
              "      <td>-0.438</td>\n",
              "      <td>-0.198</td>\n",
              "      <td>0.011</td>\n",
              "      <td>0.095</td>\n",
              "      <td>-0.361</td>\n",
              "      <td>-0.181</td>\n",
              "      <td>1.000</td>\n",
              "    </tr>\n",
              "  </tbody>\n",
              "</table>\n",
              "</div>"
            ],
            "text/plain": [
              "                הליכוד  כחול לבן  ...  ישראל ביתנו  ימינה\n",
              "הליכוד           1.000    -0.363  ...        0.097  0.106\n",
              "כחול לבן        -0.363     1.000  ...        0.140 -0.438\n",
              "הרשימה המשותפת  -0.407    -0.429  ...       -0.171 -0.198\n",
              "שס               0.499    -0.440  ...       -0.058  0.011\n",
              "יהדות התורה     -0.036    -0.276  ...       -0.078  0.095\n",
              "העבודה גשר מרצ  -0.480     0.668  ...        0.016 -0.361\n",
              "ישראל ביתנו      0.097     0.140  ...        1.000 -0.181\n",
              "ימינה            0.106    -0.438  ...       -0.181  1.000\n",
              "\n",
              "[8 rows x 8 columns]"
            ]
          },
          "metadata": {
            "tags": []
          },
          "execution_count": 15
        }
      ]
    },
    {
      "cell_type": "markdown",
      "metadata": {
        "id": "l8-eaGoIjSGk"
      },
      "source": [
        "**A function that creates the heatmap:**"
      ]
    },
    {
      "cell_type": "code",
      "metadata": {
        "id": "4aNbjVONXBHb"
      },
      "source": [
        "def heatmap_corr(corr_mat, names):\n",
        "    rev_names = [name[::-1] for name in list(names)]\n",
        "    fig, ax = plt.subplots()\n",
        "    im = ax.imshow(corr_mat, cmap=plt.get_cmap('Blues'))\n",
        "    n = corr_mat.shape[0]  # get number of variables \n",
        "    ax.set_xticks(np.arange(n))\n",
        "    ax.set_yticks(np.arange(n))\n",
        "    #ax.set_xticklabels(rev_names)\n",
        "    #ax.set_yticklabels(rev_names)\n",
        "    if (list(corr_mat.index))[-1] == 'הרשימה המשותפת':\n",
        "       ax.set_title('Party Pearson correlation heat map - Parties orderd by political agenda')\n",
        "       ax.set_xticklabels(['הנימי','דוכילה','סש','הרותה תודהי','ונתיב לארשי', 'ןבל לוחכ','צרמ רשג הדובעה', 'תפתושמה המישרה'])\n",
        "       ax.set_yticklabels(['הנימי','דוכילה','סש','הרותה תודהי','ונתיב לארשי', 'ןבל לוחכ','צרמ רשג הדובעה', 'תפתושמה המישרה'])\n",
        "    else:\n",
        "        ax.set_title('Party Pearson correlation heat map - Parties orderd by size')\n",
        "        ax.set_xticklabels(['דוכילה','ןבל לוחכ','תפתושמה המישרה', 'סש','הרותה תודהי','ונתיב לארשי','צרמ רשג הדובעה','הנימי'])\n",
        "        ax.set_yticklabels(['דוכילה','ןבל לוחכ','תפתושמה המישרה', 'סש','הרותה תודהי' ,'ונתיב לארשי','צרמ רשג הדובעה','הנימי'])\n",
        "\n",
        "    ax.set_title(\"Parties pairwise correlations\")\n",
        "    plt.setp(ax.get_xticklabels(), rotation=45, ha=\"right\",rotation_mode=\"anchor\")\n",
        "    # Create colorbar\n",
        "    cbar = ax.figure.colorbar(im, ax=ax) #  **cbar_kw)\n",
        "    cbar.ax.set_ylabel('votes correlation', rotation=-90, va=\"bottom\")"
      ],
      "execution_count": 16,
      "outputs": []
    },
    {
      "cell_type": "markdown",
      "metadata": {
        "id": "MrD-i4mjj1Ki"
      },
      "source": [
        "**Heatmap of the parties ordered by size:**"
      ]
    },
    {
      "cell_type": "code",
      "metadata": {
        "id": "MDsCW96Uq0kq",
        "outputId": "6faaf909-c131-4ebb-915e-a3942dce4aa9",
        "colab": {
          "base_uri": "https://localhost:8080/",
          "height": 335
        }
      },
      "source": [
        "heatmap_corr(corr_mat_par, list(corr_mat_par.columns))"
      ],
      "execution_count": 17,
      "outputs": [
        {
          "output_type": "display_data",
          "data": {
            "image/png": "[encoded data removed]",
            "text/plain": [
              "<Figure size 432x288 with 2 Axes>"
            ]
          },
          "metadata": {
            "tags": [],
            "needs_background": "light"
          }
        }
      ]
    },
    {
      "cell_type": "markdown",
      "metadata": {
        "id": "lLtr1aKhktXN"
      },
      "source": [
        "**There is no particular pattern of correlations between the parties according to their size. There are some connections between certain parties but not something consistent.**"
      ]
    },
    {
      "cell_type": "markdown",
      "metadata": {
        "id": "pzIHN-a7kBhu"
      },
      "source": [
        "**B. Heatmap of the parties - ordered by political agenda**"
      ]
    },
    {
      "cell_type": "code",
      "metadata": {
        "id": "_yqV17P8sfTj",
        "outputId": "9d513aba-e1ca-4491-98c2-4060736f2bfa",
        "colab": {
          "base_uri": "https://localhost:8080/",
          "height": 335
        }
      },
      "source": [
        "# changing the columns order by the political agenda\n",
        "df_political = copy.deepcopy(top_par_df)\n",
        "df_political = pd.DataFrame({\"ימינה\": df_political[\"ימינה\"],\"הליכוד\": df_political[\"הליכוד\"],\"שס\": df_political[\"שס\"],\"יהדות התורה\": df_political[\"יהדות התורה\"],\"ישראל ביתנו\": df_political[\"ישראל ביתנו\"],\"כחול לבן\": df_political[\"כחול לבן\"],\"העבודה גשר מרצ\": df_political[\"העבודה גשר מרצ\"],\"הרשימה המשותפת\": df_political[\"הרשימה המשותפת\"]})\n",
        "corr_mat_pol = df_political.corr().round(3)\n",
        "heatmap_corr(corr_mat_pol,list(corr_mat_pol))"
      ],
      "execution_count": 18,
      "outputs": [
        {
          "output_type": "display_data",
          "data": {
            "image/png": "[encoded data removed]",
            "text/plain": [
              "<Figure size 432x288 with 2 Axes>"
            ]
          },
          "metadata": {
            "tags": [],
            "needs_background": "light"
          }
        }
      ]
    },
    {
      "cell_type": "markdown",
      "metadata": {
        "id": "nLeSNAKHlK1l"
      },
      "source": [
        "**In this order, the map of Israel's blocks can be clearly seen.**\n",
        "**In the corner is the 'הרשימה המשותפת' that is not coordinated with any other party. Two relatively dark squares of the right block and the left block can be identified. In the middle is 'ישראל ביתנו', which according to the correlation coefficients is not in any of the blocks.**"
      ]
    },
    {
      "cell_type": "markdown",
      "metadata": {
        "id": "UthZTt5t8uMx"
      },
      "source": [
        "# **Q3.**"
      ]
    },
    {
      "cell_type": "markdown",
      "metadata": {
        "id": "6C8b5rzE_ubs"
      },
      "source": [
        "**A. Fixed number of votes:**"
      ]
    },
    {
      "cell_type": "markdown",
      "metadata": {
        "id": "5oW-JoJm_04B"
      },
      "source": [
        "**Distribution of all data in relation 'בעלי זכות בחירה'/ 'כשרים' :**"
      ]
    },
    {
      "cell_type": "code",
      "metadata": {
        "id": "kxcWpZoGaWvo"
      },
      "source": [
        "votes_ratio = df_2020_raw['כשרים'].div(df_2020_raw['בזב'])\n",
        "\n",
        "fixed_votes = pd.DataFrame(copy.deepcopy(df_2020))\n",
        "fixed_votes = fixed_votes.div(votes_ratio,axis=0)"
      ],
      "execution_count": 19,
      "outputs": []
    },
    {
      "cell_type": "markdown",
      "metadata": {
        "id": "rHI8bWIMAW7u"
      },
      "source": [
        "**Calculating the fixed voting percents and the actual voting percents, and extracting the 8 top parties for the Barplot**"
      ]
    },
    {
      "cell_type": "code",
      "metadata": {
        "id": "pehcIWlqOaZq"
      },
      "source": [
        "def parties_votes_percents(df, thresh):\n",
        "    par = df.sum().div(df.sum().sum()).sort_values(ascending=False)\n",
        "    return par[par > thresh]\n",
        "\n",
        "fixed_total = parties_votes_percents(fixed_votes, 0.0325)  # total votes for each party\n",
        "israel_total = parties_votes_percents(df_2020, 0.0325)"
      ],
      "execution_count": 20,
      "outputs": []
    },
    {
      "cell_type": "markdown",
      "metadata": {
        "id": "2Y1jUCHHAmo3"
      },
      "source": [
        "**A function for the comparison betweem the voting percents:**"
      ]
    },
    {
      "cell_type": "code",
      "metadata": {
        "id": "lPUVbHDCofMr"
      },
      "source": [
        "def parties_bar(city1, city2):\n",
        "    width = 0.3  # set column width\n",
        "    n = len(city1)  # number of parties\n",
        "    names = party_names.values()\n",
        "    rev_names = [name[::-1] for name in list(names)]\n",
        "    fig, ax = plt.subplots()  # plt.subplots()\n",
        "\n",
        "    city1_bar = ax.bar(np.arange(n), list(city1), width, color='r')\n",
        "    city2_bar = ax.bar(np.arange(n) + width, list(city2), width, color='b')\n",
        "\n",
        "    ax.set_ylabel('Votes percent')\n",
        "    ax.set_xlabel('Parties Names')\n",
        "    ax.set_title('Votes percent per party 2020')\n",
        "    ax.set_xticks(np.arange(n))\n",
        "    ax.set_xticklabels(rev_names)\n",
        "    plt.setp(ax.get_xticklabels(), rotation=45, ha=\"right\",rotation_mode=\"anchor\")\n",
        "\n",
        "    ax.legend((city1_bar[0], city2_bar[0]), ('Reality Percents','Fixed Percents'))\n",
        "    plt.show()\n",
        "\n",
        "    return fig, ax"
      ],
      "execution_count": 21,
      "outputs": []
    },
    {
      "cell_type": "markdown",
      "metadata": {
        "id": "VHxSK6rVA6H7"
      },
      "source": [
        "**The comparison barplot:**"
      ]
    },
    {
      "cell_type": "code",
      "metadata": {
        "id": "ZqlvgG_IhkBQ",
        "outputId": "0e3c26b8-f647-4c84-8c31-36e032e758c5",
        "colab": {
          "base_uri": "https://localhost:8080/",
          "height": 349
        }
      },
      "source": [
        "fig, ax = parties_bar(israel_total,fixed_total)"
      ],
      "execution_count": 22,
      "outputs": [
        {
          "output_type": "display_data",
          "data": {
            "image/png": "[encoded data removed]",
            "text/plain": [
              "<Figure size 432x288 with 1 Axes>"
            ]
          },
          "metadata": {
            "tags": [],
            "needs_background": "light"
          }
        }
      ]
    },
    {
      "cell_type": "markdown",
      "metadata": {
        "id": "v3aqUQZFuIrK"
      },
      "source": [
        "**The Plot shows that the \"הרשימה המשותפת\", which is characterized by the fact that most of its voters are from the Arab population in Israel, receives significant additional weight in the fixed percents, which corresponds to the reality in which the voting percents in Arab cities is low.\n",
        "The \"הרשימה המשותפת\" receives an additional percentage of votes (and thus probably seats) at the expense of parties such as \"הליכוד\" and \"ימינה\" which have votes from cities with high voting percents.**"
      ]
    },
    {
      "cell_type": "markdown",
      "metadata": {
        "id": "DuUfA-rnufRb"
      },
      "source": [
        "**B.**"
      ]
    },
    {
      "cell_type": "markdown",
      "metadata": {
        "id": "DxTpltqMBcwD"
      },
      "source": [
        "**Import the Ballots data:**"
      ]
    },
    {
      "cell_type": "code",
      "metadata": {
        "id": "nXzQs35XpyGh",
        "outputId": "8bc41cb1-be56-4ad2-df4d-ca3197aded4c",
        "colab": {
          "base_uri": "https://localhost:8080/",
          "height": 233
        }
      },
      "source": [
        "df_2020_ballots_raw = pd.read_csv(io.BytesIO(uploaded['votes per ballot 2020.csv']),  encoding = 'iso-8859-8', index_col='שם ישוב')\n",
        "df_2020_ballots = df_2020_ballots_raw.drop('סמל ועדה', axis=1) # new column added in Sep 2019\n",
        "df_2020_ballots = df_2020_ballots[df_2020_ballots.columns[9:]] # removing \"metadata\" columns\n",
        "df_2020_ballots = df_2020_ballots.drop(['זץ'],axis =1)\n",
        "df_2020_ballots.head()"
      ],
      "execution_count": 23,
      "outputs": [
        {
          "output_type": "execute_result",
          "data": {
            "text/html": [
              "<div>\n",
              "<style scoped>\n",
              "    .dataframe tbody tr th:only-of-type {\n",
              "        vertical-align: middle;\n",
              "    }\n",
              "\n",
              "    .dataframe tbody tr th {\n",
              "        vertical-align: top;\n",
              "    }\n",
              "\n",
              "    .dataframe thead th {\n",
              "        text-align: right;\n",
              "    }\n",
              "</style>\n",
              "<table border=\"1\" class=\"dataframe\">\n",
              "  <thead>\n",
              "    <tr style=\"text-align: right;\">\n",
              "      <th></th>\n",
              "      <th>אמת</th>\n",
              "      <th>ג</th>\n",
              "      <th>ודעם</th>\n",
              "      <th>ז</th>\n",
              "      <th>זך</th>\n",
              "      <th>טב</th>\n",
              "      <th>י</th>\n",
              "      <th>יז</th>\n",
              "      <th>ינ</th>\n",
              "      <th>יף</th>\n",
              "      <th>יק</th>\n",
              "      <th>יר</th>\n",
              "      <th>כ</th>\n",
              "      <th>כן</th>\n",
              "      <th>ל</th>\n",
              "      <th>מחל</th>\n",
              "      <th>נ</th>\n",
              "      <th>נז</th>\n",
              "      <th>ני</th>\n",
              "      <th>נץ</th>\n",
              "      <th>נק</th>\n",
              "      <th>פה</th>\n",
              "      <th>ףז</th>\n",
              "      <th>ץ</th>\n",
              "      <th>ק</th>\n",
              "      <th>קי</th>\n",
              "      <th>קך</th>\n",
              "      <th>קץ</th>\n",
              "      <th>שס</th>\n",
              "    </tr>\n",
              "    <tr>\n",
              "      <th>שם ישוב</th>\n",
              "      <th></th>\n",
              "      <th></th>\n",
              "      <th></th>\n",
              "      <th></th>\n",
              "      <th></th>\n",
              "      <th></th>\n",
              "      <th></th>\n",
              "      <th></th>\n",
              "      <th></th>\n",
              "      <th></th>\n",
              "      <th></th>\n",
              "      <th></th>\n",
              "      <th></th>\n",
              "      <th></th>\n",
              "      <th></th>\n",
              "      <th></th>\n",
              "      <th></th>\n",
              "      <th></th>\n",
              "      <th></th>\n",
              "      <th></th>\n",
              "      <th></th>\n",
              "      <th></th>\n",
              "      <th></th>\n",
              "      <th></th>\n",
              "      <th></th>\n",
              "      <th></th>\n",
              "      <th></th>\n",
              "      <th></th>\n",
              "      <th></th>\n",
              "    </tr>\n",
              "  </thead>\n",
              "  <tbody>\n",
              "    <tr>\n",
              "      <th>אבו גווייעד שבט</th>\n",
              "      <td>2</td>\n",
              "      <td>0</td>\n",
              "      <td>112</td>\n",
              "      <td>0</td>\n",
              "      <td>0</td>\n",
              "      <td>0</td>\n",
              "      <td>0</td>\n",
              "      <td>0</td>\n",
              "      <td>0</td>\n",
              "      <td>0</td>\n",
              "      <td>0</td>\n",
              "      <td>0</td>\n",
              "      <td>0</td>\n",
              "      <td>0</td>\n",
              "      <td>0</td>\n",
              "      <td>1</td>\n",
              "      <td>0</td>\n",
              "      <td>0</td>\n",
              "      <td>0</td>\n",
              "      <td>0</td>\n",
              "      <td>0</td>\n",
              "      <td>6</td>\n",
              "      <td>1</td>\n",
              "      <td>0</td>\n",
              "      <td>0</td>\n",
              "      <td>0</td>\n",
              "      <td>0</td>\n",
              "      <td>0</td>\n",
              "      <td>2</td>\n",
              "    </tr>\n",
              "    <tr>\n",
              "      <th>אבו גווייעד שבט</th>\n",
              "      <td>6</td>\n",
              "      <td>0</td>\n",
              "      <td>235</td>\n",
              "      <td>0</td>\n",
              "      <td>0</td>\n",
              "      <td>0</td>\n",
              "      <td>0</td>\n",
              "      <td>0</td>\n",
              "      <td>0</td>\n",
              "      <td>0</td>\n",
              "      <td>0</td>\n",
              "      <td>0</td>\n",
              "      <td>0</td>\n",
              "      <td>1</td>\n",
              "      <td>0</td>\n",
              "      <td>2</td>\n",
              "      <td>0</td>\n",
              "      <td>1</td>\n",
              "      <td>0</td>\n",
              "      <td>0</td>\n",
              "      <td>0</td>\n",
              "      <td>0</td>\n",
              "      <td>0</td>\n",
              "      <td>0</td>\n",
              "      <td>0</td>\n",
              "      <td>0</td>\n",
              "      <td>0</td>\n",
              "      <td>2</td>\n",
              "      <td>0</td>\n",
              "    </tr>\n",
              "    <tr>\n",
              "      <th>אבו גווייעד שבט</th>\n",
              "      <td>5</td>\n",
              "      <td>0</td>\n",
              "      <td>207</td>\n",
              "      <td>0</td>\n",
              "      <td>0</td>\n",
              "      <td>0</td>\n",
              "      <td>0</td>\n",
              "      <td>1</td>\n",
              "      <td>0</td>\n",
              "      <td>0</td>\n",
              "      <td>0</td>\n",
              "      <td>0</td>\n",
              "      <td>0</td>\n",
              "      <td>0</td>\n",
              "      <td>1</td>\n",
              "      <td>1</td>\n",
              "      <td>0</td>\n",
              "      <td>0</td>\n",
              "      <td>0</td>\n",
              "      <td>0</td>\n",
              "      <td>0</td>\n",
              "      <td>2</td>\n",
              "      <td>1</td>\n",
              "      <td>0</td>\n",
              "      <td>0</td>\n",
              "      <td>0</td>\n",
              "      <td>0</td>\n",
              "      <td>0</td>\n",
              "      <td>0</td>\n",
              "    </tr>\n",
              "    <tr>\n",
              "      <th>אבו גוש</th>\n",
              "      <td>15</td>\n",
              "      <td>1</td>\n",
              "      <td>229</td>\n",
              "      <td>0</td>\n",
              "      <td>0</td>\n",
              "      <td>0</td>\n",
              "      <td>0</td>\n",
              "      <td>0</td>\n",
              "      <td>1</td>\n",
              "      <td>0</td>\n",
              "      <td>0</td>\n",
              "      <td>1</td>\n",
              "      <td>0</td>\n",
              "      <td>0</td>\n",
              "      <td>0</td>\n",
              "      <td>32</td>\n",
              "      <td>0</td>\n",
              "      <td>0</td>\n",
              "      <td>0</td>\n",
              "      <td>0</td>\n",
              "      <td>0</td>\n",
              "      <td>11</td>\n",
              "      <td>0</td>\n",
              "      <td>0</td>\n",
              "      <td>0</td>\n",
              "      <td>0</td>\n",
              "      <td>0</td>\n",
              "      <td>0</td>\n",
              "      <td>2</td>\n",
              "    </tr>\n",
              "    <tr>\n",
              "      <th>אבו גוש</th>\n",
              "      <td>6</td>\n",
              "      <td>0</td>\n",
              "      <td>330</td>\n",
              "      <td>0</td>\n",
              "      <td>0</td>\n",
              "      <td>0</td>\n",
              "      <td>0</td>\n",
              "      <td>0</td>\n",
              "      <td>2</td>\n",
              "      <td>0</td>\n",
              "      <td>0</td>\n",
              "      <td>0</td>\n",
              "      <td>0</td>\n",
              "      <td>0</td>\n",
              "      <td>2</td>\n",
              "      <td>23</td>\n",
              "      <td>0</td>\n",
              "      <td>0</td>\n",
              "      <td>0</td>\n",
              "      <td>0</td>\n",
              "      <td>0</td>\n",
              "      <td>18</td>\n",
              "      <td>0</td>\n",
              "      <td>0</td>\n",
              "      <td>0</td>\n",
              "      <td>0</td>\n",
              "      <td>0</td>\n",
              "      <td>1</td>\n",
              "      <td>0</td>\n",
              "    </tr>\n",
              "  </tbody>\n",
              "</table>\n",
              "</div>"
            ],
            "text/plain": [
              "                 אמת  ג  ודעם  ז  זך  טב  י  יז  ...  פה  ףז  ץ  ק  קי  קך  קץ  שס\n",
              "שם ישוב                                          ...                              \n",
              "אבו גווייעד שבט    2  0   112  0   0   0  0   0  ...   6   1  0  0   0   0   0   2\n",
              "אבו גווייעד שבט    6  0   235  0   0   0  0   0  ...   0   0  0  0   0   0   2   0\n",
              "אבו גווייעד שבט    5  0   207  0   0   0  0   1  ...   2   1  0  0   0   0   0   0\n",
              "אבו גוש           15  1   229  0   0   0  0   0  ...  11   0  0  0   0   0   0   2\n",
              "אבו גוש            6  0   330  0   0   0  0   0  ...  18   0  0  0   0   0   1   0\n",
              "\n",
              "[5 rows x 29 columns]"
            ]
          },
          "metadata": {
            "tags": []
          },
          "execution_count": 23
        }
      ]
    },
    {
      "cell_type": "markdown",
      "metadata": {
        "id": "41-CLUP_BuX5"
      },
      "source": [
        " **Applying the same comparison we made to the cities also to the ballots:**"
      ]
    },
    {
      "cell_type": "code",
      "metadata": {
        "id": "c_yMuYL2t486",
        "outputId": "a8eb51c6-17b6-43c8-e32c-56c9aa3b7779",
        "colab": {
          "base_uri": "https://localhost:8080/",
          "height": 349
        }
      },
      "source": [
        "votes_ratio_ballots = df_2020_ballots_raw['כשרים'].div(df_2020_ballots_raw['בזב'])\n",
        "\n",
        "fixed_votes_b = pd.DataFrame(copy.deepcopy(df_2020_ballots))\n",
        "fixed_votes_b = fixed_votes_b.div(votes_ratio_ballots,axis=0)\n",
        "\n",
        "fixed_total_b = parties_votes_percents(fixed_votes_b, 0.0325)\n",
        "israel_total_b = parties_votes_percents(df_2020_ballots, 0.0325)\n",
        "\n",
        "\n",
        "fig, ax = parties_bar(israel_total_b,fixed_total_b)"
      ],
      "execution_count": 24,
      "outputs": [
        {
          "output_type": "display_data",
          "data": {
            "image/png": "[encoded data removed]",
            "text/plain": [
              "<Figure size 432x288 with 1 Axes>"
            ]
          },
          "metadata": {
            "tags": [],
            "needs_background": "light"
          }
        }
      ]
    },
    {
      "cell_type": "markdown",
      "metadata": {
        "id": "oEoOTX6Wg68H"
      },
      "source": [
        "**The conclusions drawn from this plot are identical to those of the previous plot, except that now the change in the percentage of votes in Arab citis is even more significant, as is the case for the \"יהדות התורה\" party, which in the previous plot seemed small and insignificant.**\n",
        "\n",
        "**It can be seen that in the two tests there are minor differences between the corrected percentages and the actual percentages.\n",
        "In conclusion, we can't say that if there were 100% of voting the elections results would be significantly different.**"
      ]
    }
  ]
}
