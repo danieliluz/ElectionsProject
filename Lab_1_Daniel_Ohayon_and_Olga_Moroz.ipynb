{
  "nbformat": 4,
  "nbformat_minor": 0,
  "metadata": {
    "colab": {
      "name": "Lab 1 - Daniel Ohayon and Olga Moroz.ipynb",
      "provenance": [],
      "collapsed_sections": []
    },
    "kernelspec": {
      "name": "python3",
      "display_name": "Python 3"
    }
  },
  "cells": [
    {
      "cell_type": "markdown",
      "metadata": {
        "id": "lyQ45Phps6Z6"
      },
      "source": [
        "# **Israel Elections Data Analysis - Lab 1:**\n"
      ]
    },
    {
      "cell_type": "markdown",
      "metadata": {
        "id": "9kZR6x5RDc7m"
      },
      "source": [
        "**Daniel Ohayon - ID: 315453027**\n",
        "\n",
        "**Olga Moroz - ID: 324756568** "
      ]
    },
    {
      "cell_type": "code",
      "metadata": {
        "id": "eRKSr5EstAUm"
      },
      "source": [
        "import numpy as np  # a module for working with numerical array \n",
        "import pandas as pd  # a module for working with data-frames\n",
        "import os\n",
        "import io\n",
        "from matplotlib import pyplot as plt\n",
        "import copy\n",
        "%matplotlib inline \n"
      ],
      "execution_count": 10,
      "outputs": []
    },
    {
      "cell_type": "markdown",
      "metadata": {
        "id": "pGTS_zCRZGfV"
      },
      "source": [
        "Mounting our local drive to the colab network:"
      ]
    },
    {
      "cell_type": "code",
      "metadata": {
        "id": "RWSJpsyKqHjH",
        "outputId": "6e81670d-cbf0-47e8-df58-d95056593dac",
        "colab": {
          "base_uri": "https://localhost:8080/",
          "height": 35
        }
      },
      "source": [
        "from google.colab import drive\n",
        "drive.mount('/content/drive')"
      ],
      "execution_count": 11,
      "outputs": [
        {
          "output_type": "stream",
          "text": [
            "Drive already mounted at /content/drive; to attempt to forcibly remount, call drive.mount(\"/content/drive\", force_remount=True).\n"
          ],
          "name": "stdout"
        }
      ]
    },
    {
      "cell_type": "markdown",
      "metadata": {
        "id": "4hVrzCYd2KRr"
      },
      "source": [
        "Loading elections 2020 elections data:\n"
      ]
    },
    {
      "cell_type": "code",
      "metadata": {
        "id": "y8AxOlzl1LNN",
        "outputId": "4f00c64e-7cde-47f7-c416-e11e54dbff5c",
        "colab": {
          "resources": {
            "http://localhost:8080/nbextensions/google.colab/files.js": {
              "data": "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",
              "ok": true,
              "headers": [
                [
                  "content-type",
                  "application/javascript"
                ]
              ],
              "status": 200,
              "status_text": ""
            }
          },
          "base_uri": "https://localhost:8080/",
          "height": 73
        }
      },
      "source": [
        "from google.colab import files\n",
        "uploaded = files.upload()"
      ],
      "execution_count": 12,
      "outputs": [
        {
          "output_type": "display_data",
          "data": {
            "text/html": [
              "\n",
              "     <input type=\"file\" id=\"files-e674750a-6e53-4b5d-952e-ca583802c800\" name=\"files[]\" multiple disabled\n",
              "        style=\"border:none\" />\n",
              "     <output id=\"result-e674750a-6e53-4b5d-952e-ca583802c800\">\n",
              "      Upload widget is only available when the cell has been executed in the\n",
              "      current browser session. Please rerun this cell to enable.\n",
              "      </output>\n",
              "      <script src=\"/nbextensions/google.colab/files.js\"></script> "
            ],
            "text/plain": [
              "<IPython.core.display.HTML object>"
            ]
          },
          "metadata": {
            "tags": []
          }
        },
        {
          "output_type": "stream",
          "text": [
            "Saving votes per city 2020.csv to votes per city 2020 (1).csv\n"
          ],
          "name": "stdout"
        }
      ]
    },
    {
      "cell_type": "code",
      "metadata": {
        "id": "QxK5YlBH1geD",
        "outputId": "8215a60e-6a10-41e7-e951-be72b560a903",
        "colab": {
          "base_uri": "https://localhost:8080/",
          "height": 409
        }
      },
      "source": [
        "df_2020_raw = pd.read_csv(io.BytesIO(uploaded['votes per city 2020.csv']),  encoding = 'iso-8859-8', index_col=['שם ישוב']).sort_index()\n",
        "# Dataset is now stored in a Pandas Dataframe\n",
        "df_2020_raw.head()"
      ],
      "execution_count": 13,
      "outputs": [
        {
          "output_type": "execute_result",
          "data": {
            "text/html": [
              "<div>\n",
              "<style scoped>\n",
              "    .dataframe tbody tr th:only-of-type {\n",
              "        vertical-align: middle;\n",
              "    }\n",
              "\n",
              "    .dataframe tbody tr th {\n",
              "        vertical-align: top;\n",
              "    }\n",
              "\n",
              "    .dataframe thead th {\n",
              "        text-align: right;\n",
              "    }\n",
              "</style>\n",
              "<table border=\"1\" class=\"dataframe\">\n",
              "  <thead>\n",
              "    <tr style=\"text-align: right;\">\n",
              "      <th></th>\n",
              "      <th>סמל ועדה</th>\n",
              "      <th>סמל ישוב</th>\n",
              "      <th>בזב</th>\n",
              "      <th>מצביעים</th>\n",
              "      <th>פסולים</th>\n",
              "      <th>כשרים</th>\n",
              "      <th>אמת</th>\n",
              "      <th>ג</th>\n",
              "      <th>ודעם</th>\n",
              "      <th>ז</th>\n",
              "      <th>זך</th>\n",
              "      <th>זץ</th>\n",
              "      <th>טב</th>\n",
              "      <th>י</th>\n",
              "      <th>יז</th>\n",
              "      <th>ינ</th>\n",
              "      <th>יף</th>\n",
              "      <th>יק</th>\n",
              "      <th>יר</th>\n",
              "      <th>כ</th>\n",
              "      <th>כן</th>\n",
              "      <th>ל</th>\n",
              "      <th>מחל</th>\n",
              "      <th>נ</th>\n",
              "      <th>נז</th>\n",
              "      <th>ני</th>\n",
              "      <th>נץ</th>\n",
              "      <th>נק</th>\n",
              "      <th>פה</th>\n",
              "      <th>ףז</th>\n",
              "      <th>ץ</th>\n",
              "      <th>ק</th>\n",
              "      <th>קי</th>\n",
              "      <th>קך</th>\n",
              "      <th>קץ</th>\n",
              "      <th>שס</th>\n",
              "      <th>Unnamed: 37</th>\n",
              "    </tr>\n",
              "    <tr>\n",
              "      <th>שם ישוב</th>\n",
              "      <th></th>\n",
              "      <th></th>\n",
              "      <th></th>\n",
              "      <th></th>\n",
              "      <th></th>\n",
              "      <th></th>\n",
              "      <th></th>\n",
              "      <th></th>\n",
              "      <th></th>\n",
              "      <th></th>\n",
              "      <th></th>\n",
              "      <th></th>\n",
              "      <th></th>\n",
              "      <th></th>\n",
              "      <th></th>\n",
              "      <th></th>\n",
              "      <th></th>\n",
              "      <th></th>\n",
              "      <th></th>\n",
              "      <th></th>\n",
              "      <th></th>\n",
              "      <th></th>\n",
              "      <th></th>\n",
              "      <th></th>\n",
              "      <th></th>\n",
              "      <th></th>\n",
              "      <th></th>\n",
              "      <th></th>\n",
              "      <th></th>\n",
              "      <th></th>\n",
              "      <th></th>\n",
              "      <th></th>\n",
              "      <th></th>\n",
              "      <th></th>\n",
              "      <th></th>\n",
              "      <th></th>\n",
              "      <th></th>\n",
              "    </tr>\n",
              "  </thead>\n",
              "  <tbody>\n",
              "    <tr>\n",
              "      <th>אבו גווייעד שבט</th>\n",
              "      <td>18</td>\n",
              "      <td>967</td>\n",
              "      <td>2018</td>\n",
              "      <td>595</td>\n",
              "      <td>6</td>\n",
              "      <td>589</td>\n",
              "      <td>13</td>\n",
              "      <td>0</td>\n",
              "      <td>554</td>\n",
              "      <td>0</td>\n",
              "      <td>0</td>\n",
              "      <td>0</td>\n",
              "      <td>0</td>\n",
              "      <td>0</td>\n",
              "      <td>1</td>\n",
              "      <td>0</td>\n",
              "      <td>0</td>\n",
              "      <td>0</td>\n",
              "      <td>0</td>\n",
              "      <td>0</td>\n",
              "      <td>1</td>\n",
              "      <td>1</td>\n",
              "      <td>4</td>\n",
              "      <td>0</td>\n",
              "      <td>1</td>\n",
              "      <td>0</td>\n",
              "      <td>0</td>\n",
              "      <td>0</td>\n",
              "      <td>8</td>\n",
              "      <td>2</td>\n",
              "      <td>0</td>\n",
              "      <td>0</td>\n",
              "      <td>0</td>\n",
              "      <td>0</td>\n",
              "      <td>2</td>\n",
              "      <td>2</td>\n",
              "      <td>NaN</td>\n",
              "    </tr>\n",
              "    <tr>\n",
              "      <th>אבו גוש</th>\n",
              "      <td>2</td>\n",
              "      <td>472</td>\n",
              "      <td>4821</td>\n",
              "      <td>2718</td>\n",
              "      <td>36</td>\n",
              "      <td>2682</td>\n",
              "      <td>75</td>\n",
              "      <td>4</td>\n",
              "      <td>2157</td>\n",
              "      <td>0</td>\n",
              "      <td>0</td>\n",
              "      <td>0</td>\n",
              "      <td>5</td>\n",
              "      <td>0</td>\n",
              "      <td>0</td>\n",
              "      <td>5</td>\n",
              "      <td>1</td>\n",
              "      <td>0</td>\n",
              "      <td>1</td>\n",
              "      <td>0</td>\n",
              "      <td>0</td>\n",
              "      <td>5</td>\n",
              "      <td>280</td>\n",
              "      <td>0</td>\n",
              "      <td>0</td>\n",
              "      <td>0</td>\n",
              "      <td>3</td>\n",
              "      <td>2</td>\n",
              "      <td>123</td>\n",
              "      <td>0</td>\n",
              "      <td>2</td>\n",
              "      <td>0</td>\n",
              "      <td>0</td>\n",
              "      <td>1</td>\n",
              "      <td>4</td>\n",
              "      <td>14</td>\n",
              "      <td>NaN</td>\n",
              "    </tr>\n",
              "    <tr>\n",
              "      <th>אבו סנאן</th>\n",
              "      <td>6</td>\n",
              "      <td>473</td>\n",
              "      <td>9422</td>\n",
              "      <td>6090</td>\n",
              "      <td>53</td>\n",
              "      <td>6037</td>\n",
              "      <td>92</td>\n",
              "      <td>6</td>\n",
              "      <td>4458</td>\n",
              "      <td>0</td>\n",
              "      <td>1</td>\n",
              "      <td>0</td>\n",
              "      <td>16</td>\n",
              "      <td>1</td>\n",
              "      <td>2</td>\n",
              "      <td>13</td>\n",
              "      <td>2</td>\n",
              "      <td>0</td>\n",
              "      <td>1</td>\n",
              "      <td>1</td>\n",
              "      <td>2</td>\n",
              "      <td>230</td>\n",
              "      <td>190</td>\n",
              "      <td>3</td>\n",
              "      <td>2</td>\n",
              "      <td>1</td>\n",
              "      <td>3</td>\n",
              "      <td>3</td>\n",
              "      <td>752</td>\n",
              "      <td>0</td>\n",
              "      <td>2</td>\n",
              "      <td>2</td>\n",
              "      <td>1</td>\n",
              "      <td>2</td>\n",
              "      <td>4</td>\n",
              "      <td>247</td>\n",
              "      <td>NaN</td>\n",
              "    </tr>\n",
              "    <tr>\n",
              "      <th>אבו עבדון שבט</th>\n",
              "      <td>18</td>\n",
              "      <td>958</td>\n",
              "      <td>142</td>\n",
              "      <td>41</td>\n",
              "      <td>1</td>\n",
              "      <td>40</td>\n",
              "      <td>0</td>\n",
              "      <td>0</td>\n",
              "      <td>40</td>\n",
              "      <td>0</td>\n",
              "      <td>0</td>\n",
              "      <td>0</td>\n",
              "      <td>0</td>\n",
              "      <td>0</td>\n",
              "      <td>0</td>\n",
              "      <td>0</td>\n",
              "      <td>0</td>\n",
              "      <td>0</td>\n",
              "      <td>0</td>\n",
              "      <td>0</td>\n",
              "      <td>0</td>\n",
              "      <td>0</td>\n",
              "      <td>0</td>\n",
              "      <td>0</td>\n",
              "      <td>0</td>\n",
              "      <td>0</td>\n",
              "      <td>0</td>\n",
              "      <td>0</td>\n",
              "      <td>0</td>\n",
              "      <td>0</td>\n",
              "      <td>0</td>\n",
              "      <td>0</td>\n",
              "      <td>0</td>\n",
              "      <td>0</td>\n",
              "      <td>0</td>\n",
              "      <td>0</td>\n",
              "      <td>NaN</td>\n",
              "    </tr>\n",
              "    <tr>\n",
              "      <th>אבו קורינאת שבט</th>\n",
              "      <td>18</td>\n",
              "      <td>968</td>\n",
              "      <td>3037</td>\n",
              "      <td>1336</td>\n",
              "      <td>8</td>\n",
              "      <td>1328</td>\n",
              "      <td>9</td>\n",
              "      <td>0</td>\n",
              "      <td>1263</td>\n",
              "      <td>0</td>\n",
              "      <td>0</td>\n",
              "      <td>0</td>\n",
              "      <td>1</td>\n",
              "      <td>0</td>\n",
              "      <td>0</td>\n",
              "      <td>3</td>\n",
              "      <td>0</td>\n",
              "      <td>0</td>\n",
              "      <td>1</td>\n",
              "      <td>0</td>\n",
              "      <td>0</td>\n",
              "      <td>0</td>\n",
              "      <td>8</td>\n",
              "      <td>0</td>\n",
              "      <td>1</td>\n",
              "      <td>2</td>\n",
              "      <td>1</td>\n",
              "      <td>0</td>\n",
              "      <td>33</td>\n",
              "      <td>0</td>\n",
              "      <td>2</td>\n",
              "      <td>1</td>\n",
              "      <td>0</td>\n",
              "      <td>2</td>\n",
              "      <td>1</td>\n",
              "      <td>0</td>\n",
              "      <td>NaN</td>\n",
              "    </tr>\n",
              "  </tbody>\n",
              "</table>\n",
              "</div>"
            ],
            "text/plain": [
              "                 סמל ועדה  סמל ישוב   בזב  מצביעים  ...  קך  קץ   שס  Unnamed: 37\n",
              "שם ישוב                                             ...                          \n",
              "אבו גווייעד שבט        18       967  2018      595  ...   0   2    2          NaN\n",
              "אבו גוש                 2       472  4821     2718  ...   1   4   14          NaN\n",
              "אבו סנאן                6       473  9422     6090  ...   2   4  247          NaN\n",
              "אבו עבדון שבט          18       958   142       41  ...   0   0    0          NaN\n",
              "אבו קורינאת שבט        18       968  3037     1336  ...   2   1    0          NaN\n",
              "\n",
              "[5 rows x 37 columns]"
            ]
          },
          "metadata": {
            "tags": []
          },
          "execution_count": 13
        }
      ]
    },
    {
      "cell_type": "code",
      "metadata": {
        "id": "LqKwLni2vFvs"
      },
      "source": [
        "df_2020 = df_2020_raw.drop('סמל ועדה', axis=1) # new column added in Sep 2019\n",
        "df_2020 = df_2020[df_2020.columns[5:-1]] # removing \"metadata\" columns"
      ],
      "execution_count": 14,
      "outputs": []
    },
    {
      "cell_type": "markdown",
      "metadata": {
        "id": "Mr0_TjfViaRo"
      },
      "source": [
        "# **Q.1**\n",
        "\n",
        "**A. Find the \"פסולים\" , \"כלל המצביעים\" columns:**\n"
      ]
    },
    {
      "cell_type": "code",
      "metadata": {
        "id": "dbzwr281iieM"
      },
      "source": [
        "psulim = df_2020_raw['פסולים'] # עמודת קולות פסולים\n",
        "klal_matzbiim = df_2020_raw['מצביעים'] # עמודת כלל מצביעים\n",
        "p_psulim = (psulim/klal_matzbiim)*100\n",
        "df_2020_raw['אחוז הפסולים'] = (psulim/klal_matzbiim)*100 # עמודת אחוז קולות פסולים"
      ],
      "execution_count": 15,
      "outputs": []
    },
    {
      "cell_type": "markdown",
      "metadata": {
        "id": "HKXAdIgWWc8y"
      },
      "source": [
        "**B. Histogram for the percentage of invalid votes for all the cities:**"
      ]
    },
    {
      "cell_type": "code",
      "metadata": {
        "id": "RifKYUxCjjJ5",
        "outputId": "98d4e4ed-c238-44fc-c07d-1999c832c0d9",
        "colab": {
          "base_uri": "https://localhost:8080/",
          "height": 313
        }
      },
      "source": [
        "fig = plt.hist(df_2020_raw['אחוז הפסולים'], bins=100, range=(0, max(p_psulim)), edgecolor = 'black')\n",
        "plt.title('Histogram of Invalid Votes')\n",
        "plt.xlabel('Invalid Votes Percentage')\n",
        "plt.ylabel('Density')"
      ],
      "execution_count": 16,
      "outputs": [
        {
          "output_type": "execute_result",
          "data": {
            "text/plain": [
              "Text(0, 0.5, 'Density')"
            ]
          },
          "metadata": {
            "tags": []
          },
          "execution_count": 16
        },
        {
          "output_type": "display_data",
          "data": {
            "image/png": "[encoded data removed]",
            "text/plain": [
              "<Figure size 432x288 with 1 Axes>"
            ]
          },
          "metadata": {
            "tags": [],
            "needs_background": "light"
          }
        }
      ]
    },
    {
      "cell_type": "code",
      "metadata": {
        "id": "li0V05CjJn0U"
      },
      "source": [
        "cities_3 = pd.DataFrame(df_2020_raw.sort_values(['אחוז הפסולים'],ascending=False)['אחוז הפסולים'].head(3))"
      ],
      "execution_count": 17,
      "outputs": []
    },
    {
      "cell_type": "markdown",
      "metadata": {
        "id": "XVGr72X3JpcD"
      },
      "source": [
        "**The three cities with the highest percentage of invalid votes are :**"
      ]
    },
    {
      "cell_type": "code",
      "metadata": {
        "id": "E2jLFm2YJtQ3",
        "outputId": "674ff1f9-8082-413b-84ea-223cfb841bd4",
        "colab": {
          "base_uri": "https://localhost:8080/",
          "height": 171
        }
      },
      "source": [
        "display(cities_3)"
      ],
      "execution_count": 18,
      "outputs": [
        {
          "output_type": "display_data",
          "data": {
            "text/html": [
              "<div>\n",
              "<style scoped>\n",
              "    .dataframe tbody tr th:only-of-type {\n",
              "        vertical-align: middle;\n",
              "    }\n",
              "\n",
              "    .dataframe tbody tr th {\n",
              "        vertical-align: top;\n",
              "    }\n",
              "\n",
              "    .dataframe thead th {\n",
              "        text-align: right;\n",
              "    }\n",
              "</style>\n",
              "<table border=\"1\" class=\"dataframe\">\n",
              "  <thead>\n",
              "    <tr style=\"text-align: right;\">\n",
              "      <th></th>\n",
              "      <th>אחוז הפסולים</th>\n",
              "    </tr>\n",
              "    <tr>\n",
              "      <th>שם ישוב</th>\n",
              "      <th></th>\n",
              "    </tr>\n",
              "  </thead>\n",
              "  <tbody>\n",
              "    <tr>\n",
              "      <th>מאיר שפיה</th>\n",
              "      <td>3.703704</td>\n",
              "    </tr>\n",
              "    <tr>\n",
              "      <th>עין ראפה</th>\n",
              "      <td>3.485255</td>\n",
              "    </tr>\n",
              "    <tr>\n",
              "      <th>כדיתה</th>\n",
              "      <td>3.225806</td>\n",
              "    </tr>\n",
              "  </tbody>\n",
              "</table>\n",
              "</div>"
            ],
            "text/plain": [
              "           אחוז הפסולים\n",
              "שם ישוב                \n",
              "מאיר שפיה      3.703704\n",
              "עין ראפה       3.485255\n",
              "כדיתה          3.225806"
            ]
          },
          "metadata": {
            "tags": []
          }
        }
      ]
    },
    {
      "cell_type": "markdown",
      "metadata": {
        "id": "cWTkxDwfkDTW"
      },
      "source": [
        "# **Q.2**"
      ]
    },
    {
      "cell_type": "markdown",
      "metadata": {
        "id": "4uaRGD8JYVk0"
      },
      "source": [
        "**A function for showing a bar plot of the voting percentage in a given city, while showing only the parties above a 3.25% threshold :**"
      ]
    },
    {
      "cell_type": "code",
      "metadata": {
        "id": "gvcZSFcX_w49",
        "outputId": "5b278156-b2b1-4960-e857-d8c943eef699",
        "colab": {
          "base_uri": "https://localhost:8080/",
          "height": 323
        }
      },
      "source": [
        "# Compute votes share only for parties above a certain threshold \n",
        "def parties_votes_percents(df, thresh):\n",
        "    par = df.sum().div(df.sum().sum()).sort_values(ascending=False)\n",
        "    return par[par > thresh]\n",
        "\n",
        "total_votes = parties_votes_percents(df_2020, 0.0325)  # total votes for each party\n",
        "total_votes.plot.bar()\n",
        "plt.title(\"The eight parties that passed the blocking percentage - 3.25%\")\n",
        "plt.xlabel('Parties Names')\n",
        "plt.ylabel('Voting Percentage')\n"
      ],
      "execution_count": 19,
      "outputs": [
        {
          "output_type": "execute_result",
          "data": {
            "text/plain": [
              "Text(0, 0.5, 'Voting Percentage')"
            ]
          },
          "metadata": {
            "tags": []
          },
          "execution_count": 19
        },
        {
          "output_type": "display_data",
          "data": {
            "image/png": "[encoded data removed]",
            "text/plain": [
              "<Figure size 432x288 with 1 Axes>"
            ]
          },
          "metadata": {
            "tags": [],
            "needs_background": "light"
          }
        }
      ]
    },
    {
      "cell_type": "markdown",
      "metadata": {
        "id": "D3av2eMn_5Pq"
      },
      "source": [
        "**A function the create two bar plots at the same image for comparing 2 cities- only showing values above a certain threshold:**"
      ]
    },
    {
      "cell_type": "code",
      "metadata": {
        "id": "nBDU6GHnDCcN"
      },
      "source": [
        "def party_bar(df, thresh, city1, city2):\n",
        "    width = 0.3  # set column width \n",
        "    votes = parties_votes_percents(df, thresh)  # total votes for each party\n",
        "    n = len(votes)  # number of parties\n",
        "    names = votes.keys()\n",
        "\n",
        "    rev_names = [name[::-1] for name in list(names)]\n",
        "    fig, ax = plt.subplots()  # plt.subplots()\n",
        "\n",
        "\n",
        "    city1_votes = df.loc[city1, names] / df.loc[city1, names].sum()\n",
        "    city2_votes = df.loc[city2, names] / df.loc[city2, names].sum()\n",
        "    city1_bar = ax.bar(np.arange(n), list(city1_votes), width, color='r')\n",
        "    city2_bar = ax.bar(np.arange(n) + width, list(city2_votes), width, color='b')\n",
        "\n",
        "    ax.set_ylabel('Votes percent')\n",
        "    ax.set_xlabel('Parties Names')\n",
        "    ax.set_title('Votes percent per party 2020 : ' +city1[::-1]+ ' - ' +city2[::-1] )\n",
        "    ax.set_xticks(np.arange(n))\n",
        "    ax.set_xticklabels(rev_names)\n",
        "    ax.legend((city1_bar[0], city2_bar[0]), (city1[::-1], city2[::-1]))\n",
        "    plt.show()\n",
        "\n",
        "    return fig, ax\n"
      ],
      "execution_count": 20,
      "outputs": []
    },
    {
      "cell_type": "markdown",
      "metadata": {
        "id": "iwmlmx3-qJ4E"
      },
      "source": [
        "**Finding 3 pairs of cities that had more than 50,000 votes:**"
      ]
    },
    {
      "cell_type": "code",
      "metadata": {
        "id": "hsqcikvJqXZ7",
        "outputId": "d187d077-9b92-4529-870a-55d6d39035cc",
        "colab": {
          "base_uri": "https://localhost:8080/",
          "height": 347
        }
      },
      "source": [
        "print(((df_2020_raw.loc[df_2020_raw['מצביעים']>50000]).sort_values(['מצביעים'],ascending=False))['מצביעים']) # show the relevant cities for comparing"
      ],
      "execution_count": 21,
      "outputs": [
        {
          "output_type": "stream",
          "text": [
            "שם ישוב\n",
            "מעטפות חיצוניות    330209\n",
            "תל אביב  יפו       268116\n",
            "ירושלים            263214\n",
            "חיפה               145488\n",
            "ראשון לציון        138490\n",
            "פתח תקווה          132135\n",
            "אשדוד              118313\n",
            "נתניה              110399\n",
            "חולון              101584\n",
            "באר שבע            100051\n",
            "רמת גן              87752\n",
            "בני ברק             85775\n",
            "רחובות              74296\n",
            "אשקלון              72538\n",
            "בת ים               65107\n",
            "כפר סבא             58330\n",
            "הרצליה              55010\n",
            "Name: מצביעים, dtype: int64\n"
          ],
          "name": "stdout"
        }
      ]
    },
    {
      "cell_type": "markdown",
      "metadata": {
        "id": "eTBWU-Ti8H34"
      },
      "source": [
        "**Tel - Aviv Vs. Jerusalem :**"
      ]
    },
    {
      "cell_type": "code",
      "metadata": {
        "id": "qq2KccwjkGNG",
        "outputId": "12773e49-77b5-4481-a022-7126d0b3cfdb",
        "colab": {
          "base_uri": "https://localhost:8080/",
          "height": 295
        }
      },
      "source": [
        "fig, ax = party_bar(df_2020, 0.0325, 'ירושלים', 'תל אביב  יפו')"
      ],
      "execution_count": 22,
      "outputs": [
        {
          "output_type": "display_data",
          "data": {
            "image/png": "[encoded data removed]",
            "text/plain": [
              "<Figure size 432x288 with 1 Axes>"
            ]
          },
          "metadata": {
            "tags": [],
            "needs_background": "light"
          }
        }
      ]
    },
    {
      "cell_type": "markdown",
      "metadata": {
        "id": "_E9Kve8Z8SoR"
      },
      "source": [
        "**Bnei- Brak Vs. Be'er Sheva:**"
      ]
    },
    {
      "cell_type": "code",
      "metadata": {
        "id": "EeEi1Firk-19",
        "outputId": "939f2d7f-8dfb-45a3-8af4-9324bcd542e9",
        "colab": {
          "base_uri": "https://localhost:8080/",
          "height": 295
        }
      },
      "source": [
        "fig, ax = party_bar(df_2020, 0.0325, 'באר שבע', 'בני ברק')"
      ],
      "execution_count": 23,
      "outputs": [
        {
          "output_type": "display_data",
          "data": {
            "image/png": "[encoded data removed]",
            "text/plain": [
              "<Figure size 432x288 with 1 Axes>"
            ]
          },
          "metadata": {
            "tags": [],
            "needs_background": "light"
          }
        }
      ]
    },
    {
      "cell_type": "markdown",
      "metadata": {
        "id": "FwvzojM28fzK"
      },
      "source": [
        "**Haifa Vs. Ashkelon :**"
      ]
    },
    {
      "cell_type": "code",
      "metadata": {
        "id": "eKkErBaflAb7",
        "outputId": "39d31cbd-a362-489f-a557-8aabd856de2c",
        "colab": {
          "base_uri": "https://localhost:8080/",
          "height": 295
        }
      },
      "source": [
        "fig, ax = party_bar(df_2020, 0.0325, 'אשקלון', 'חיפה')"
      ],
      "execution_count": 24,
      "outputs": [
        {
          "output_type": "display_data",
          "data": {
            "image/png": "[encoded data removed]",
            "text/plain": [
              "<Figure size 432x288 with 1 Axes>"
            ]
          },
          "metadata": {
            "tags": [],
            "needs_background": "light"
          }
        }
      ]
    },
    {
      "cell_type": "markdown",
      "metadata": {
        "id": "NtgNSLXZnvZt"
      },
      "source": [
        "It can be seen in the comparison between Tel Aviv and Jerusalem that in Jerusalem where the percentage of religious people is very high, the religious parties ג ,שס received a high percentage of votes. When in secular Tel Aviv the percentage of votes for these parties is almost zero.\n",
        "\n",
        "This comparison is also relevant to Be'er Sheva and Bnei Brak. Let us note the similarities between Bnei Brak and Jerusalem and between Tel Aviv and Beer Sheva. These cities behave very similarly in the percentage of votes cast for the ג,שס parties, and so the difference in the percentage of religious ones is similar.\n",
        "\n",
        "When comparing Haifa and Ashkelon, one can actually see great similarities in the percentages of votes for most parties, with the main difference being between the ultra-Orthodox and Arab parties. In other words, the share that the ultra-Orthodox parties in Ashkelon receive is relatively similar to the share that the Arab parties receive in Haifa."
      ]
    },
    {
      "cell_type": "markdown",
      "metadata": {
        "id": "3zlOOCfArhrw"
      },
      "source": [
        "# **Q.3**"
      ]
    },
    {
      "cell_type": "markdown",
      "metadata": {
        "id": "yPvo2Z_P9YH5"
      },
      "source": [
        "**Summarize of the total votes for the whole country :**"
      ]
    },
    {
      "cell_type": "code",
      "metadata": {
        "id": "s9yUKPEuqneV"
      },
      "source": [
        "df_2020_sort = df_2020_raw.drop(columns = ['סמל ועדה','סמל ישוב','בזב','פסולים','מצביעים','אחוז הפסולים']) # drop irrelevant columns\n",
        "df_2020_sort.loc['כלל ארצי']= df_2020_sort.sum(numeric_only=True, axis=0)    # append a row for total votes \n"
      ],
      "execution_count": 25,
      "outputs": []
    },
    {
      "cell_type": "markdown",
      "metadata": {
        "id": "TV90Ku-QMopy"
      },
      "source": [
        "**A function that calculate vote percentage of each city:**"
      ]
    },
    {
      "cell_type": "code",
      "metadata": {
        "id": "m1o_Ghr7jcrm"
      },
      "source": [
        "def percent_df(df):\n",
        "    new_df = copy.deepcopy(df)\n",
        "    new_df.iloc[:,1:-1] = new_df.values[:,1:-1]/new_df.values[:,0,None]\n",
        "    return new_df\n",
        "\n",
        "df_per_city = percent_df(df_2020_sort) # apply on our data"
      ],
      "execution_count": 26,
      "outputs": []
    },
    {
      "cell_type": "markdown",
      "metadata": {
        "id": "eAr2IwCs-C6_"
      },
      "source": [
        "**A function that calculates the minimum difference between city results and the country results:**"
      ]
    },
    {
      "cell_type": "code",
      "metadata": {
        "id": "xnWzxFKnrSYA",
        "outputId": "541174fe-5191-446e-d857-be4d1c4c0834",
        "colab": {
          "base_uri": "https://localhost:8080/",
          "height": 386
        }
      },
      "source": [
        "def calc_diff(df):\n",
        "    df = df.drop(columns = ['כשרים']) # drop irrelevant column\n",
        "    i = 0\n",
        "    lst = []\n",
        "    for city in df.index.values:            # itterate on each city\n",
        "        i = ((df.loc[city]-df.loc['כלל ארצי'])**2).sum()\n",
        "        lst.append(i)                       \n",
        "    df['Diff'] = lst \n",
        "    return df\n",
        "\n",
        "df_per_diff = calc_diff(df_per_city) # apply on our data\n",
        "(pd.DataFrame(df_per_diff.sort_values(['Diff'],ascending=True)['Diff']).head(10)) # checking the results"
      ],
      "execution_count": 27,
      "outputs": [
        {
          "output_type": "execute_result",
          "data": {
            "text/html": [
              "<div>\n",
              "<style scoped>\n",
              "    .dataframe tbody tr th:only-of-type {\n",
              "        vertical-align: middle;\n",
              "    }\n",
              "\n",
              "    .dataframe tbody tr th {\n",
              "        vertical-align: top;\n",
              "    }\n",
              "\n",
              "    .dataframe thead th {\n",
              "        text-align: right;\n",
              "    }\n",
              "</style>\n",
              "<table border=\"1\" class=\"dataframe\">\n",
              "  <thead>\n",
              "    <tr style=\"text-align: right;\">\n",
              "      <th></th>\n",
              "      <th>Diff</th>\n",
              "    </tr>\n",
              "    <tr>\n",
              "      <th>שם ישוב</th>\n",
              "      <th></th>\n",
              "    </tr>\n",
              "  </thead>\n",
              "  <tbody>\n",
              "    <tr>\n",
              "      <th>כלל ארצי</th>\n",
              "      <td>0.000000</td>\n",
              "    </tr>\n",
              "    <tr>\n",
              "      <th>מעטפות חיצוניות</th>\n",
              "      <td>0.009138</td>\n",
              "    </tr>\n",
              "    <tr>\n",
              "      <th>חיפה</th>\n",
              "      <td>0.013144</td>\n",
              "    </tr>\n",
              "    <tr>\n",
              "      <th>ירכא</th>\n",
              "      <td>0.018226</td>\n",
              "    </tr>\n",
              "    <tr>\n",
              "      <th>רחובות</th>\n",
              "      <td>0.021555</td>\n",
              "    </tr>\n",
              "    <tr>\n",
              "      <th>פתח תקווה</th>\n",
              "      <td>0.023130</td>\n",
              "    </tr>\n",
              "    <tr>\n",
              "      <th>ורדון</th>\n",
              "      <td>0.026633</td>\n",
              "    </tr>\n",
              "    <tr>\n",
              "      <th>צרופה</th>\n",
              "      <td>0.027637</td>\n",
              "    </tr>\n",
              "    <tr>\n",
              "      <th>כסראסמיע</th>\n",
              "      <td>0.030050</td>\n",
              "    </tr>\n",
              "    <tr>\n",
              "      <th>ניר עקיבא</th>\n",
              "      <td>0.031893</td>\n",
              "    </tr>\n",
              "  </tbody>\n",
              "</table>\n",
              "</div>"
            ],
            "text/plain": [
              "                     Diff\n",
              "שם ישוב                  \n",
              "כלל ארצי         0.000000\n",
              "מעטפות חיצוניות  0.009138\n",
              "חיפה             0.013144\n",
              "ירכא             0.018226\n",
              "רחובות           0.021555\n",
              "פתח תקווה        0.023130\n",
              "ורדון            0.026633\n",
              "צרופה            0.027637\n",
              "כסראסמיע         0.030050\n",
              "ניר עקיבא        0.031893"
            ]
          },
          "metadata": {
            "tags": []
          },
          "execution_count": 27
        }
      ]
    },
    {
      "cell_type": "markdown",
      "metadata": {
        "id": "VfZMNXpH4t-3"
      },
      "source": [
        "**drop the rows of the 'כלל ארצי' and 'מעטפות חיצוניות' to get only the cities data for easier copmarison:**\n",
        "\n",
        "*('כלל ארצי' and 'מעטפות חיצוניות' are not cities)*"
      ]
    },
    {
      "cell_type": "code",
      "metadata": {
        "id": "ZYELnvCwy0dn"
      },
      "source": [
        "city_no_country = df_per_diff.drop(['כלל ארצי','מעטפות חיצוניות'])"
      ],
      "execution_count": 28,
      "outputs": []
    },
    {
      "cell_type": "markdown",
      "metadata": {
        "id": "Qotn6S9aF-Xh"
      },
      "source": [
        "*Note: We chose to show in the following histograms only the parties that passed the blocking percentage because they are the most representative and relevant parties, rather than produce a plot with all the parties and that would not be informative.*"
      ]
    },
    {
      "cell_type": "markdown",
      "metadata": {
        "id": "jTQjClAj47oc"
      },
      "source": [
        "**A. Find the city with the minimum difference:**\n",
        "\n",
        "\n"
      ]
    },
    {
      "cell_type": "code",
      "metadata": {
        "id": "2VTIexHW53St",
        "outputId": "53579944-61e8-44df-b72e-80d9b3fa56b1",
        "colab": {
          "base_uri": "https://localhost:8080/",
          "height": 69
        }
      },
      "source": [
        "(city_no_country.sort_values(['Diff'],ascending=True).head(1))['Diff'] # the city with the minimum difference = 'חיפה'"
      ],
      "execution_count": 29,
      "outputs": [
        {
          "output_type": "execute_result",
          "data": {
            "text/plain": [
              "שם ישוב\n",
              "חיפה    0.013144\n",
              "Name: Diff, dtype: float64"
            ]
          },
          "metadata": {
            "tags": []
          },
          "execution_count": 29
        }
      ]
    },
    {
      "cell_type": "markdown",
      "metadata": {
        "id": "Vm5Ss80X55Ib"
      },
      "source": [
        "**create the plot of the Country results VS. The most representative city - 'חיפה' :**"
      ]
    },
    {
      "cell_type": "code",
      "metadata": {
        "id": "OYZQ1Wh64oLA",
        "outputId": "2a752fe6-87b2-4d5a-b1eb-bd345e9452ef",
        "colab": {
          "base_uri": "https://localhost:8080/",
          "height": 295
        }
      },
      "source": [
        "fig, ax = party_bar(df_per_diff.drop(columns = ['Diff']), 0.01,'חיפה', 'כלל ארצי')"
      ],
      "execution_count": 30,
      "outputs": [
        {
          "output_type": "display_data",
          "data": {
            "image/png": "[encoded data removed]",
            "text/plain": [
              "<Figure size 432x288 with 1 Axes>"
            ]
          },
          "metadata": {
            "tags": [],
            "needs_background": "light"
          }
        }
      ]
    },
    {
      "cell_type": "markdown",
      "metadata": {
        "id": "USpHEOR-4m4Y"
      },
      "source": [
        "**B. Find the city with the maximum difference:**"
      ]
    },
    {
      "cell_type": "code",
      "metadata": {
        "id": "YMv3MysP5ZAf",
        "outputId": "229c6d29-df8b-421a-b352-43c64c5bcbbb",
        "colab": {
          "base_uri": "https://localhost:8080/",
          "height": 69
        }
      },
      "source": [
        "(city_no_country.sort_values(['Diff'],ascending=True).tail(1))['Diff'] # the city with the maximum difference = 'קוממיות'"
      ],
      "execution_count": 31,
      "outputs": [
        {
          "output_type": "execute_result",
          "data": {
            "text/plain": [
              "שם ישוב\n",
              "קוממיות    1.000697\n",
              "Name: Diff, dtype: float64"
            ]
          },
          "metadata": {
            "tags": []
          },
          "execution_count": 31
        }
      ]
    },
    {
      "cell_type": "markdown",
      "metadata": {
        "id": "_7P8icGJ5pgE"
      },
      "source": [
        "**create the plot of the Country results VS. The least representative city - 'קוממיות' :**"
      ]
    },
    {
      "cell_type": "code",
      "metadata": {
        "id": "ANCGmGza4k3e",
        "outputId": "675ccc91-234c-4be9-88f1-dd431496e2fc",
        "colab": {
          "base_uri": "https://localhost:8080/",
          "height": 295
        }
      },
      "source": [
        "fig, ax = party_bar(df_per_diff.drop(columns = ['Diff']), 0.01, 'קוממיות', 'כלל ארצי')"
      ],
      "execution_count": 32,
      "outputs": [
        {
          "output_type": "display_data",
          "data": {
            "image/png": "[encoded data removed]",
            "text/plain": [
              "<Figure size 432x288 with 1 Axes>"
            ]
          },
          "metadata": {
            "tags": [],
            "needs_background": "light"
          }
        }
      ]
    },
    {
      "cell_type": "markdown",
      "metadata": {
        "id": "eOcnv9tIfrJd"
      },
      "source": [
        "Haifa is a very heterogeneous city in terms of its population and therefore can be expected to represent the same heterogeneity that the State of Israel represents. A great similarity can be seen in the structure of the population between Haifa and the whole state.\n",
        "\n",
        "On the other hand, the city \"קוממיות\" is a city where all its residents have the same religious characteristics- all from the ultra-Orthodox-Hasidic stream, so it can be seen that the absolute majority votes are for a clear ultra-Orthodox party- 'יהדות התורה- 'ג.\n",
        "As a result, this city cannot be seen as a city that represents the heterogeneity that exists in Israeli society as a whole, including the voting data."
      ]
    }
  ]
}