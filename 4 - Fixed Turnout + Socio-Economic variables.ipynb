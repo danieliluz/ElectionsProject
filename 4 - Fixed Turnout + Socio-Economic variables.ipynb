{
  "nbformat": 4,
  "nbformat_minor": 0,
  "metadata": {
    "colab": {
      "name": "Lab_4_315453027_324756568.ipynb",
      "provenance": [],
      "collapsed_sections": []
    },
    "kernelspec": {
      "display_name": "Python 3",
      "language": "python",
      "name": "python3"
    },
    "language_info": {
      "codemirror_mode": {
        "name": "ipython",
        "version": 3
      },
      "file_extension": ".py",
      "mimetype": "text/x-python",
      "name": "python",
      "nbconvert_exporter": "python",
      "pygments_lexer": "ipython3",
      "version": "3.7.4"
    }
  },
  "cells": [
    {
      "cell_type": "markdown",
      "metadata": {
        "id": "lyQ45Phps6Z6"
      },
      "source": [
        "# **Israel Elections Data Analysis - Lab 4**\n"
      ]
    },
    {
      "cell_type": "markdown",
      "metadata": {
        "id": "8DKMb3rPhv0R"
      },
      "source": [
        "**Daniel Ohayon - ID: 315453027**\n",
        "\n",
        "**Olga Moroz - ID: 324756568**"
      ]
    },
    {
      "cell_type": "markdown",
      "metadata": {
        "id": "rdAF2oUTYarA"
      },
      "source": [
        "### **environment checking**"
      ]
    },
    {
      "cell_type": "code",
      "metadata": {
        "id": "eRKSr5EstAUm",
        "outputId": "41554c81-7e0a-42b3-c330-03067547d835",
        "colab": {
          "base_uri": "https://localhost:8080/"
        }
      },
      "source": [
        "# Add a check if we run in google colab or locally in jupyter notebook\n",
        "run_in_colab = True\n",
        "if 'google.colab' in str(get_ipython()):\n",
        "    run_in_colab = True\n",
        "    print('Running on CoLab')\n",
        "else:\n",
        "    print('Running locally on Jupyter')"
      ],
      "execution_count": 2,
      "outputs": [
        {
          "output_type": "stream",
          "text": [
            "Running on CoLab\n"
          ],
          "name": "stdout"
        }
      ]
    },
    {
      "cell_type": "markdown",
      "metadata": {
        "id": "gv0t-UVNfuGY"
      },
      "source": [
        "### **Import modules**"
      ]
    },
    {
      "cell_type": "code",
      "metadata": {
        "id": "iC0NlMvHzL1L",
        "outputId": "c3a0cd31-d879-491b-bba5-90751b80a7cc",
        "colab": {
          "base_uri": "https://localhost:8080/"
        }
      },
      "source": [
        "import numpy as np  # a module for working with numerical array \n",
        "import pandas as pd  # a module for working with data-frames\n",
        "import os\n",
        "import io\n",
        "from matplotlib import pyplot as plt\n",
        "import numpy.matlib as mtl\n",
        "import copy\n",
        "import random\n",
        "import statsmodels.api as sm\n",
        "\n",
        "\n",
        "%matplotlib inline"
      ],
      "execution_count": 3,
      "outputs": [
        {
          "output_type": "stream",
          "text": [
            "/usr/local/lib/python3.6/dist-packages/statsmodels/tools/_testing.py:19: FutureWarning: pandas.util.testing is deprecated. Use the functions in the public API at pandas.testing instead.\n",
            "  import pandas.util.testing as tm\n"
          ],
          "name": "stderr"
        }
      ]
    },
    {
      "cell_type": "markdown",
      "metadata": {
        "id": "pGTS_zCRZGfV"
      },
      "source": [
        "### **Import data**"
      ]
    },
    {
      "cell_type": "code",
      "metadata": {
        "id": "RWSJpsyKqHjH",
        "outputId": "0d18ed76-ec67-49ba-ea64-64fcb6828e09",
        "colab": {
          "base_uri": "https://localhost:8080/"
        }
      },
      "source": [
        "# Mount drive in google colab\n",
        "if run_in_colab:\n",
        "    from google.colab import drive\n",
        "    drive.mount('/content/drive')\n",
        "\n",
        "data_path = \"C:/Users/Daniel Ohayon/PycharmProjects/Statistics Lab\" "
      ],
      "execution_count": 4,
      "outputs": [
        {
          "output_type": "stream",
          "text": [
            "Mounted at /content/drive\n"
          ],
          "name": "stdout"
        }
      ]
    },
    {
      "cell_type": "code",
      "metadata": {
        "id": "xaG-KYCw8XZz",
        "outputId": "6d0e1477-063c-44e9-aa65-82b2a8eaeb30",
        "colab": {
          "resources": {
            "http://localhost:8080/nbextensions/google.colab/files.js": {
              "data": "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",
              "ok": true,
              "headers": [
                [
                  "content-type",
                  "application/javascript"
                ]
              ],
              "status": 200,
              "status_text": ""
            }
          },
          "base_uri": "https://localhost:8080/",
          "height": 138
        }
      },
      "source": [
        "# Loading elections 2020 elections data:\n",
        "if run_in_colab:\n",
        "    from google.colab import files\n",
        "    uploaded = files.upload()"
      ],
      "execution_count": 5,
      "outputs": [
        {
          "output_type": "display_data",
          "data": {
            "text/html": [
              "\n",
              "     <input type=\"file\" id=\"files-96aaee27-6f78-48be-9532-9d0b16d7e6fd\" name=\"files[]\" multiple disabled\n",
              "        style=\"border:none\" />\n",
              "     <output id=\"result-96aaee27-6f78-48be-9532-9d0b16d7e6fd\">\n",
              "      Upload widget is only available when the cell has been executed in the\n",
              "      current browser session. Please rerun this cell to enable.\n",
              "      </output>\n",
              "      <script src=\"/nbextensions/google.colab/files.js\"></script> "
            ],
            "text/plain": [
              "<IPython.core.display.HTML object>"
            ]
          },
          "metadata": {
            "tags": []
          }
        },
        {
          "output_type": "stream",
          "text": [
            "Saving Eshkol Hevrati Calcali.csv to Eshkol Hevrati Calcali.csv\n",
            "Saving votes per ballot 2020.csv to votes per ballot 2020.csv\n",
            "Saving votes per city 2020.csv to votes per city 2020.csv\n"
          ],
          "name": "stdout"
        }
      ]
    },
    {
      "cell_type": "code",
      "metadata": {
        "id": "QxK5YlBH1geD"
      },
      "source": [
        "import io\n",
        "\n",
        "df_2020_raw = pd.read_csv(io.BytesIO(uploaded['votes per ballot 2020.csv']),  encoding = 'iso-8859-8', index_col='שם ישוב')\n",
        "df_2020_raw = df_2020_raw.drop(['מעטפות חיצוניות'], axis=0)\n",
        "# preprocessing of ballot\n",
        "df_2020 = df_2020_raw.drop('סמל ועדה', axis=1) # new column added in Sep 2019\n",
        "df_2020 = df_2020[df_2020.columns[9:]] # removing \"metadata\" columns\n",
        "\n",
        "# Dataset is now stored in a Pandas Dataframe"
      ],
      "execution_count": 6,
      "outputs": []
    },
    {
      "cell_type": "code",
      "metadata": {
        "id": "4a4FvUZK_3ns",
        "outputId": "3dbf21e0-ad57-42a5-bf86-1e97e8a27278",
        "colab": {
          "base_uri": "https://localhost:8080/",
          "height": 437
        }
      },
      "source": [
        "df_2020"
      ],
      "execution_count": 7,
      "outputs": [
        {
          "output_type": "execute_result",
          "data": {
            "text/html": [
              "<div>\n",
              "<style scoped>\n",
              "    .dataframe tbody tr th:only-of-type {\n",
              "        vertical-align: middle;\n",
              "    }\n",
              "\n",
              "    .dataframe tbody tr th {\n",
              "        vertical-align: top;\n",
              "    }\n",
              "\n",
              "    .dataframe thead th {\n",
              "        text-align: right;\n",
              "    }\n",
              "</style>\n",
              "<table border=\"1\" class=\"dataframe\">\n",
              "  <thead>\n",
              "    <tr style=\"text-align: right;\">\n",
              "      <th></th>\n",
              "      <th>אמת</th>\n",
              "      <th>ג</th>\n",
              "      <th>ודעם</th>\n",
              "      <th>ז</th>\n",
              "      <th>זך</th>\n",
              "      <th>זץ</th>\n",
              "      <th>טב</th>\n",
              "      <th>י</th>\n",
              "      <th>יז</th>\n",
              "      <th>ינ</th>\n",
              "      <th>יף</th>\n",
              "      <th>יק</th>\n",
              "      <th>יר</th>\n",
              "      <th>כ</th>\n",
              "      <th>כן</th>\n",
              "      <th>ל</th>\n",
              "      <th>מחל</th>\n",
              "      <th>נ</th>\n",
              "      <th>נז</th>\n",
              "      <th>ני</th>\n",
              "      <th>נץ</th>\n",
              "      <th>נק</th>\n",
              "      <th>פה</th>\n",
              "      <th>ףז</th>\n",
              "      <th>ץ</th>\n",
              "      <th>ק</th>\n",
              "      <th>קי</th>\n",
              "      <th>קך</th>\n",
              "      <th>קץ</th>\n",
              "      <th>שס</th>\n",
              "    </tr>\n",
              "    <tr>\n",
              "      <th>שם ישוב</th>\n",
              "      <th></th>\n",
              "      <th></th>\n",
              "      <th></th>\n",
              "      <th></th>\n",
              "      <th></th>\n",
              "      <th></th>\n",
              "      <th></th>\n",
              "      <th></th>\n",
              "      <th></th>\n",
              "      <th></th>\n",
              "      <th></th>\n",
              "      <th></th>\n",
              "      <th></th>\n",
              "      <th></th>\n",
              "      <th></th>\n",
              "      <th></th>\n",
              "      <th></th>\n",
              "      <th></th>\n",
              "      <th></th>\n",
              "      <th></th>\n",
              "      <th></th>\n",
              "      <th></th>\n",
              "      <th></th>\n",
              "      <th></th>\n",
              "      <th></th>\n",
              "      <th></th>\n",
              "      <th></th>\n",
              "      <th></th>\n",
              "      <th></th>\n",
              "      <th></th>\n",
              "    </tr>\n",
              "  </thead>\n",
              "  <tbody>\n",
              "    <tr>\n",
              "      <th>אבו גווייעד שבט</th>\n",
              "      <td>2</td>\n",
              "      <td>0</td>\n",
              "      <td>112</td>\n",
              "      <td>0</td>\n",
              "      <td>0</td>\n",
              "      <td>0</td>\n",
              "      <td>0</td>\n",
              "      <td>0</td>\n",
              "      <td>0</td>\n",
              "      <td>0</td>\n",
              "      <td>0</td>\n",
              "      <td>0</td>\n",
              "      <td>0</td>\n",
              "      <td>0</td>\n",
              "      <td>0</td>\n",
              "      <td>0</td>\n",
              "      <td>1</td>\n",
              "      <td>0</td>\n",
              "      <td>0</td>\n",
              "      <td>0</td>\n",
              "      <td>0</td>\n",
              "      <td>0</td>\n",
              "      <td>6</td>\n",
              "      <td>1</td>\n",
              "      <td>0</td>\n",
              "      <td>0</td>\n",
              "      <td>0</td>\n",
              "      <td>0</td>\n",
              "      <td>0</td>\n",
              "      <td>2</td>\n",
              "    </tr>\n",
              "    <tr>\n",
              "      <th>אבו גווייעד שבט</th>\n",
              "      <td>6</td>\n",
              "      <td>0</td>\n",
              "      <td>235</td>\n",
              "      <td>0</td>\n",
              "      <td>0</td>\n",
              "      <td>0</td>\n",
              "      <td>0</td>\n",
              "      <td>0</td>\n",
              "      <td>0</td>\n",
              "      <td>0</td>\n",
              "      <td>0</td>\n",
              "      <td>0</td>\n",
              "      <td>0</td>\n",
              "      <td>0</td>\n",
              "      <td>1</td>\n",
              "      <td>0</td>\n",
              "      <td>2</td>\n",
              "      <td>0</td>\n",
              "      <td>1</td>\n",
              "      <td>0</td>\n",
              "      <td>0</td>\n",
              "      <td>0</td>\n",
              "      <td>0</td>\n",
              "      <td>0</td>\n",
              "      <td>0</td>\n",
              "      <td>0</td>\n",
              "      <td>0</td>\n",
              "      <td>0</td>\n",
              "      <td>2</td>\n",
              "      <td>0</td>\n",
              "    </tr>\n",
              "    <tr>\n",
              "      <th>אבו גווייעד שבט</th>\n",
              "      <td>5</td>\n",
              "      <td>0</td>\n",
              "      <td>207</td>\n",
              "      <td>0</td>\n",
              "      <td>0</td>\n",
              "      <td>0</td>\n",
              "      <td>0</td>\n",
              "      <td>0</td>\n",
              "      <td>1</td>\n",
              "      <td>0</td>\n",
              "      <td>0</td>\n",
              "      <td>0</td>\n",
              "      <td>0</td>\n",
              "      <td>0</td>\n",
              "      <td>0</td>\n",
              "      <td>1</td>\n",
              "      <td>1</td>\n",
              "      <td>0</td>\n",
              "      <td>0</td>\n",
              "      <td>0</td>\n",
              "      <td>0</td>\n",
              "      <td>0</td>\n",
              "      <td>2</td>\n",
              "      <td>1</td>\n",
              "      <td>0</td>\n",
              "      <td>0</td>\n",
              "      <td>0</td>\n",
              "      <td>0</td>\n",
              "      <td>0</td>\n",
              "      <td>0</td>\n",
              "    </tr>\n",
              "    <tr>\n",
              "      <th>אבו גוש</th>\n",
              "      <td>15</td>\n",
              "      <td>1</td>\n",
              "      <td>229</td>\n",
              "      <td>0</td>\n",
              "      <td>0</td>\n",
              "      <td>0</td>\n",
              "      <td>0</td>\n",
              "      <td>0</td>\n",
              "      <td>0</td>\n",
              "      <td>1</td>\n",
              "      <td>0</td>\n",
              "      <td>0</td>\n",
              "      <td>1</td>\n",
              "      <td>0</td>\n",
              "      <td>0</td>\n",
              "      <td>0</td>\n",
              "      <td>32</td>\n",
              "      <td>0</td>\n",
              "      <td>0</td>\n",
              "      <td>0</td>\n",
              "      <td>0</td>\n",
              "      <td>0</td>\n",
              "      <td>11</td>\n",
              "      <td>0</td>\n",
              "      <td>0</td>\n",
              "      <td>0</td>\n",
              "      <td>0</td>\n",
              "      <td>0</td>\n",
              "      <td>0</td>\n",
              "      <td>2</td>\n",
              "    </tr>\n",
              "    <tr>\n",
              "      <th>אבו גוש</th>\n",
              "      <td>6</td>\n",
              "      <td>0</td>\n",
              "      <td>330</td>\n",
              "      <td>0</td>\n",
              "      <td>0</td>\n",
              "      <td>0</td>\n",
              "      <td>0</td>\n",
              "      <td>0</td>\n",
              "      <td>0</td>\n",
              "      <td>2</td>\n",
              "      <td>0</td>\n",
              "      <td>0</td>\n",
              "      <td>0</td>\n",
              "      <td>0</td>\n",
              "      <td>0</td>\n",
              "      <td>2</td>\n",
              "      <td>23</td>\n",
              "      <td>0</td>\n",
              "      <td>0</td>\n",
              "      <td>0</td>\n",
              "      <td>0</td>\n",
              "      <td>0</td>\n",
              "      <td>18</td>\n",
              "      <td>0</td>\n",
              "      <td>0</td>\n",
              "      <td>0</td>\n",
              "      <td>0</td>\n",
              "      <td>0</td>\n",
              "      <td>1</td>\n",
              "      <td>0</td>\n",
              "    </tr>\n",
              "    <tr>\n",
              "      <th>...</th>\n",
              "      <td>...</td>\n",
              "      <td>...</td>\n",
              "      <td>...</td>\n",
              "      <td>...</td>\n",
              "      <td>...</td>\n",
              "      <td>...</td>\n",
              "      <td>...</td>\n",
              "      <td>...</td>\n",
              "      <td>...</td>\n",
              "      <td>...</td>\n",
              "      <td>...</td>\n",
              "      <td>...</td>\n",
              "      <td>...</td>\n",
              "      <td>...</td>\n",
              "      <td>...</td>\n",
              "      <td>...</td>\n",
              "      <td>...</td>\n",
              "      <td>...</td>\n",
              "      <td>...</td>\n",
              "      <td>...</td>\n",
              "      <td>...</td>\n",
              "      <td>...</td>\n",
              "      <td>...</td>\n",
              "      <td>...</td>\n",
              "      <td>...</td>\n",
              "      <td>...</td>\n",
              "      <td>...</td>\n",
              "      <td>...</td>\n",
              "      <td>...</td>\n",
              "      <td>...</td>\n",
              "    </tr>\n",
              "    <tr>\n",
              "      <th>תקוע</th>\n",
              "      <td>10</td>\n",
              "      <td>14</td>\n",
              "      <td>2</td>\n",
              "      <td>3</td>\n",
              "      <td>0</td>\n",
              "      <td>0</td>\n",
              "      <td>174</td>\n",
              "      <td>0</td>\n",
              "      <td>0</td>\n",
              "      <td>0</td>\n",
              "      <td>0</td>\n",
              "      <td>0</td>\n",
              "      <td>0</td>\n",
              "      <td>1</td>\n",
              "      <td>1</td>\n",
              "      <td>15</td>\n",
              "      <td>227</td>\n",
              "      <td>0</td>\n",
              "      <td>0</td>\n",
              "      <td>0</td>\n",
              "      <td>9</td>\n",
              "      <td>0</td>\n",
              "      <td>27</td>\n",
              "      <td>0</td>\n",
              "      <td>0</td>\n",
              "      <td>0</td>\n",
              "      <td>0</td>\n",
              "      <td>1</td>\n",
              "      <td>0</td>\n",
              "      <td>11</td>\n",
              "    </tr>\n",
              "    <tr>\n",
              "      <th>תקוע</th>\n",
              "      <td>7</td>\n",
              "      <td>8</td>\n",
              "      <td>0</td>\n",
              "      <td>1</td>\n",
              "      <td>0</td>\n",
              "      <td>0</td>\n",
              "      <td>301</td>\n",
              "      <td>0</td>\n",
              "      <td>0</td>\n",
              "      <td>0</td>\n",
              "      <td>0</td>\n",
              "      <td>0</td>\n",
              "      <td>0</td>\n",
              "      <td>0</td>\n",
              "      <td>0</td>\n",
              "      <td>10</td>\n",
              "      <td>188</td>\n",
              "      <td>2</td>\n",
              "      <td>0</td>\n",
              "      <td>0</td>\n",
              "      <td>9</td>\n",
              "      <td>0</td>\n",
              "      <td>25</td>\n",
              "      <td>1</td>\n",
              "      <td>0</td>\n",
              "      <td>1</td>\n",
              "      <td>0</td>\n",
              "      <td>1</td>\n",
              "      <td>4</td>\n",
              "      <td>13</td>\n",
              "    </tr>\n",
              "    <tr>\n",
              "      <th>תראבין אצאנע שבט</th>\n",
              "      <td>0</td>\n",
              "      <td>0</td>\n",
              "      <td>43</td>\n",
              "      <td>0</td>\n",
              "      <td>1</td>\n",
              "      <td>0</td>\n",
              "      <td>0</td>\n",
              "      <td>0</td>\n",
              "      <td>0</td>\n",
              "      <td>0</td>\n",
              "      <td>0</td>\n",
              "      <td>0</td>\n",
              "      <td>0</td>\n",
              "      <td>0</td>\n",
              "      <td>0</td>\n",
              "      <td>0</td>\n",
              "      <td>0</td>\n",
              "      <td>0</td>\n",
              "      <td>0</td>\n",
              "      <td>0</td>\n",
              "      <td>0</td>\n",
              "      <td>0</td>\n",
              "      <td>4</td>\n",
              "      <td>0</td>\n",
              "      <td>0</td>\n",
              "      <td>0</td>\n",
              "      <td>0</td>\n",
              "      <td>0</td>\n",
              "      <td>0</td>\n",
              "      <td>0</td>\n",
              "    </tr>\n",
              "    <tr>\n",
              "      <th>תראבין אצאנעישוב</th>\n",
              "      <td>0</td>\n",
              "      <td>0</td>\n",
              "      <td>160</td>\n",
              "      <td>0</td>\n",
              "      <td>0</td>\n",
              "      <td>0</td>\n",
              "      <td>0</td>\n",
              "      <td>0</td>\n",
              "      <td>0</td>\n",
              "      <td>1</td>\n",
              "      <td>0</td>\n",
              "      <td>0</td>\n",
              "      <td>0</td>\n",
              "      <td>0</td>\n",
              "      <td>0</td>\n",
              "      <td>0</td>\n",
              "      <td>40</td>\n",
              "      <td>0</td>\n",
              "      <td>1</td>\n",
              "      <td>0</td>\n",
              "      <td>0</td>\n",
              "      <td>0</td>\n",
              "      <td>2</td>\n",
              "      <td>1</td>\n",
              "      <td>0</td>\n",
              "      <td>1</td>\n",
              "      <td>0</td>\n",
              "      <td>0</td>\n",
              "      <td>0</td>\n",
              "      <td>0</td>\n",
              "    </tr>\n",
              "    <tr>\n",
              "      <th>תרום</th>\n",
              "      <td>9</td>\n",
              "      <td>7</td>\n",
              "      <td>0</td>\n",
              "      <td>0</td>\n",
              "      <td>0</td>\n",
              "      <td>0</td>\n",
              "      <td>85</td>\n",
              "      <td>0</td>\n",
              "      <td>0</td>\n",
              "      <td>0</td>\n",
              "      <td>0</td>\n",
              "      <td>0</td>\n",
              "      <td>0</td>\n",
              "      <td>0</td>\n",
              "      <td>0</td>\n",
              "      <td>1</td>\n",
              "      <td>254</td>\n",
              "      <td>1</td>\n",
              "      <td>0</td>\n",
              "      <td>0</td>\n",
              "      <td>2</td>\n",
              "      <td>0</td>\n",
              "      <td>65</td>\n",
              "      <td>0</td>\n",
              "      <td>0</td>\n",
              "      <td>0</td>\n",
              "      <td>0</td>\n",
              "      <td>0</td>\n",
              "      <td>0</td>\n",
              "      <td>47</td>\n",
              "    </tr>\n",
              "  </tbody>\n",
              "</table>\n",
              "<p>10631 rows × 30 columns</p>\n",
              "</div>"
            ],
            "text/plain": [
              "                  אמת   ג  ודעם  ז  זך  זץ   טב  ...  ףז  ץ  ק  קי  קך  קץ  שס\n",
              "שם ישוב                                          ...                          \n",
              "אבו גווייעד שבט     2   0   112  0   0   0    0  ...   1  0  0   0   0   0   2\n",
              "אבו גווייעד שבט     6   0   235  0   0   0    0  ...   0  0  0   0   0   2   0\n",
              "אבו גווייעד שבט     5   0   207  0   0   0    0  ...   1  0  0   0   0   0   0\n",
              "אבו גוש            15   1   229  0   0   0    0  ...   0  0  0   0   0   0   2\n",
              "אבו גוש             6   0   330  0   0   0    0  ...   0  0  0   0   0   1   0\n",
              "...               ...  ..   ... ..  ..  ..  ...  ...  .. .. ..  ..  ..  ..  ..\n",
              "תקוע               10  14     2  3   0   0  174  ...   0  0  0   0   1   0  11\n",
              "תקוע                7   8     0  1   0   0  301  ...   1  0  1   0   1   4  13\n",
              "תראבין אצאנע שבט    0   0    43  0   1   0    0  ...   0  0  0   0   0   0   0\n",
              "תראבין אצאנעישוב    0   0   160  0   0   0    0  ...   1  0  1   0   0   0   0\n",
              "תרום                9   7     0  0   0   0   85  ...   0  0  0   0   0   0  47\n",
              "\n",
              "[10631 rows x 30 columns]"
            ]
          },
          "metadata": {
            "tags": []
          },
          "execution_count": 7
        }
      ]
    },
    {
      "cell_type": "markdown",
      "metadata": {
        "id": "3C5O8RedYJfN"
      },
      "source": [
        "# **Preliminary calculations from lab 2**"
      ]
    },
    {
      "cell_type": "markdown",
      "metadata": {
        "id": "ID27uCyE4lw8"
      },
      "source": [
        "### **Computing votes share only for parties above a certain threshold, and creating a dataframe fo them:**"
      ]
    },
    {
      "cell_type": "code",
      "metadata": {
        "id": "7DVGJQV441A8"
      },
      "source": [
        "def parties_votes_percents(df, thresh):\n",
        "    par = df.sum().div(df.sum().sum()).sort_values(ascending=False)\n",
        "    return par[par >= thresh]\n",
        "\n",
        "top_parties = parties_votes_percents(df_2020, 0.0325)  # finding the top 8 parties"
      ],
      "execution_count": 8,
      "outputs": []
    },
    {
      "cell_type": "code",
      "metadata": {
        "id": "8Sj6eZPz7S18",
        "outputId": "3ab65b6b-0692-43c6-de8b-7b579ed02425",
        "colab": {
          "base_uri": "https://localhost:8080/",
          "height": 437
        }
      },
      "source": [
        "par_letters = top_parties.keys()\n",
        "top_par_df = df_2020_raw[par_letters]    \n",
        "top_par_df"
      ],
      "execution_count": 9,
      "outputs": [
        {
          "output_type": "execute_result",
          "data": {
            "text/html": [
              "<div>\n",
              "<style scoped>\n",
              "    .dataframe tbody tr th:only-of-type {\n",
              "        vertical-align: middle;\n",
              "    }\n",
              "\n",
              "    .dataframe tbody tr th {\n",
              "        vertical-align: top;\n",
              "    }\n",
              "\n",
              "    .dataframe thead th {\n",
              "        text-align: right;\n",
              "    }\n",
              "</style>\n",
              "<table border=\"1\" class=\"dataframe\">\n",
              "  <thead>\n",
              "    <tr style=\"text-align: right;\">\n",
              "      <th></th>\n",
              "      <th>מחל</th>\n",
              "      <th>פה</th>\n",
              "      <th>ודעם</th>\n",
              "      <th>שס</th>\n",
              "      <th>ג</th>\n",
              "      <th>ל</th>\n",
              "      <th>אמת</th>\n",
              "      <th>טב</th>\n",
              "    </tr>\n",
              "    <tr>\n",
              "      <th>שם ישוב</th>\n",
              "      <th></th>\n",
              "      <th></th>\n",
              "      <th></th>\n",
              "      <th></th>\n",
              "      <th></th>\n",
              "      <th></th>\n",
              "      <th></th>\n",
              "      <th></th>\n",
              "    </tr>\n",
              "  </thead>\n",
              "  <tbody>\n",
              "    <tr>\n",
              "      <th>אבו גווייעד שבט</th>\n",
              "      <td>1</td>\n",
              "      <td>6</td>\n",
              "      <td>112</td>\n",
              "      <td>2</td>\n",
              "      <td>0</td>\n",
              "      <td>0</td>\n",
              "      <td>2</td>\n",
              "      <td>0</td>\n",
              "    </tr>\n",
              "    <tr>\n",
              "      <th>אבו גווייעד שבט</th>\n",
              "      <td>2</td>\n",
              "      <td>0</td>\n",
              "      <td>235</td>\n",
              "      <td>0</td>\n",
              "      <td>0</td>\n",
              "      <td>0</td>\n",
              "      <td>6</td>\n",
              "      <td>0</td>\n",
              "    </tr>\n",
              "    <tr>\n",
              "      <th>אבו גווייעד שבט</th>\n",
              "      <td>1</td>\n",
              "      <td>2</td>\n",
              "      <td>207</td>\n",
              "      <td>0</td>\n",
              "      <td>0</td>\n",
              "      <td>1</td>\n",
              "      <td>5</td>\n",
              "      <td>0</td>\n",
              "    </tr>\n",
              "    <tr>\n",
              "      <th>אבו גוש</th>\n",
              "      <td>32</td>\n",
              "      <td>11</td>\n",
              "      <td>229</td>\n",
              "      <td>2</td>\n",
              "      <td>1</td>\n",
              "      <td>0</td>\n",
              "      <td>15</td>\n",
              "      <td>0</td>\n",
              "    </tr>\n",
              "    <tr>\n",
              "      <th>אבו גוש</th>\n",
              "      <td>23</td>\n",
              "      <td>18</td>\n",
              "      <td>330</td>\n",
              "      <td>0</td>\n",
              "      <td>0</td>\n",
              "      <td>2</td>\n",
              "      <td>6</td>\n",
              "      <td>0</td>\n",
              "    </tr>\n",
              "    <tr>\n",
              "      <th>...</th>\n",
              "      <td>...</td>\n",
              "      <td>...</td>\n",
              "      <td>...</td>\n",
              "      <td>...</td>\n",
              "      <td>...</td>\n",
              "      <td>...</td>\n",
              "      <td>...</td>\n",
              "      <td>...</td>\n",
              "    </tr>\n",
              "    <tr>\n",
              "      <th>תקוע</th>\n",
              "      <td>227</td>\n",
              "      <td>27</td>\n",
              "      <td>2</td>\n",
              "      <td>11</td>\n",
              "      <td>14</td>\n",
              "      <td>15</td>\n",
              "      <td>10</td>\n",
              "      <td>174</td>\n",
              "    </tr>\n",
              "    <tr>\n",
              "      <th>תקוע</th>\n",
              "      <td>188</td>\n",
              "      <td>25</td>\n",
              "      <td>0</td>\n",
              "      <td>13</td>\n",
              "      <td>8</td>\n",
              "      <td>10</td>\n",
              "      <td>7</td>\n",
              "      <td>301</td>\n",
              "    </tr>\n",
              "    <tr>\n",
              "      <th>תראבין אצאנע שבט</th>\n",
              "      <td>0</td>\n",
              "      <td>4</td>\n",
              "      <td>43</td>\n",
              "      <td>0</td>\n",
              "      <td>0</td>\n",
              "      <td>0</td>\n",
              "      <td>0</td>\n",
              "      <td>0</td>\n",
              "    </tr>\n",
              "    <tr>\n",
              "      <th>תראבין אצאנעישוב</th>\n",
              "      <td>40</td>\n",
              "      <td>2</td>\n",
              "      <td>160</td>\n",
              "      <td>0</td>\n",
              "      <td>0</td>\n",
              "      <td>0</td>\n",
              "      <td>0</td>\n",
              "      <td>0</td>\n",
              "    </tr>\n",
              "    <tr>\n",
              "      <th>תרום</th>\n",
              "      <td>254</td>\n",
              "      <td>65</td>\n",
              "      <td>0</td>\n",
              "      <td>47</td>\n",
              "      <td>7</td>\n",
              "      <td>1</td>\n",
              "      <td>9</td>\n",
              "      <td>85</td>\n",
              "    </tr>\n",
              "  </tbody>\n",
              "</table>\n",
              "<p>10631 rows × 8 columns</p>\n",
              "</div>"
            ],
            "text/plain": [
              "                  מחל  פה  ודעם  שס   ג   ל  אמת   טב\n",
              "שם ישוב                                              \n",
              "אבו גווייעד שבט     1   6   112   2   0   0    2    0\n",
              "אבו גווייעד שבט     2   0   235   0   0   0    6    0\n",
              "אבו גווייעד שבט     1   2   207   0   0   1    5    0\n",
              "אבו גוש            32  11   229   2   1   0   15    0\n",
              "אבו גוש            23  18   330   0   0   2    6    0\n",
              "...               ...  ..   ...  ..  ..  ..  ...  ...\n",
              "תקוע              227  27     2  11  14  15   10  174\n",
              "תקוע              188  25     0  13   8  10    7  301\n",
              "תראבין אצאנע שבט    0   4    43   0   0   0    0    0\n",
              "תראבין אצאנעישוב   40   2   160   0   0   0    0    0\n",
              "תרום              254  65     0  47   7   1    9   85\n",
              "\n",
              "[10631 rows x 8 columns]"
            ]
          },
          "metadata": {
            "tags": []
          },
          "execution_count": 9
        }
      ]
    },
    {
      "cell_type": "markdown",
      "metadata": {
        "id": "78P9vBEXjD89"
      },
      "source": [
        "Create a dictionary of the parties:"
      ]
    },
    {
      "cell_type": "code",
      "metadata": {
        "id": "cSf2C3WXjDUZ"
      },
      "source": [
        "party_names = { \"מחל\" : \"הליכוד\", \"פה\" : \"כחול לבן\", \"ודעם\" : \"הרשימה המשותפת\" , \"שס\" : \"שס\" ,\n",
        "               \"ג\" : \"יהדות התורה\", \"ל\" : \"ישראל ביתנו\", \"אמת\" :  \"העבודה גשר מרצ\",  \"טב\" : \"ימינה\"  }"
      ],
      "execution_count": 10,
      "outputs": []
    },
    {
      "cell_type": "markdown",
      "metadata": {
        "id": "lpXltRKp710t"
      },
      "source": [
        "### **The simulation function:**"
      ]
    },
    {
      "cell_type": "code",
      "metadata": {
        "id": "7veDgWzSP7_b"
      },
      "source": [
        "def sample_bin(v_ij, n_ij_t):\n",
        "  v_ij[v_ij > 1] = 1\n",
        "  v_ij[v_ij < 0 ] = 0\n",
        "  simulation = np.empty((n_ij_t.shape[0],n_ij_t.shape[1]))\n",
        "  for ballot in range(n_ij_t.shape[0]):  \n",
        "      for party in range(n_ij_t.shape[1]):\n",
        "          simulation[ballot,party] = np.random.binomial(n_ij_t[ballot,party], v_ij[ballot,party])\n",
        "  return simulation"
      ],
      "execution_count": 11,
      "outputs": []
    },
    {
      "cell_type": "markdown",
      "metadata": {
        "id": "kSrQbVwJTXm1"
      },
      "source": [
        "### **:פונקציה להמרת מטריצה לדאטה פריים לשם הנוחות**"
      ]
    },
    {
      "cell_type": "code",
      "metadata": {
        "id": "l1kgSvc7Qd6Q"
      },
      "source": [
        "def numpy_to_df (matrix):\n",
        "  matrix = pd.DataFrame(matrix)\n",
        "  matrix.index = top_par_df.index\n",
        "  matrix.columns = top_par_df.columns\n",
        "  return matrix"
      ],
      "execution_count": 12,
      "outputs": []
    },
    {
      "cell_type": "markdown",
      "metadata": {
        "id": "avmEhZCya_qS"
      },
      "source": [
        "### **calculating nij tilde** "
      ]
    },
    {
      "cell_type": "code",
      "metadata": {
        "id": "kA0gWdSP0fhJ"
      },
      "source": [
        "# multiplying the number of voters by correct ratio\n",
        "n_ij_t = copy.deepcopy(top_par_df)\n",
        "fixed_ratio = (df_2020_raw[\"בזב\"].sum())/(df_2020_raw['כשרים'].sum())\n",
        "n_ij_t=round(n_ij_t.mul(fixed_ratio,axis=0))\n",
        "\n",
        "n_ij_t = n_ij_t.to_numpy()   # To multiply matrices\n"
      ],
      "execution_count": 13,
      "outputs": []
    },
    {
      "cell_type": "markdown",
      "metadata": {
        "id": "smSTm03D9uby"
      },
      "source": [
        "###**calculating 3 vij for the simulations:**"
      ]
    },
    {
      "cell_type": "markdown",
      "metadata": {
        "id": "Gn9C4myq-6PM"
      },
      "source": [
        "vij = vi"
      ]
    },
    {
      "cell_type": "code",
      "metadata": {
        "id": "asqZFoRbOegb"
      },
      "source": [
        "vi = df_2020_raw[\"כשרים\"]/df_2020_raw['בזב']\n",
        "v_mi = np.asmatrix(vi)\n",
        "vi = mtl.repmat(v_mi,8,1)\n",
        "vi = vi.transpose()"
      ],
      "execution_count": 14,
      "outputs": []
    },
    {
      "cell_type": "markdown",
      "metadata": {
        "id": "lsC2pSU5-_Ab"
      },
      "source": [
        "vij = uj"
      ]
    },
    {
      "cell_type": "code",
      "metadata": {
        "id": "5aSi_64mGrNy"
      },
      "source": [
        "uj_percents = {\"מחל\" : 0.9  , \"פה\" : 0.8 , \"ודעם\" : 0.7 , \"שס\" : 0.6 ,\n",
        "               \"ג\" : 0.5 , \"ל\" : 0.4, \"אמת\" : 0.3 ,  \"טב\" : 0.2  }\n",
        "uj = list(uj_percents.values())\n",
        "u_m= np.asmatrix(uj)\n",
        "uj = mtl.repmat(u_m,10631,1)"
      ],
      "execution_count": 15,
      "outputs": []
    },
    {
      "cell_type": "markdown",
      "metadata": {
        "id": "tdJsvc2G_IBI"
      },
      "source": [
        "vij = random uj"
      ]
    },
    {
      "cell_type": "code",
      "metadata": {
        "id": "3vg_znjkS2_H"
      },
      "source": [
        "rnd_uj_df = np.empty((top_par_df.shape[0],top_par_df.shape[1]))  ## dataframe for the resuls\n",
        "city_list= top_par_df.index.values.tolist() # list of the cities by the 'שם הישוב'\n",
        "\n",
        "last_city = 's'  # random letter for the firsct checking\n",
        "rand_order = list(uj_percents.values())\n",
        "for i in range(0, len(city_list)):\n",
        "  if last_city == city_list[i]:\n",
        "      rnd_uj_df[i,] = rand_order\n",
        "  else: \n",
        "      random.shuffle(rand_order)\n",
        "      rnd_uj_df[i,] = rand_order\n",
        "      last_city = city_list[i]"
      ],
      "execution_count": 16,
      "outputs": []
    },
    {
      "cell_type": "markdown",
      "metadata": {
        "id": "jSOyCYF0ezMz"
      },
      "source": [
        "### **מימוש הסימולציות**"
      ]
    },
    {
      "cell_type": "markdown",
      "metadata": {
        "id": "wgg1f7AMRi-t"
      },
      "source": [
        ":סימולציות ללא תיקון"
      ]
    },
    {
      "cell_type": "code",
      "metadata": {
        "id": "maojyUsyq_30"
      },
      "source": [
        "nij_vi, nij_uj, nij_rnd_uj = [],[],[]\n",
        "\n",
        "for i in range(50):\n",
        "  nij_vi.append(sample_bin(vi,n_ij_t))\n",
        "  nij_uj.append(sample_bin(uj,n_ij_t))\n",
        "  nij_rnd_uj.append(sample_bin(rnd_uj_df,n_ij_t))"
      ],
      "execution_count": 17,
      "outputs": []
    },
    {
      "cell_type": "markdown",
      "metadata": {
        "id": "BRwcF2UZRn7Z"
      },
      "source": [
        ":סימולציות כולל תיקון"
      ]
    },
    {
      "cell_type": "code",
      "metadata": {
        "id": "YXVyQWBf1djL"
      },
      "source": [
        "ratio_vi, ratio_uj, ratio_rnd_uj = [],[],[]\n",
        "\n",
        "for i in range(50):\n",
        "  ratio_vi.append(np.sum(nij_vi[i],axis = 1)/np.sum(n_ij_t,axis = 1))\n",
        "  ratio_uj.append(np.sum(nij_uj[i],axis = 1)/np.sum(n_ij_t,axis = 1))\n",
        "  ratio_rnd_uj.append(np.sum(nij_rnd_uj[i],axis = 1)/np.sum(n_ij_t,axis = 1))"
      ],
      "execution_count": 18,
      "outputs": []
    },
    {
      "cell_type": "code",
      "metadata": {
        "id": "AiOtykn8O1nR",
        "outputId": "1a98348b-fcab-42a5-b920-334d5fc48616",
        "colab": {
          "base_uri": "https://localhost:8080/"
        }
      },
      "source": [
        "len(ratio_vi[1])"
      ],
      "execution_count": 19,
      "outputs": [
        {
          "output_type": "execute_result",
          "data": {
            "text/plain": [
              "10631"
            ]
          },
          "metadata": {
            "tags": []
          },
          "execution_count": 19
        }
      ]
    },
    {
      "cell_type": "code",
      "metadata": {
        "id": "xfnxjDlX0-VT",
        "outputId": "33a7ce0d-c868-43f8-bee1-b443b6c378e5",
        "colab": {
          "base_uri": "https://localhost:8080/"
        }
      },
      "source": [
        "nij_vi_fix, nij_uj_fix, nij_rnd_uj_fix = copy.deepcopy(nij_vi), copy.deepcopy(nij_uj), copy.deepcopy(nij_rnd_uj)\n",
        "\n",
        "for sim in range(50):\n",
        "  for i in range(10631):\n",
        "    for j in range(8):\n",
        "      nij_vi_fix[sim][i,j]= nij_vi[sim][i,j]/ratio_vi[sim][i]\n",
        "      nij_uj_fix[sim][i,j] = nij_uj[sim][i,j]/ratio_uj[sim][i]\n",
        "      nij_rnd_uj_fix[sim][i,j] = nij_rnd_uj[sim][i,j]/ratio_rnd_uj[sim][i]"
      ],
      "execution_count": 20,
      "outputs": [
        {
          "output_type": "stream",
          "text": [
            "/usr/local/lib/python3.6/dist-packages/ipykernel_launcher.py:6: RuntimeWarning: invalid value encountered in double_scalars\n",
            "  \n"
          ],
          "name": "stderr"
        }
      ]
    },
    {
      "cell_type": "markdown",
      "metadata": {
        "id": "RixVX62lP3S-"
      },
      "source": [
        "### **qj - חישוב השכיחות**"
      ]
    },
    {
      "cell_type": "code",
      "metadata": {
        "id": "1Fdq8q4YO2UK",
        "outputId": "57035c9b-cca0-41c0-d658-9a7d0d43e071",
        "colab": {
          "base_uri": "https://localhost:8080/"
        }
      },
      "source": [
        "n_ij_t = numpy_to_df(n_ij_t)\n",
        "qj = parties_votes_percents(n_ij_t,0)\n",
        "qj"
      ],
      "execution_count": 21,
      "outputs": [
        {
          "output_type": "execute_result",
          "data": {
            "text/plain": [
              "מחל     0.294239\n",
              "פה      0.265223\n",
              "ודעם    0.133291\n",
              "שס      0.077967\n",
              "ג       0.061891\n",
              "ל       0.059274\n",
              "אמת     0.057599\n",
              "טב      0.050516\n",
              "dtype: float64"
            ]
          },
          "metadata": {
            "tags": []
          },
          "execution_count": 21
        }
      ]
    },
    {
      "cell_type": "markdown",
      "metadata": {
        "id": "aNpGiZkxfAjG"
      },
      "source": [
        "### **qj_hat - חישוב אומדן לשכיחות מהסימולציות כולל התיקון**"
      ]
    },
    {
      "cell_type": "markdown",
      "metadata": {
        "id": "OTBVC1HoMv89"
      },
      "source": [
        "הפיכת מטריצות הסימולציה לדאטה פריים לשם נוחות"
      ]
    },
    {
      "cell_type": "code",
      "metadata": {
        "id": "qSbJadhcYfub"
      },
      "source": [
        "qj_vi_hat , qj_uj_hat, qj_rnd_uj_hat = [],[],[]\n",
        "\n",
        "for sim in range(50):\n",
        "  qj_vi_hat.append(numpy_to_df(nij_vi_fix[sim]))\n",
        "  qj_uj_hat.append(numpy_to_df(nij_uj_fix[sim]))\n",
        "  qj_rnd_uj_hat.append(numpy_to_df(nij_rnd_uj_fix[sim]))  \n"
      ],
      "execution_count": 22,
      "outputs": []
    },
    {
      "cell_type": "markdown",
      "metadata": {
        "id": "tyRb5S83SnAQ"
      },
      "source": [
        "חישוב אחוז ההצבעה לכל מפלגה בכל סימולציה"
      ]
    },
    {
      "cell_type": "code",
      "metadata": {
        "id": "lIV0mxNHbdpV"
      },
      "source": [
        "qj_vi_fix_per , qj_uj_fix_per, qj_rnd_uj_fix_per = [],[],[]\n",
        "\n",
        "for sim in range(50):\n",
        "    qj_vi_fix_per.append(parties_votes_percents(qj_vi_hat[sim],0))\n",
        "    qj_uj_fix_per.append(parties_votes_percents(qj_uj_hat[sim],0))\n",
        "    qj_rnd_uj_fix_per.append(parties_votes_percents(qj_rnd_uj_hat[sim],0))"
      ],
      "execution_count": 23,
      "outputs": []
    },
    {
      "cell_type": "markdown",
      "metadata": {
        "id": "S4ituuLmS1ox"
      },
      "source": [
        "חישוב ממוצע אחוז ההצבעה לכל מפלגה על כל הסימולציות"
      ]
    },
    {
      "cell_type": "code",
      "metadata": {
        "id": "gpmibj24dQpQ"
      },
      "source": [
        "qj_vi_hat_mean , qj_uj_hat_mean , qj_rnd_uj_hat_mean = [0,0,0,0,0,0,0,0], [0,0,0,0,0,0,0,0], [0,0,0,0,0,0,0,0]\n",
        "\n",
        "\n",
        "# sum all the percents for each party\n",
        "for par in range(8):\n",
        "  for sim in range(50):\n",
        "    qj_vi_hat_mean[par] = qj_vi_hat_mean[par] + qj_vi_fix_per[sim][par]\n",
        "    qj_uj_hat_mean[par] = qj_uj_hat_mean[par] + qj_uj_fix_per[sim][par]\n",
        "    qj_rnd_uj_hat_mean[par] = qj_rnd_uj_hat_mean[par] + qj_rnd_uj_fix_per[sim][par]\n",
        "\n",
        "# calculate avareage for each party\n",
        "for i in range(8):\n",
        "  qj_vi_hat_mean[i] = qj_vi_hat_mean[i]/50\n",
        "  qj_uj_hat_mean[i] = qj_uj_hat_mean[i]/50\n",
        "  qj_rnd_uj_hat_mean[i] = qj_rnd_uj_hat_mean[i]/50"
      ],
      "execution_count": 24,
      "outputs": []
    },
    {
      "cell_type": "markdown",
      "metadata": {
        "id": "pKoreiHdTGZs"
      },
      "source": [
        ":הפיכת הוקטור שמתקבל לסדרה המסומנת לפי מפלגות עבור הגרפים"
      ]
    },
    {
      "cell_type": "code",
      "metadata": {
        "id": "x5fgmz9cm-Du"
      },
      "source": [
        "qj_vi_hat_mean, qj_uj_hat_mean , qj_rnd_uj_hat_mean = pd.Series(qj_vi_hat_mean), pd.Series(qj_uj_hat_mean), pd.Series(qj_rnd_uj_hat_mean)\n",
        "qj_vi_hat_mean.index,  qj_uj_hat_mean.index, qj_rnd_uj_hat_mean.index = top_par_df.columns, top_par_df.columns, top_par_df.columns"
      ],
      "execution_count": 25,
      "outputs": []
    },
    {
      "cell_type": "markdown",
      "metadata": {
        "id": "8XkvcGu1QAU1"
      },
      "source": [
        "### **pj - חישוב שכיחות מהסימולציות ללא התיקון**"
      ]
    },
    {
      "cell_type": "code",
      "metadata": {
        "id": "wUokt_oaQHXe"
      },
      "source": [
        "pj_vi , pj_uj , pj_rnd_uj = [], [], []\n",
        "\n",
        "for sim in range(50):\n",
        "  pj_vi.append(numpy_to_df(nij_vi[sim]))\n",
        "  pj_uj.append(numpy_to_df(nij_uj[sim]))\n",
        "  pj_rnd_uj.append(numpy_to_df(nij_rnd_uj[sim]))  "
      ],
      "execution_count": 26,
      "outputs": []
    },
    {
      "cell_type": "code",
      "metadata": {
        "id": "uYnQ9MN3TzXX"
      },
      "source": [
        "pj_vi_per , pj_uj_per, pj_rnd_uj_per = [],[],[]\n",
        "for sim in range(50):\n",
        "  pj_vi_per.append(parties_votes_percents(pj_vi[sim],0))\n",
        "  pj_uj_per.append(parties_votes_percents(pj_uj[sim],0))\n",
        "  pj_rnd_uj_per.append(parties_votes_percents(pj_rnd_uj[sim],0))"
      ],
      "execution_count": 27,
      "outputs": []
    },
    {
      "cell_type": "code",
      "metadata": {
        "id": "bLaiiaZtUXlv"
      },
      "source": [
        "pj_vi , pj_uj , pj_rnd_uj = [0,0,0,0,0,0,0,0], [0,0,0,0,0,0,0,0], [0,0,0,0,0,0,0,0]\n",
        "for i in range(8):\n",
        "  for j in range(50):\n",
        "    pj_vi[i] = pj_vi[i] + pj_vi_per[j][i]\n",
        "    pj_uj[i] = pj_uj[i] + pj_uj_per[j][i]\n",
        "    pj_rnd_uj[i] = pj_rnd_uj[i] + pj_rnd_uj_per[j][i]"
      ],
      "execution_count": 28,
      "outputs": []
    },
    {
      "cell_type": "code",
      "metadata": {
        "id": "tujqq_OXXeDM"
      },
      "source": [
        "for i in range(8):\n",
        "  pj_vi[i] = pj_vi[i]/50\n",
        "  pj_uj[i] = pj_uj[i]/50\n",
        "  pj_rnd_uj[i] = pj_rnd_uj[i]/50"
      ],
      "execution_count": 29,
      "outputs": []
    },
    {
      "cell_type": "code",
      "metadata": {
        "id": "rh1bJq9VT6Uv"
      },
      "source": [
        "pj_vi, pj_uj , pj_rnd_uj = pd.Series(pj_vi), pd.Series(pj_uj), pd.Series(pj_rnd_uj)\n",
        "pj_vi.index,  pj_uj.index, pj_rnd_uj.index = top_par_df.columns, top_par_df.columns, top_par_df.columns"
      ],
      "execution_count": 30,
      "outputs": []
    },
    {
      "cell_type": "markdown",
      "metadata": {
        "id": "wA7PeV-mLavp"
      },
      "source": [
        "#**Q.1:**"
      ]
    },
    {
      "cell_type": "markdown",
      "metadata": {
        "id": "YCRqv_X1muNN"
      },
      "source": [
        "**OLS fix function**"
      ]
    },
    {
      "cell_type": "code",
      "metadata": {
        "id": "Cw_9LgtfLll7"
      },
      "source": [
        "def new_qj_hat (nij , ni): \n",
        "  y = ni          # \"בזב\" in ballot i \n",
        "  x = nij         # voters for party j in ballot i\n",
        "\n",
        "  model = sm.OLS(y,x).fit()\n",
        "  uj_hat = model.params           \n",
        "\n",
        "  fix = x * uj_hat\n",
        "\n",
        "  return fix"
      ],
      "execution_count": 31,
      "outputs": []
    },
    {
      "cell_type": "markdown",
      "metadata": {
        "id": "3Wg7z10UWyWs"
      },
      "source": [
        "#**Q.2:**"
      ]
    },
    {
      "cell_type": "markdown",
      "metadata": {
        "id": "cZBP2ieg7QY8"
      },
      "source": [
        "**calculating ni for the new qj_hat**"
      ]
    },
    {
      "cell_type": "code",
      "metadata": {
        "id": "UM52DtTKMgXF"
      },
      "source": [
        "n_ij_t = n_ij_t.to_numpy()   # To multiply matrices\n",
        "\n",
        "ni = np.sum(n_ij_t,axis = 1)"
      ],
      "execution_count": 32,
      "outputs": []
    },
    {
      "cell_type": "markdown",
      "metadata": {
        "id": "SKOXot_JeKfD"
      },
      "source": [
        "### **qj חישוב האומדן החדש ל:**"
      ]
    },
    {
      "cell_type": "code",
      "metadata": {
        "id": "8dp1btzxW6Ic"
      },
      "source": [
        "new_nij_vi, new_nij_uj, new_nij_rnd_uj = [],[],[]\n",
        "for i in range(50):\n",
        "  new_nij_vi.append(new_qj_hat(nij_vi[i], ni))\n",
        "  new_nij_uj.append(new_qj_hat(nij_uj[i],ni))\n",
        "  new_nij_rnd_uj.append(new_qj_hat(nij_rnd_uj[i], ni))"
      ],
      "execution_count": 35,
      "outputs": []
    },
    {
      "cell_type": "markdown",
      "metadata": {
        "id": "RbndTkIofw8g"
      },
      "source": [
        "הפיכת מטריצות הסימולציה לדאטה פריים לשם נוחות"
      ]
    },
    {
      "cell_type": "code",
      "metadata": {
        "id": "cCbfmdUAftoN"
      },
      "source": [
        "new_qj_vi_hat , new_qj_uj_hat, new_qj_rnd_uj_hat = [],[],[]\n",
        "\n",
        "for sim in range(50):\n",
        "  new_qj_vi_hat.append(numpy_to_df(new_nij_vi[sim]))\n",
        "  new_qj_uj_hat.append(numpy_to_df(new_nij_uj[sim]))\n",
        "  new_qj_rnd_uj_hat.append(numpy_to_df(new_nij_rnd_uj[sim]))  "
      ],
      "execution_count": 36,
      "outputs": []
    },
    {
      "cell_type": "markdown",
      "metadata": {
        "id": "1pmM3w4KfeU_"
      },
      "source": [
        "חישוב אחוז ההצבעה לכל מפלגה בכל סימולציה"
      ]
    },
    {
      "cell_type": "code",
      "metadata": {
        "id": "ssK831svf2M-"
      },
      "source": [
        "new_qj_vi_per , new_qj_uj_per, new_qj_rnd_uj_per = [],[],[]\n",
        "\n",
        "for sim in range(50):\n",
        "    new_qj_vi_per.append(parties_votes_percents(new_qj_vi_hat[sim],0))\n",
        "    new_qj_uj_per.append(parties_votes_percents(new_qj_uj_hat[sim],0))\n",
        "    new_qj_rnd_uj_per.append(parties_votes_percents(new_qj_rnd_uj_hat[sim],0))"
      ],
      "execution_count": 37,
      "outputs": []
    },
    {
      "cell_type": "markdown",
      "metadata": {
        "id": "xqVoqeqcffEV"
      },
      "source": [
        "חישוב ממוצע אחוז ההצבעה לכל מפלגה על כל הסימולציות"
      ]
    },
    {
      "cell_type": "code",
      "metadata": {
        "id": "dpkV_ZxDf4pP"
      },
      "source": [
        "new_qj_vi_hat_mean , new_qj_uj_hat_mean , new_qj_rnd_uj_hat_mean = [0,0,0,0,0,0,0,0], [0,0,0,0,0,0,0,0], [0,0,0,0,0,0,0,0]\n",
        "\n",
        "\n",
        "# sum all the percents for each party\n",
        "for par in range(8):\n",
        "  for sim in range(50):\n",
        "    new_qj_vi_hat_mean[par] = new_qj_vi_hat_mean[par] + new_qj_vi_per[sim][par]\n",
        "    new_qj_uj_hat_mean[par] = new_qj_uj_hat_mean[par] + new_qj_uj_per[sim][par]\n",
        "    new_qj_rnd_uj_hat_mean[par] = new_qj_rnd_uj_hat_mean[par] + new_qj_rnd_uj_per[sim][par]\n",
        "\n",
        "# calculate average for each party\n",
        "for i in range(8):\n",
        "  new_qj_vi_hat_mean[i] = new_qj_vi_hat_mean[i]/50\n",
        "  new_qj_uj_hat_mean[i] = new_qj_uj_hat_mean[i]/50\n",
        "  new_qj_rnd_uj_hat_mean[i] = new_qj_rnd_uj_hat_mean[i]/50"
      ],
      "execution_count": 38,
      "outputs": []
    },
    {
      "cell_type": "markdown",
      "metadata": {
        "id": "bB4-d8vYfltF"
      },
      "source": [
        ":הפיכת הוקטור שמתקבל לסדרה המסומנת לפי מפלגות עבור הגרפים"
      ]
    },
    {
      "cell_type": "code",
      "metadata": {
        "id": "BMvEc3axf-D4"
      },
      "source": [
        "new_qj_vi_hat_mean, new_qj_uj_hat_mean , new_qj_rnd_uj_hat_mean = pd.Series(new_qj_vi_hat_mean), pd.Series(new_qj_uj_hat_mean), pd.Series(new_qj_rnd_uj_hat_mean)\n",
        "new_qj_vi_hat_mean.index,  new_qj_uj_hat_mean.index, new_qj_rnd_uj_hat_mean.index = top_par_df.columns, top_par_df.columns, top_par_df.columns"
      ],
      "execution_count": 39,
      "outputs": []
    },
    {
      "cell_type": "markdown",
      "metadata": {
        "id": "ojv2o7X0wxwH"
      },
      "source": [
        "### **barplots function:**"
      ]
    },
    {
      "cell_type": "code",
      "metadata": {
        "id": "MNLar7yacVqj"
      },
      "source": [
        "def parties_bar(city1, city2, city3, city4 ,sd2, sd3, sd4):\n",
        "    width = 0.15  # set column width\n",
        "    n = 8  # number of parties\n",
        "    names = party_names.values()\n",
        "    rev_names = [name[::-1] for name in list(names)]\n",
        "    fig, ax = plt.subplots(figsize=(10, 5))  # plt.subplots()\n",
        "\n",
        "    city1_bar = ax.bar(np.arange(n)-width, list(city1), width, color='royalblue')\n",
        "    city2_bar = ax.bar(np.arange(n)+0, list(city2), width, color='lightsteelblue', yerr =sd2, capsize =5)\n",
        "    city3_bar = ax.bar(np.arange(n)+width, list(city3), width, color='deepskyblue', yerr =sd3, capsize =5)\n",
        "    city4_bar = ax.bar(np.arange(n)+0.3, list(city4), width, color='mediumpurple', yerr =sd4, capsize =5)\n",
        "        \n",
        "    ax.set_ylabel('Votes percent')\n",
        "    ax.set_xlabel('Parties Names')\n",
        "    ax.set_title('Votes percent per party 2020')\n",
        "    ax.set_xticks(np.arange(n))\n",
        "    ax.set_xticklabels(rev_names)\n",
        "    plt.setp(ax.get_xticklabels(), rotation=45, ha=\"right\",rotation_mode=\"anchor\")\n",
        "\n",
        "    ax.legend((city1_bar[0], city2_bar[0],city3_bar[0],city4_bar[0]), ('Actual turnout','Unfixed simulation turnout','Fixed simulation turnout - LAB 3','Fixed simulation turnout - OLS'))\n",
        "    plt.show()\n",
        "\n",
        "    return fig, ax"
      ],
      "execution_count": 42,
      "outputs": []
    },
    {
      "cell_type": "markdown",
      "metadata": {
        "id": "d4dA-nCXw3hO"
      },
      "source": [
        "### **The plots:**"
      ]
    },
    {
      "cell_type": "markdown",
      "metadata": {
        "id": "g2134SK8JcUU"
      },
      "source": [
        "**סימולציה א**"
      ]
    },
    {
      "cell_type": "code",
      "metadata": {
        "id": "k8Vjtdh_JapZ"
      },
      "source": [
        "sd_pj_vi = np.std(pj_vi_per,axis =0)\n",
        "sd_qj_vi_fix = np.std(qj_vi_fix_per,axis =0)\n",
        "sd_qj_vi_new = np.std(new_qj_vi_per,axis =0)"
      ],
      "execution_count": 43,
      "outputs": []
    },
    {
      "cell_type": "code",
      "metadata": {
        "id": "7-Pi95nQpIzt",
        "outputId": "bab00a98-02ef-410d-a33f-d72cd6c51c0a",
        "colab": {
          "base_uri": "https://localhost:8080/",
          "height": 437
        }
      },
      "source": [
        "parties_bar(qj, pj_vi, qj_vi_hat_mean, new_qj_vi_hat_mean, sd_pj_vi, sd_qj_vi_fix, sd_qj_vi_new)"
      ],
      "execution_count": 44,
      "outputs": [
        {
          "output_type": "display_data",
          "data": {
            "image/png": "[encoded data removed]",
            "text/plain": [
              "<Figure size 720x360 with 1 Axes>"
            ]
          },
          "metadata": {
            "tags": [],
            "needs_background": "light"
          }
        },
        {
          "output_type": "execute_result",
          "data": {
            "text/plain": [
              "(<Figure size 720x360 with 1 Axes>,\n",
              " <matplotlib.axes._subplots.AxesSubplot at 0x7fb269c77198>)"
            ]
          },
          "metadata": {
            "tags": []
          },
          "execution_count": 44
        }
      ]
    },
    {
      "cell_type": "markdown",
      "metadata": {
        "id": "15xLYlTU7pLV"
      },
      "source": [
        "ניתן לראות שהתיקון החדש מציג אחוזי הצבעה שונים מאחוזי ההצבעה האמיתיים, בשונה מהתיקון של מעבדה 3 שדווקא תואם לתוצאות האמת. ולכן במקרה זה נעדיף את התיקון ממעבדה 3"
      ]
    },
    {
      "cell_type": "markdown",
      "metadata": {
        "id": "OUM7PFlgJr5v"
      },
      "source": [
        "**סימולציה ב**"
      ]
    },
    {
      "cell_type": "code",
      "metadata": {
        "id": "W9vM6BjGvH3g"
      },
      "source": [
        "sd_pj_uj = np.std(pj_uj_per,axis =0)\n",
        "sd_qj_uj_fix = np.std(qj_uj_fix_per,axis =0)\n",
        "sd_qj_uj_new = np.std(new_qj_uj_per,axis =0)"
      ],
      "execution_count": 45,
      "outputs": []
    },
    {
      "cell_type": "code",
      "metadata": {
        "id": "uxNmtWtaugej",
        "outputId": "9a1eff55-1f6b-4886-8c42-c68fc5f4a548",
        "colab": {
          "base_uri": "https://localhost:8080/",
          "height": 437
        }
      },
      "source": [
        "parties_bar(qj, pj_uj, qj_uj_hat_mean, new_qj_uj_hat_mean, sd_pj_uj, sd_qj_uj_fix, sd_qj_uj_new)"
      ],
      "execution_count": 46,
      "outputs": [
        {
          "output_type": "display_data",
          "data": {
            "image/png": "[encoded data removed]",
            "text/plain": [
              "<Figure size 720x360 with 1 Axes>"
            ]
          },
          "metadata": {
            "tags": [],
            "needs_background": "light"
          }
        },
        {
          "output_type": "execute_result",
          "data": {
            "text/plain": [
              "(<Figure size 720x360 with 1 Axes>,\n",
              " <matplotlib.axes._subplots.AxesSubplot at 0x7fb2696dff98>)"
            ]
          },
          "metadata": {
            "tags": []
          },
          "execution_count": 46
        }
      ]
    },
    {
      "cell_type": "markdown",
      "metadata": {
        "id": "JdiYY1548Akc"
      },
      "source": [
        "במקרה זה דווקא התיקון החדש מייצג בצורה נכונה יותר את תוצאות האמת, בשונה מהתיקון ממעבדה 3 ולכן במקרה זה נעדיף את התיקון של מודל הרגרסיה"
      ]
    },
    {
      "cell_type": "markdown",
      "metadata": {
        "id": "-oZ2TbdpJvk2"
      },
      "source": [
        "**סימולציה ג**"
      ]
    },
    {
      "cell_type": "code",
      "metadata": {
        "id": "AXCKU8z_7X-r"
      },
      "source": [
        "sd_pj_rnd_uj = np.std(pj_rnd_uj_per,axis =0)\n",
        "sd_qj_rnd_uj_fix = np.std(qj_rnd_uj_fix_per,axis =0)\n",
        "sd_qj_rnd_uj_new = np.std(new_qj_rnd_uj_per,axis =0)"
      ],
      "execution_count": 47,
      "outputs": []
    },
    {
      "cell_type": "code",
      "metadata": {
        "id": "oII0wk4A7ZHi",
        "outputId": "81e23238-f37f-41e4-80ce-b48dc4663318",
        "colab": {
          "base_uri": "https://localhost:8080/",
          "height": 437
        }
      },
      "source": [
        "parties_bar(qj, pj_rnd_uj, qj_rnd_uj_hat_mean, new_qj_rnd_uj_hat_mean, sd_pj_rnd_uj, sd_qj_rnd_uj_fix, sd_qj_rnd_uj_new)"
      ],
      "execution_count": 48,
      "outputs": [
        {
          "output_type": "display_data",
          "data": {
            "image/png": "[encoded data removed]",
            "text/plain": [
              "<Figure size 720x360 with 1 Axes>"
            ]
          },
          "metadata": {
            "tags": [],
            "needs_background": "light"
          }
        },
        {
          "output_type": "execute_result",
          "data": {
            "text/plain": [
              "(<Figure size 720x360 with 1 Axes>,\n",
              " <matplotlib.axes._subplots.AxesSubplot at 0x7fb2695da5c0>)"
            ]
          },
          "metadata": {
            "tags": []
          },
          "execution_count": 48
        }
      ]
    },
    {
      "cell_type": "markdown",
      "metadata": {
        "id": "HsfqDJ_i8XBu"
      },
      "source": [
        "ניתן לראות שישנן מפלגות שבהן תיקון מודל הרגרסיה יחסית קרוב אבל באחרות הוא רחוק מתוצאות האמת. בשונה מהתיקון ממעבדה 3 שהוא אומד יחסית מדויק יותר ולכן נעדיף את התיקון ממעבדה 3.\n",
        "\n",
        "\n"
      ]
    },
    {
      "cell_type": "markdown",
      "metadata": {
        "id": "7AtWRVa09Jgj"
      },
      "source": [
        "\n",
        "באופן כללי ניתן לראות שהאומד ממעבדה 3 מדויק שכן הוא דייק יותר במקרים בהם הנחות ההסתברות היו כלליות ולא קונקרטיות (אחוז הצבעה רנדומלי , או לפי קלפי בלבד).\n",
        "בנוסף, מכיוון שהאומד החדש היה מדויק רק במקרה בו ההסתברות היתה יחסית לגודל המפלגות, וזו הנה שהיא חזקה מדי אז נעדיף דווקא את האומד הקודם."
      ]
    },
    {
      "cell_type": "markdown",
      "metadata": {
        "id": "NVfVt7jWJcpE"
      },
      "source": [
        "# **Q.3**"
      ]
    },
    {
      "cell_type": "markdown",
      "metadata": {
        "id": "TL9Ct-nvRBfJ"
      },
      "source": [
        "### **איחוד הנתונים של הבחירות עם המדד החברתי-כלכלי ומציאת יישובים משותפים**"
      ]
    },
    {
      "cell_type": "code",
      "metadata": {
        "id": "7x23ZmSGJjVJ"
      },
      "source": [
        "df_2020_raw = pd.read_csv(io.BytesIO(uploaded['votes per city 2020.csv']),  encoding = 'iso-8859-8', index_col=['שם ישוב']).sort_index()\n",
        "df_2020_raw = df_2020_raw.drop(['מעטפות חיצוניות'], axis=0)\n",
        "df_2020 = df_2020_raw.drop('סמל ועדה', axis=1) # new column added in Sep 2019\n",
        "df_2020 = df_2020[df_2020.columns[0:-1]] # removing \"metadata\" columns\n",
        "eshkol_hevrati_calcali  = pd.read_csv(\"Eshkol Hevrati Calcali.csv\")"
      ],
      "execution_count": 49,
      "outputs": []
    },
    {
      "cell_type": "markdown",
      "metadata": {
        "id": "PPGWe7uQKLRy"
      },
      "source": [
        "בכדי לאחד את שני מסדי הנתונים על פי הערים המשותפות נבצע\n",
        "\n",
        "inner join\n"
      ]
    },
    {
      "cell_type": "code",
      "metadata": {
        "id": "0DmKa1M7KOBz",
        "outputId": "83cf3300-1630-4805-e3e6-6910d8d271e6",
        "colab": {
          "base_uri": "https://localhost:8080/"
        }
      },
      "source": [
        "df_2020.rename(columns={\"סמל ישוב\":\"set_code\"}, inplace=True)\n",
        "join_result = pd.merge(eshkol_hevrati_calcali,df_2020,on=\"set_code\",how=\"inner\")           ## inner join\n",
        "\n",
        "join_result.shape[0]  "
      ],
      "execution_count": 50,
      "outputs": [
        {
          "output_type": "execute_result",
          "data": {
            "text/plain": [
              "1170"
            ]
          },
          "metadata": {
            "tags": []
          },
          "execution_count": 50
        }
      ]
    },
    {
      "cell_type": "markdown",
      "metadata": {
        "id": "ngX0NQsTKPz8"
      },
      "source": [
        ".קיבלנו כי יש 1170 ערים במשותף לשני הקבצים"
      ]
    },
    {
      "cell_type": "markdown",
      "metadata": {
        "id": "acPc0ZT1PTM0"
      },
      "source": [
        "### **:חישוב אחוזי הצבעה כלליים ואחוזי הצבעה ביישובים שכן במדד**"
      ]
    },
    {
      "cell_type": "code",
      "metadata": {
        "id": "FxwAJhPvKlVr"
      },
      "source": [
        "sum_join_result = join_result.sum(axis=0)\n",
        "top_par_join = sum_join_result[par_letters]/sum_join_result['כשרים'] "
      ],
      "execution_count": 51,
      "outputs": []
    },
    {
      "cell_type": "code",
      "metadata": {
        "id": "Nfzu-2rnQdEm",
        "outputId": "5726fa8e-b4d2-4ab4-caeb-6f8d528cc5d4",
        "colab": {
          "base_uri": "https://localhost:8080/"
        }
      },
      "source": [
        "top_par_join"
      ],
      "execution_count": 52,
      "outputs": [
        {
          "output_type": "execute_result",
          "data": {
            "text/plain": [
              "מחל      0.293319\n",
              "פה       0.264256\n",
              "ודעם     0.129106\n",
              "שס      0.0776491\n",
              "ג       0.0615037\n",
              "ל       0.0590187\n",
              "אמת     0.0572578\n",
              "טב      0.0501514\n",
              "dtype: object"
            ]
          },
          "metadata": {
            "tags": []
          },
          "execution_count": 52
        }
      ]
    },
    {
      "cell_type": "markdown",
      "metadata": {
        "id": "XeMZcVu6O5zH"
      },
      "source": [
        "**פונקציה להצגת הגרפים**"
      ]
    },
    {
      "cell_type": "code",
      "metadata": {
        "id": "THmySKcIKTrS"
      },
      "source": [
        "def bar_plot_2(v1, v2, legend, w,h):\n",
        "    \n",
        "    width = 0.25\n",
        "    n = 8\n",
        "    rev_names = [name[::-1] for name in list(party_names.values())]\n",
        "    fig, ax = plt.subplots(figsize=(w,h))  # plt.subplots()\n",
        "\n",
        "    bar_a = ax.bar(np.arange(n)- width, list(v1), width, color='royalblue')\n",
        "    bar_b = ax.bar(np.arange(n) , list(v2), width, color='lightsteelblue')\n",
        "\n",
        "\n",
        "    ax.set_ylabel('Votes percentage')\n",
        "    ax.set_xlabel('Parties Names')\n",
        "    ax.set_title('Votes percentage per party 2020' )\n",
        "    ax.legend((bar_a[0], bar_b[0]), legend)\n",
        "    ax.set_xticks(np.arange(n))\n",
        "    plt.setp(ax.get_xticklabels(), rotation=60, ha=\"right\",rotation_mode=\"anchor\")\n",
        "    ax.set_xticklabels(rev_names)\n",
        "    plt.show()\n",
        "\n",
        "    return fig, ax"
      ],
      "execution_count": 53,
      "outputs": []
    },
    {
      "cell_type": "code",
      "metadata": {
        "id": "8pLqEn7YQZq-",
        "outputId": "8b68dcec-5dbd-4931-882d-e0ed27c08680",
        "colab": {
          "base_uri": "https://localhost:8080/",
          "height": 448
        }
      },
      "source": [
        "bar_plot_2(qj,top_par_join, legend= ('Actual turnout', 'Index turnout'),w=8, h=5)"
      ],
      "execution_count": 54,
      "outputs": [
        {
          "output_type": "display_data",
          "data": {
            "image/png": "[encoded data removed]",
            "text/plain": [
              "<Figure size 576x360 with 1 Axes>"
            ]
          },
          "metadata": {
            "tags": [],
            "needs_background": "light"
          }
        },
        {
          "output_type": "execute_result",
          "data": {
            "text/plain": [
              "(<Figure size 576x360 with 1 Axes>,\n",
              " <matplotlib.axes._subplots.AxesSubplot at 0x7fb269535860>)"
            ]
          },
          "metadata": {
            "tags": []
          },
          "execution_count": 54
        }
      ]
    },
    {
      "cell_type": "markdown",
      "metadata": {
        "id": "oULPl2zFKpnH"
      },
      "source": [
        " בגרף ניתן לראות שינויים מזעריים מבחינת אחוזים , כלומר רוב היישובים שנכללו באחוזי ההצבעה בפועל נמצאים גם במדד החברתי כלכלי , ולכן גם אחוזי ההצבעה של הישובים שבמדד קרובים מאוד לתוצאות האמת."
      ]
    },
    {
      "cell_type": "markdown",
      "metadata": {
        "id": "M8qdoAI7yAFt"
      },
      "source": [
        "**בדיקת התפלגות היישובים שלא נמצאים במדד החברתי-כלכלי**"
      ]
    },
    {
      "cell_type": "code",
      "metadata": {
        "id": "HxUsXo7PFEoA",
        "outputId": "d3a54b58-f496-498f-acba-5e74206dd7fc",
        "colab": {
          "base_uri": "https://localhost:8080/"
        }
      },
      "source": [
        "join_result1 = pd.merge(df_2020, eshkol_hevrati_calcali, on=\"set_code\", how=\"outer\", indicator=True\n",
        "              ).query('_merge==\"left_only\"')\n",
        "not_eshkol = df_2020.loc[df_2020['set_code'].isin(join_result1[\"set_code\"])]\n",
        "not_eshkol = not_eshkol [['כשרים','מחל', 'פה', 'ודעם', 'שס', 'ג', 'ל', 'אמת', 'טב']]\n",
        "len(not_eshkol)"
      ],
      "execution_count": 55,
      "outputs": [
        {
          "output_type": "execute_result",
          "data": {
            "text/plain": [
              "43"
            ]
          },
          "metadata": {
            "tags": []
          },
          "execution_count": 55
        }
      ]
    },
    {
      "cell_type": "code",
      "metadata": {
        "id": "6RXZUH19RVr0"
      },
      "source": [
        "sum_not_eshkol  = not_eshkol.sum(axis=0)\n",
        "not_eshkol  = sum_not_eshkol[par_letters]/sum_not_eshkol['כשרים'] "
      ],
      "execution_count": 56,
      "outputs": []
    },
    {
      "cell_type": "code",
      "metadata": {
        "id": "JqbiURZUI9A4",
        "outputId": "f4dc583c-1c59-44bc-83cd-49dbe2524e74",
        "colab": {
          "base_uri": "https://localhost:8080/",
          "height": 448
        }
      },
      "source": [
        "bar_plot_2(qj, not_eshkol, legend= ('Actual turnout', 'Not in index turnout'),w=8, h=5)"
      ],
      "execution_count": 57,
      "outputs": [
        {
          "output_type": "display_data",
          "data": {
            "image/png": "[encoded data removed]",
            "text/plain": [
              "<Figure size 576x360 with 1 Axes>"
            ]
          },
          "metadata": {
            "tags": [],
            "needs_background": "light"
          }
        },
        {
          "output_type": "execute_result",
          "data": {
            "text/plain": [
              "(<Figure size 576x360 with 1 Axes>,\n",
              " <matplotlib.axes._subplots.AxesSubplot at 0x7fb2694115c0>)"
            ]
          },
          "metadata": {
            "tags": []
          },
          "execution_count": 57
        }
      ]
    },
    {
      "cell_type": "markdown",
      "metadata": {
        "id": "WqjUkq0yKLxP"
      },
      "source": [
        "ניתן לראות שהיישובים שלא מופיעים במדד הכלכלי-חברתי אינם משקפים את אחוז ההצבעה הכללי בתוצאות האמת. בנוסף מכיוון שזה מספר יישובים קטן אז אין לו משקל מרכזי בתוצאות הסופיות."
      ]
    },
    {
      "cell_type": "markdown",
      "metadata": {
        "id": "rXUWKOOuKrQY"
      },
      "source": [
        "# **Q.4**"
      ]
    },
    {
      "cell_type": "markdown",
      "metadata": {
        "id": "wrGOKupiKuKU"
      },
      "source": [
        "### **סעיף א**"
      ]
    },
    {
      "cell_type": "code",
      "metadata": {
        "id": "T-DRP2-pKwsf"
      },
      "source": [
        "eshkol = []\n",
        "\n",
        "for i in range(1,11):\n",
        "  data_new = pd.DataFrame(join_result.where(join_result[\"eco_level\"] == i))\n",
        "  data_8 = data_new.sum()[par_letters]\n",
        "  eshkol.append(data_8/data_new.sum()[\"כשרים\"])"
      ],
      "execution_count": 58,
      "outputs": []
    },
    {
      "cell_type": "code",
      "metadata": {
        "id": "gceN13_kK0Md",
        "outputId": "2e26e72d-e196-416e-b477-2d585cb19669",
        "colab": {
          "base_uri": "https://localhost:8080/",
          "height": 586
        }
      },
      "source": [
        "rev_names = [name[::-1] for name in list(party_names.values())]\n",
        "fig = plt.figure()\n",
        "fig, axes = plt.subplots(2, 5)\n",
        "fig.subplots_adjust(hspace = 0.9, wspace = 0.4)\n",
        "\n",
        "count=0\n",
        "for r in range(2):\n",
        "    for c in range(5):\n",
        "        eshkol[count].plot(figsize=(15,8),ax=axes[r,c],kind = 'bar',title = '{} לוכשא'.format(count+1))\n",
        "        count += 1\n",
        "\n",
        "for axes in fig.get_axes():\n",
        "    axes.set_xticks(range(8))\n",
        "    axes.set_xticklabels(rev_names,rotation=90,size=10)  "
      ],
      "execution_count": 59,
      "outputs": [
        {
          "output_type": "display_data",
          "data": {
            "text/plain": [
              "<Figure size 432x288 with 0 Axes>"
            ]
          },
          "metadata": {
            "tags": []
          }
        },
        {
          "output_type": "display_data",
          "data": {
            "image/png": "[encoded data removed]",
            "text/plain": [
              "<Figure size 1080x576 with 10 Axes>"
            ]
          },
          "metadata": {
            "tags": [],
            "needs_background": "light"
          }
        }
      ]
    },
    {
      "cell_type": "markdown",
      "metadata": {
        "id": "zA_VxYI3K4Fq"
      },
      "source": [
        "כאשר מסתכלים על אחוזי ההצבעה בחלוקה לאשכולות , ניתן לראות כי בכל אשכול יש נטייה להצביע למפלגות מסויימות. ניקח כדוגמא את כחול לבן - במפלגה זו יש מגמה ברורה לכך שרוב המצביעים של מלפגה זו הם מהאשכולות הגבוהים יותר (החל מאשכול 7).\n",
        "\n"
      ]
    },
    {
      "cell_type": "markdown",
      "metadata": {
        "id": "hzduZUrqLEJh"
      },
      "source": [
        "### **סעיף ב**"
      ]
    },
    {
      "cell_type": "code",
      "metadata": {
        "id": "6TfJaTeVLGkn"
      },
      "source": [
        "party = []\n",
        "\n",
        "for i in range(8):\n",
        "  data_new = []\n",
        "  for j in range(10):\n",
        "    data_new.append(eshkol[j][i])\n",
        "  for z in range(10):   \n",
        "    data_new[z] =data_new[z]/sum(data_new)\n",
        "  data_new = pd.Series(data_new) \n",
        "  data_new.index = [1,2,3,4,5,6,7,8,9,10] \n",
        "  party.append(data_new)"
      ],
      "execution_count": 60,
      "outputs": []
    },
    {
      "cell_type": "code",
      "metadata": {
        "id": "AaHc4B_OLIzV",
        "outputId": "4b60eb65-d13c-4312-eeab-106f160bcb39",
        "colab": {
          "base_uri": "https://localhost:8080/",
          "height": 516
        }
      },
      "source": [
        "rev_names = [name[::-1] for name in list(party_names.values())]\n",
        "fig = plt.figure()\n",
        "fig, axes = plt.subplots(2, 4)\n",
        "fig.subplots_adjust(hspace = 0.5, wspace = 0.4)\n",
        "\n",
        "count=0\n",
        "for r in range(2):\n",
        "    for c in range(4):\n",
        "        party[count].plot(figsize=(15,8),ax=axes[r,c],kind = 'bar',title = '{}'.format(rev_names[count]), color = \"lightblue\")\n",
        "        count += 1\n",
        "\n",
        "for axes in fig.get_axes():\n",
        "    axes.set_xticks(range(10))\n",
        "    axes.set_xticklabels([1,2,3,4,5,6,7,8,9,10],rotation=0,size=10)"
      ],
      "execution_count": 61,
      "outputs": [
        {
          "output_type": "display_data",
          "data": {
            "text/plain": [
              "<Figure size 432x288 with 0 Axes>"
            ]
          },
          "metadata": {
            "tags": []
          }
        },
        {
          "output_type": "display_data",
          "data": {
            "image/png": "[encoded data removed]",
            "text/plain": [
              "<Figure size 1080x576 with 8 Axes>"
            ]
          },
          "metadata": {
            "tags": [],
            "needs_background": "light"
          }
        }
      ]
    },
    {
      "cell_type": "markdown",
      "metadata": {
        "id": "SvD8tYvnLOhM"
      },
      "source": [
        " בדומה לסעיף א , גם כאן ניתן לראות את חלוקת הקולות למפלגות על פי אשכול כלכלי רק באופן מרוכז יותר, כלומר אותה מגמה שתיארנו בסעיף הקודם מופיעה כעת כפונקציה עולה בגרף של כחול לבן.\n",
        "ניתן כך ללמוד על המצב הסוציואקונומי של התומכים במפלגות השונות."
      ]
    },
    {
      "cell_type": "code",
      "metadata": {
        "id": "LbPtf6Urz3Hl"
      },
      "source": [
        "party_8_join = join_result[['eco_level','מחל', 'פה', 'ודעם', 'שס', 'ג', 'ל', 'אמת', 'טב']]\n",
        "\n",
        "party_2 = []\n",
        "sd_par2 = []\n",
        "\n",
        "for i in range(1,9):\n",
        "  data_new = []\n",
        "  sd_data = []\n",
        "  data_join = party_8_join.iloc[:, [0, i]]\n",
        "  sum_par = sum(data_join[data_join.columns[-1]])\n",
        "  for j in range(1,11): \n",
        "    esh_data = pd.DataFrame(data_join.loc[data_join[\"eco_level\"] == j])\n",
        "    sd_data.append(np.std(np.array(esh_data[esh_data.columns[1]]/sum_par)))\n",
        "    data_new.append(sum(esh_data[esh_data.columns[1]])/sum_par)\n",
        "  data_new, sd_data = pd.Series(data_new), pd.Series(sd_data)\n",
        "  data_new.index, sd_data.index = [1,2,3,4,5,6,7,8,9,10] , [1,2,3,4,5,6,7,8,9,10] \n",
        "  party_2.append(data_new)\n",
        "  sd_par2.append(sd_data)"
      ],
      "execution_count": 62,
      "outputs": []
    },
    {
      "cell_type": "code",
      "metadata": {
        "id": "OBtkloxb3q4p",
        "outputId": "8847a3b4-742b-452d-e7f1-534b0bcffdbe",
        "colab": {
          "base_uri": "https://localhost:8080/",
          "height": 516
        }
      },
      "source": [
        "rev_names = [name[::-1] for name in list(party_names.values())]\n",
        "fig = plt.figure()\n",
        "fig, axes = plt.subplots(2, 4)\n",
        "fig.subplots_adjust(hspace = 0.5, wspace = 0.4)\n",
        "\n",
        "count=0\n",
        "for r in range(2):\n",
        "    for c in range(4):\n",
        "        party_2[count].plot(figsize=(15,8),ax=axes[r,c],kind = 'bar',title = '{}'.format(rev_names[count]),yerr=sd_par2, capsize = 3,color = \"lightblue\",ylim = [0,0.6])\n",
        "        count += 1\n",
        "\n",
        "for axes in fig.get_axes():\n",
        "    axes.set_xticks(range(10))\n",
        "    axes.set_xticklabels([1,2,3,4,5,6,7,8,9,10],rotation=0,size=10)"
      ],
      "execution_count": 63,
      "outputs": [
        {
          "output_type": "display_data",
          "data": {
            "text/plain": [
              "<Figure size 432x288 with 0 Axes>"
            ]
          },
          "metadata": {
            "tags": []
          }
        },
        {
          "output_type": "display_data",
          "data": {
            "image/png": "[encoded data removed]",
            "text/plain": [
              "<Figure size 1080x576 with 8 Axes>"
            ]
          },
          "metadata": {
            "tags": [],
            "needs_background": "light"
          }
        }
      ]
    },
    {
      "cell_type": "markdown",
      "metadata": {
        "id": "rN2V2vjv8HWu"
      },
      "source": [
        "ניתן לראות כאן את התפלגות האשכולות בכל מפלגה ולראות על איזה אשכולות כל מפלגה נשענת יותר. לדוגמה במפלגות החרדיות אחוז גדול מסך הקולות לאותה מפלגה ניתן על ידי אשכול 2, ובעבודה גשר מרץ אותו אחוז ניתן על ידי אשכול 8."
      ]
    },
    {
      "cell_type": "markdown",
      "metadata": {
        "id": "NJh_yIpGLZ3c"
      },
      "source": [
        "# **EXTRA**"
      ]
    },
    {
      "cell_type": "markdown",
      "metadata": {
        "id": "3InvQvIYjruV"
      },
      "source": [
        "**השוואה בין אשכולות מסויימים**"
      ]
    },
    {
      "cell_type": "code",
      "metadata": {
        "id": "CKyDAO3CjqiY",
        "outputId": "082d585b-a12f-473d-9966-009e87928e2a",
        "colab": {
          "base_uri": "https://localhost:8080/",
          "height": 448
        }
      },
      "source": [
        "bar_plot_2(eshkol[0],eshkol[9], legend= ('1 לוכשא', '2 לוכשא'), w= 8,h=5)"
      ],
      "execution_count": 64,
      "outputs": [
        {
          "output_type": "display_data",
          "data": {
            "image/png": "[encoded data removed]",
            "text/plain": [
              "<Figure size 576x360 with 1 Axes>"
            ]
          },
          "metadata": {
            "tags": [],
            "needs_background": "light"
          }
        },
        {
          "output_type": "execute_result",
          "data": {
            "text/plain": [
              "(<Figure size 576x360 with 1 Axes>,\n",
              " <matplotlib.axes._subplots.AxesSubplot at 0x7fb26905c668>)"
            ]
          },
          "metadata": {
            "tags": []
          },
          "execution_count": 64
        }
      ]
    },
    {
      "cell_type": "markdown",
      "metadata": {
        "id": "IqBCUO0OyUej"
      },
      "source": [
        "אם נסתכל על אשכול 1 מול אשכול 10 , נבחין כי התנהגות המצביעים באשכולות אלו שונה מאוד , ייתכן גם כי שמגמת ההצבעה בין האשכולות היא גם שונה. דבר זה יכול להשפיע על תוצאות הבחירות."
      ]
    },
    {
      "cell_type": "code",
      "metadata": {
        "id": "E-jcii9Pknx_",
        "outputId": "17e0735d-9c9b-4809-d9b3-4d1467c6c029",
        "colab": {
          "base_uri": "https://localhost:8080/",
          "height": 448
        }
      },
      "source": [
        "bar_plot_2(eshkol[5],eshkol[6], legend= ('4 לוכשא', '5 לוכשא'), w= 8,h=5)"
      ],
      "execution_count": 65,
      "outputs": [
        {
          "output_type": "display_data",
          "data": {
            "image/png": "[encoded data removed]",
            "text/plain": [
              "<Figure size 576x360 with 1 Axes>"
            ]
          },
          "metadata": {
            "tags": [],
            "needs_background": "light"
          }
        },
        {
          "output_type": "execute_result",
          "data": {
            "text/plain": [
              "(<Figure size 576x360 with 1 Axes>,\n",
              " <matplotlib.axes._subplots.AxesSubplot at 0x7fb2686af470>)"
            ]
          },
          "metadata": {
            "tags": []
          },
          "execution_count": 65
        }
      ]
    },
    {
      "cell_type": "markdown",
      "metadata": {
        "id": "aGbvaukzyaZg"
      },
      "source": [
        "לעומת זאת, בהסתכלות על ההשוואה בין אשכול 4 לאשכול 5 ניתן לראות שהתפלגות ההצבעה למפלגות מאוד דומה."
      ]
    },
    {
      "cell_type": "markdown",
      "metadata": {
        "id": "em7fa_b_c4s4"
      },
      "source": [
        "ניסינו לבדוק האם יש הבדל בין אחוזי ההצבעה הכלליים בין האשכולות- כלומר האם יש יותר מצביעים מתוך סך הבזב עבור אשכולות מסויימים"
      ]
    },
    {
      "cell_type": "code",
      "metadata": {
        "id": "4oX_oPR-LdgC"
      },
      "source": [
        "eshkol_bzb = []\n",
        "\n",
        "for i in range(1,11):\n",
        "  data_new = pd.DataFrame(join_result.where(join_result[\"eco_level\"] == i))\n",
        "  \n",
        "  eshkol_bzb.append(data_new[\"מצביעים\"].sum()/data_new[\"בזב\"].sum())\n",
        "  \n",
        "eshkol_bzb = pd.Series(eshkol_bzb)\n",
        "eshkol_bzb.index = [1,2,3,4,5,6,7,8,9,10]  "
      ],
      "execution_count": 66,
      "outputs": []
    },
    {
      "cell_type": "code",
      "metadata": {
        "id": "c2gBu8-4XYrz",
        "outputId": "189a6112-a52f-4c75-9f75-6ace2761bbb1",
        "colab": {
          "base_uri": "https://localhost:8080/",
          "height": 350
        }
      },
      "source": [
        "fig, ax = plt.subplots(figsize = (10,5))    \n",
        "width = 0.5 # the width of the bars \n",
        "ind = np.arange(len(eshkol_bzb))  # the x locations for the groups\n",
        "ax.bar(ind, list(eshkol_bzb), width, color=\"lightblue\")\n",
        "ax.set_xticks(np.arange(10))\n",
        "ax.set_xticklabels(eshkol_bzb.index)\n",
        "plt.ylim(0,1)\n",
        "ax.set_ylabel('percentage')\n",
        "ax.set_xlabel('cluster')\n",
        "ax.set_title('Voting percentages out of the total number of eligible voters' )\n",
        "\n",
        "rects = ax.patches\n",
        "\n",
        "for rect in rects:\n",
        "    height = rect.get_height()\n",
        "    ax.text(rect.get_x() + rect.get_width() / 2, height,'{}%'.format(((height).round(2))*100) ,\n",
        "            ha='center', va='bottom')"
      ],
      "execution_count": 67,
      "outputs": [
        {
          "output_type": "display_data",
          "data": {
            "image/png": "[encoded data removed]",
            "text/plain": [
              "<Figure size 720x360 with 1 Axes>"
            ]
          },
          "metadata": {
            "tags": [],
            "needs_background": "light"
          }
        }
      ]
    },
    {
      "cell_type": "markdown",
      "metadata": {
        "id": "sqnPu612LlQm"
      },
      "source": [
        "בגרף זה השוונו את אחוזי ההצבעה בבחירות האחרונות בכל אשכול כלכלי. כפי שניתן לראות אחוזי ההצבעה דומים בכל האשכולות , לכן לא ניתן להסיק כי לאשכול כלכלי מסויים הייתה יותר השפעה על תוצאות הבחירות."
      ]
    }
  ]
}