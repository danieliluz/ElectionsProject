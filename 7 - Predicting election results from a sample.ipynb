{
  "nbformat": 4,
  "nbformat_minor": 0,
  "metadata": {
    "colab": {
      "name": "Lab_7_315453027_324756568.ipynb",
      "provenance": [],
      "collapsed_sections": []
    },
    "kernelspec": {
      "display_name": "Python 3",
      "language": "python",
      "name": "python3"
    },
    "language_info": {
      "codemirror_mode": {
        "name": "ipython",
        "version": 3
      },
      "file_extension": ".py",
      "mimetype": "text/x-python",
      "name": "python",
      "nbconvert_exporter": "python",
      "pygments_lexer": "ipython3",
      "version": "3.7.4"
    }
  },
  "cells": [
    {
      "cell_type": "markdown",
      "metadata": {
        "id": "lyQ45Phps6Z6"
      },
      "source": [
        "# **Israel Elections Data Analysis - Lab 7**\n"
      ]
    },
    {
      "cell_type": "markdown",
      "metadata": {
        "id": "8DKMb3rPhv0R"
      },
      "source": [
        "**Daniel Ohayon - ID: 315453027**\n",
        "\n",
        "**Olga Moroz - ID: 324756568**"
      ]
    },
    {
      "cell_type": "markdown",
      "metadata": {
        "id": "gv0t-UVNfuGY"
      },
      "source": [
        "### **Import modules**"
      ]
    },
    {
      "cell_type": "code",
      "metadata": {
        "id": "iC0NlMvHzL1L",
        "colab": {
          "base_uri": "https://localhost:8080/"
        },
        "outputId": "e65abfd7-0b74-4c75-c71e-e758893c3252"
      },
      "source": [
        "import numpy as np  # a module for working with numerical array \n",
        "import pandas as pd  # a module for working with data-frames\n",
        "import math\n",
        "import os\n",
        "import io\n",
        "from matplotlib import pyplot as plt\n",
        "import numpy.matlib as mtl\n",
        "import copy\n",
        "import random\n",
        "import statsmodels.api as sm\n",
        "from sklearn.preprocessing import normalize\n",
        "import warnings\n",
        "warnings.filterwarnings('ignore')\n",
        "\n",
        "%matplotlib inline"
      ],
      "execution_count": 1,
      "outputs": [
        {
          "output_type": "stream",
          "text": [
            "/usr/local/lib/python3.6/dist-packages/statsmodels/tools/_testing.py:19: FutureWarning: pandas.util.testing is deprecated. Use the functions in the public API at pandas.testing instead.\n",
            "  import pandas.util.testing as tm\n"
          ],
          "name": "stderr"
        }
      ]
    },
    {
      "cell_type": "markdown",
      "metadata": {
        "id": "pGTS_zCRZGfV"
      },
      "source": [
        "### **Import data**"
      ]
    },
    {
      "cell_type": "code",
      "metadata": {
        "id": "RWSJpsyKqHjH",
        "colab": {
          "base_uri": "https://localhost:8080/"
        },
        "outputId": "8f4280ae-73a3-4620-f75a-e8c206cb7238"
      },
      "source": [
        "# Mount drive in google colab\n",
        "from google.colab import drive\n",
        "drive.mount('/content/drive')\n",
        "\n"
      ],
      "execution_count": 2,
      "outputs": [
        {
          "output_type": "stream",
          "text": [
            "Mounted at /content/drive\n"
          ],
          "name": "stdout"
        }
      ]
    },
    {
      "cell_type": "code",
      "metadata": {
        "id": "xaG-KYCw8XZz",
        "colab": {
          "resources": {
            "http://localhost:8080/nbextensions/google.colab/files.js": {
              "data": "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",
              "ok": true,
              "headers": [
                [
                  "content-type",
                  "application/javascript"
                ]
              ],
              "status": 200,
              "status_text": ""
            }
          },
          "base_uri": "https://localhost:8080/",
          "height": 205
        },
        "outputId": "bf3059f2-259b-47f2-9de9-0abbe2725843"
      },
      "source": [
        "# Loading elections 2020 elections data:\n",
        "from google.colab import files\n",
        "uploaded = files.upload()\n"
      ],
      "execution_count": 3,
      "outputs": [
        {
          "output_type": "display_data",
          "data": {
            "text/html": [
              "\n",
              "     <input type=\"file\" id=\"files-ec631b08-8e87-4f33-956c-2f4826edf60f\" name=\"files[]\" multiple disabled\n",
              "        style=\"border:none\" />\n",
              "     <output id=\"result-ec631b08-8e87-4f33-956c-2f4826edf60f\">\n",
              "      Upload widget is only available when the cell has been executed in the\n",
              "      current browser session. Please rerun this cell to enable.\n",
              "      </output>\n",
              "      <script src=\"/nbextensions/google.colab/files.js\"></script> "
            ],
            "text/plain": [
              "<IPython.core.display.HTML object>"
            ]
          },
          "metadata": {
            "tags": []
          }
        },
        {
          "output_type": "stream",
          "text": [
            "Saving Eshkol Hevrati Calcali.csv to Eshkol Hevrati Calcali.csv\n",
            "Saving votes per ballot 2019b.csv to votes per ballot 2019b.csv\n",
            "Saving votes per ballot 2020.csv to votes per ballot 2020.csv\n",
            "Saving votes per city 2019b.csv to votes per city 2019b.csv\n",
            "Saving votes per city 2020.csv to votes per city 2020.csv\n"
          ],
          "name": "stdout"
        }
      ]
    },
    {
      "cell_type": "code",
      "metadata": {
        "id": "QxK5YlBH1geD"
      },
      "source": [
        "df_2020_ballot_raw = pd.read_csv(io.BytesIO(uploaded['votes per ballot 2020.csv']),  encoding = 'iso-8859-8', index_col='שם ישוב')\n",
        "df_2020_ballot_raw = df_2020_ballot_raw.drop(['מעטפות חיצוניות'], axis=0)\n",
        "df_2019_ballot_raw = pd.read_csv(io.BytesIO(uploaded['votes per ballot 2019b.csv']),  encoding = 'iso-8859-8', index_col='שם ישוב')\n",
        "df_2019_ballot_raw = df_2019_ballot_raw.drop(['מעטפות חיצוניות'], axis=0)\n"
      ],
      "execution_count": 4,
      "outputs": []
    },
    {
      "cell_type": "code",
      "metadata": {
        "id": "D0ndx9PjeOfe",
        "colab": {
          "base_uri": "https://localhost:8080/",
          "height": 437
        },
        "outputId": "f5acc692-07d3-4c3e-9c5b-f746bc9536f3"
      },
      "source": [
        "df_2020_ballot_raw "
      ],
      "execution_count": 5,
      "outputs": [
        {
          "output_type": "execute_result",
          "data": {
            "text/html": [
              "<div>\n",
              "<style scoped>\n",
              "    .dataframe tbody tr th:only-of-type {\n",
              "        vertical-align: middle;\n",
              "    }\n",
              "\n",
              "    .dataframe tbody tr th {\n",
              "        vertical-align: top;\n",
              "    }\n",
              "\n",
              "    .dataframe thead th {\n",
              "        text-align: right;\n",
              "    }\n",
              "</style>\n",
              "<table border=\"1\" class=\"dataframe\">\n",
              "  <thead>\n",
              "    <tr style=\"text-align: right;\">\n",
              "      <th></th>\n",
              "      <th>סמל ועדה</th>\n",
              "      <th>ברזל</th>\n",
              "      <th>סמל ישוב</th>\n",
              "      <th>קלפי</th>\n",
              "      <th>ריכוז</th>\n",
              "      <th>שופט</th>\n",
              "      <th>בזב</th>\n",
              "      <th>מצביעים</th>\n",
              "      <th>פסולים</th>\n",
              "      <th>כשרים</th>\n",
              "      <th>אמת</th>\n",
              "      <th>ג</th>\n",
              "      <th>ודעם</th>\n",
              "      <th>ז</th>\n",
              "      <th>זך</th>\n",
              "      <th>זץ</th>\n",
              "      <th>טב</th>\n",
              "      <th>י</th>\n",
              "      <th>יז</th>\n",
              "      <th>ינ</th>\n",
              "      <th>יף</th>\n",
              "      <th>יק</th>\n",
              "      <th>יר</th>\n",
              "      <th>כ</th>\n",
              "      <th>כן</th>\n",
              "      <th>ל</th>\n",
              "      <th>מחל</th>\n",
              "      <th>נ</th>\n",
              "      <th>נז</th>\n",
              "      <th>ני</th>\n",
              "      <th>נץ</th>\n",
              "      <th>נק</th>\n",
              "      <th>פה</th>\n",
              "      <th>ףז</th>\n",
              "      <th>ץ</th>\n",
              "      <th>ק</th>\n",
              "      <th>קי</th>\n",
              "      <th>קך</th>\n",
              "      <th>קץ</th>\n",
              "      <th>שס</th>\n",
              "    </tr>\n",
              "    <tr>\n",
              "      <th>שם ישוב</th>\n",
              "      <th></th>\n",
              "      <th></th>\n",
              "      <th></th>\n",
              "      <th></th>\n",
              "      <th></th>\n",
              "      <th></th>\n",
              "      <th></th>\n",
              "      <th></th>\n",
              "      <th></th>\n",
              "      <th></th>\n",
              "      <th></th>\n",
              "      <th></th>\n",
              "      <th></th>\n",
              "      <th></th>\n",
              "      <th></th>\n",
              "      <th></th>\n",
              "      <th></th>\n",
              "      <th></th>\n",
              "      <th></th>\n",
              "      <th></th>\n",
              "      <th></th>\n",
              "      <th></th>\n",
              "      <th></th>\n",
              "      <th></th>\n",
              "      <th></th>\n",
              "      <th></th>\n",
              "      <th></th>\n",
              "      <th></th>\n",
              "      <th></th>\n",
              "      <th></th>\n",
              "      <th></th>\n",
              "      <th></th>\n",
              "      <th></th>\n",
              "      <th></th>\n",
              "      <th></th>\n",
              "      <th></th>\n",
              "      <th></th>\n",
              "      <th></th>\n",
              "      <th></th>\n",
              "      <th></th>\n",
              "    </tr>\n",
              "  </thead>\n",
              "  <tbody>\n",
              "    <tr>\n",
              "      <th>אבו גווייעד שבט</th>\n",
              "      <td>18</td>\n",
              "      <td>9870</td>\n",
              "      <td>967</td>\n",
              "      <td>1.0</td>\n",
              "      <td>1</td>\n",
              "      <td>0</td>\n",
              "      <td>585</td>\n",
              "      <td>126</td>\n",
              "      <td>2</td>\n",
              "      <td>124</td>\n",
              "      <td>2</td>\n",
              "      <td>0</td>\n",
              "      <td>112</td>\n",
              "      <td>0</td>\n",
              "      <td>0</td>\n",
              "      <td>0</td>\n",
              "      <td>0</td>\n",
              "      <td>0</td>\n",
              "      <td>0</td>\n",
              "      <td>0</td>\n",
              "      <td>0</td>\n",
              "      <td>0</td>\n",
              "      <td>0</td>\n",
              "      <td>0</td>\n",
              "      <td>0</td>\n",
              "      <td>0</td>\n",
              "      <td>1</td>\n",
              "      <td>0</td>\n",
              "      <td>0</td>\n",
              "      <td>0</td>\n",
              "      <td>0</td>\n",
              "      <td>0</td>\n",
              "      <td>6</td>\n",
              "      <td>1</td>\n",
              "      <td>0</td>\n",
              "      <td>0</td>\n",
              "      <td>0</td>\n",
              "      <td>0</td>\n",
              "      <td>0</td>\n",
              "      <td>2</td>\n",
              "    </tr>\n",
              "    <tr>\n",
              "      <th>אבו גווייעד שבט</th>\n",
              "      <td>18</td>\n",
              "      <td>9871</td>\n",
              "      <td>967</td>\n",
              "      <td>2.0</td>\n",
              "      <td>1</td>\n",
              "      <td>0</td>\n",
              "      <td>764</td>\n",
              "      <td>249</td>\n",
              "      <td>2</td>\n",
              "      <td>247</td>\n",
              "      <td>6</td>\n",
              "      <td>0</td>\n",
              "      <td>235</td>\n",
              "      <td>0</td>\n",
              "      <td>0</td>\n",
              "      <td>0</td>\n",
              "      <td>0</td>\n",
              "      <td>0</td>\n",
              "      <td>0</td>\n",
              "      <td>0</td>\n",
              "      <td>0</td>\n",
              "      <td>0</td>\n",
              "      <td>0</td>\n",
              "      <td>0</td>\n",
              "      <td>1</td>\n",
              "      <td>0</td>\n",
              "      <td>2</td>\n",
              "      <td>0</td>\n",
              "      <td>1</td>\n",
              "      <td>0</td>\n",
              "      <td>0</td>\n",
              "      <td>0</td>\n",
              "      <td>0</td>\n",
              "      <td>0</td>\n",
              "      <td>0</td>\n",
              "      <td>0</td>\n",
              "      <td>0</td>\n",
              "      <td>0</td>\n",
              "      <td>2</td>\n",
              "      <td>0</td>\n",
              "    </tr>\n",
              "    <tr>\n",
              "      <th>אבו גווייעד שבט</th>\n",
              "      <td>18</td>\n",
              "      <td>9872</td>\n",
              "      <td>967</td>\n",
              "      <td>3.0</td>\n",
              "      <td>1</td>\n",
              "      <td>0</td>\n",
              "      <td>669</td>\n",
              "      <td>220</td>\n",
              "      <td>2</td>\n",
              "      <td>218</td>\n",
              "      <td>5</td>\n",
              "      <td>0</td>\n",
              "      <td>207</td>\n",
              "      <td>0</td>\n",
              "      <td>0</td>\n",
              "      <td>0</td>\n",
              "      <td>0</td>\n",
              "      <td>0</td>\n",
              "      <td>1</td>\n",
              "      <td>0</td>\n",
              "      <td>0</td>\n",
              "      <td>0</td>\n",
              "      <td>0</td>\n",
              "      <td>0</td>\n",
              "      <td>0</td>\n",
              "      <td>1</td>\n",
              "      <td>1</td>\n",
              "      <td>0</td>\n",
              "      <td>0</td>\n",
              "      <td>0</td>\n",
              "      <td>0</td>\n",
              "      <td>0</td>\n",
              "      <td>2</td>\n",
              "      <td>1</td>\n",
              "      <td>0</td>\n",
              "      <td>0</td>\n",
              "      <td>0</td>\n",
              "      <td>0</td>\n",
              "      <td>0</td>\n",
              "      <td>0</td>\n",
              "    </tr>\n",
              "    <tr>\n",
              "      <th>אבו גוש</th>\n",
              "      <td>2</td>\n",
              "      <td>736</td>\n",
              "      <td>472</td>\n",
              "      <td>1.0</td>\n",
              "      <td>1</td>\n",
              "      <td>0</td>\n",
              "      <td>530</td>\n",
              "      <td>299</td>\n",
              "      <td>7</td>\n",
              "      <td>292</td>\n",
              "      <td>15</td>\n",
              "      <td>1</td>\n",
              "      <td>229</td>\n",
              "      <td>0</td>\n",
              "      <td>0</td>\n",
              "      <td>0</td>\n",
              "      <td>0</td>\n",
              "      <td>0</td>\n",
              "      <td>0</td>\n",
              "      <td>1</td>\n",
              "      <td>0</td>\n",
              "      <td>0</td>\n",
              "      <td>1</td>\n",
              "      <td>0</td>\n",
              "      <td>0</td>\n",
              "      <td>0</td>\n",
              "      <td>32</td>\n",
              "      <td>0</td>\n",
              "      <td>0</td>\n",
              "      <td>0</td>\n",
              "      <td>0</td>\n",
              "      <td>0</td>\n",
              "      <td>11</td>\n",
              "      <td>0</td>\n",
              "      <td>0</td>\n",
              "      <td>0</td>\n",
              "      <td>0</td>\n",
              "      <td>0</td>\n",
              "      <td>0</td>\n",
              "      <td>2</td>\n",
              "    </tr>\n",
              "    <tr>\n",
              "      <th>אבו גוש</th>\n",
              "      <td>2</td>\n",
              "      <td>737</td>\n",
              "      <td>472</td>\n",
              "      <td>2.0</td>\n",
              "      <td>1</td>\n",
              "      <td>0</td>\n",
              "      <td>693</td>\n",
              "      <td>388</td>\n",
              "      <td>6</td>\n",
              "      <td>382</td>\n",
              "      <td>6</td>\n",
              "      <td>0</td>\n",
              "      <td>330</td>\n",
              "      <td>0</td>\n",
              "      <td>0</td>\n",
              "      <td>0</td>\n",
              "      <td>0</td>\n",
              "      <td>0</td>\n",
              "      <td>0</td>\n",
              "      <td>2</td>\n",
              "      <td>0</td>\n",
              "      <td>0</td>\n",
              "      <td>0</td>\n",
              "      <td>0</td>\n",
              "      <td>0</td>\n",
              "      <td>2</td>\n",
              "      <td>23</td>\n",
              "      <td>0</td>\n",
              "      <td>0</td>\n",
              "      <td>0</td>\n",
              "      <td>0</td>\n",
              "      <td>0</td>\n",
              "      <td>18</td>\n",
              "      <td>0</td>\n",
              "      <td>0</td>\n",
              "      <td>0</td>\n",
              "      <td>0</td>\n",
              "      <td>0</td>\n",
              "      <td>1</td>\n",
              "      <td>0</td>\n",
              "    </tr>\n",
              "    <tr>\n",
              "      <th>...</th>\n",
              "      <td>...</td>\n",
              "      <td>...</td>\n",
              "      <td>...</td>\n",
              "      <td>...</td>\n",
              "      <td>...</td>\n",
              "      <td>...</td>\n",
              "      <td>...</td>\n",
              "      <td>...</td>\n",
              "      <td>...</td>\n",
              "      <td>...</td>\n",
              "      <td>...</td>\n",
              "      <td>...</td>\n",
              "      <td>...</td>\n",
              "      <td>...</td>\n",
              "      <td>...</td>\n",
              "      <td>...</td>\n",
              "      <td>...</td>\n",
              "      <td>...</td>\n",
              "      <td>...</td>\n",
              "      <td>...</td>\n",
              "      <td>...</td>\n",
              "      <td>...</td>\n",
              "      <td>...</td>\n",
              "      <td>...</td>\n",
              "      <td>...</td>\n",
              "      <td>...</td>\n",
              "      <td>...</td>\n",
              "      <td>...</td>\n",
              "      <td>...</td>\n",
              "      <td>...</td>\n",
              "      <td>...</td>\n",
              "      <td>...</td>\n",
              "      <td>...</td>\n",
              "      <td>...</td>\n",
              "      <td>...</td>\n",
              "      <td>...</td>\n",
              "      <td>...</td>\n",
              "      <td>...</td>\n",
              "      <td>...</td>\n",
              "      <td>...</td>\n",
              "    </tr>\n",
              "    <tr>\n",
              "      <th>תקוע</th>\n",
              "      <td>2</td>\n",
              "      <td>1050</td>\n",
              "      <td>3563</td>\n",
              "      <td>2.0</td>\n",
              "      <td>3</td>\n",
              "      <td>0</td>\n",
              "      <td>672</td>\n",
              "      <td>496</td>\n",
              "      <td>1</td>\n",
              "      <td>495</td>\n",
              "      <td>10</td>\n",
              "      <td>14</td>\n",
              "      <td>2</td>\n",
              "      <td>3</td>\n",
              "      <td>0</td>\n",
              "      <td>0</td>\n",
              "      <td>174</td>\n",
              "      <td>0</td>\n",
              "      <td>0</td>\n",
              "      <td>0</td>\n",
              "      <td>0</td>\n",
              "      <td>0</td>\n",
              "      <td>0</td>\n",
              "      <td>1</td>\n",
              "      <td>1</td>\n",
              "      <td>15</td>\n",
              "      <td>227</td>\n",
              "      <td>0</td>\n",
              "      <td>0</td>\n",
              "      <td>0</td>\n",
              "      <td>9</td>\n",
              "      <td>0</td>\n",
              "      <td>27</td>\n",
              "      <td>0</td>\n",
              "      <td>0</td>\n",
              "      <td>0</td>\n",
              "      <td>0</td>\n",
              "      <td>1</td>\n",
              "      <td>0</td>\n",
              "      <td>11</td>\n",
              "    </tr>\n",
              "    <tr>\n",
              "      <th>תקוע</th>\n",
              "      <td>2</td>\n",
              "      <td>1051</td>\n",
              "      <td>3563</td>\n",
              "      <td>3.0</td>\n",
              "      <td>3</td>\n",
              "      <td>0</td>\n",
              "      <td>725</td>\n",
              "      <td>572</td>\n",
              "      <td>1</td>\n",
              "      <td>571</td>\n",
              "      <td>7</td>\n",
              "      <td>8</td>\n",
              "      <td>0</td>\n",
              "      <td>1</td>\n",
              "      <td>0</td>\n",
              "      <td>0</td>\n",
              "      <td>301</td>\n",
              "      <td>0</td>\n",
              "      <td>0</td>\n",
              "      <td>0</td>\n",
              "      <td>0</td>\n",
              "      <td>0</td>\n",
              "      <td>0</td>\n",
              "      <td>0</td>\n",
              "      <td>0</td>\n",
              "      <td>10</td>\n",
              "      <td>188</td>\n",
              "      <td>2</td>\n",
              "      <td>0</td>\n",
              "      <td>0</td>\n",
              "      <td>9</td>\n",
              "      <td>0</td>\n",
              "      <td>25</td>\n",
              "      <td>1</td>\n",
              "      <td>0</td>\n",
              "      <td>1</td>\n",
              "      <td>0</td>\n",
              "      <td>1</td>\n",
              "      <td>4</td>\n",
              "      <td>13</td>\n",
              "    </tr>\n",
              "    <tr>\n",
              "      <th>תראבין אצאנע שבט</th>\n",
              "      <td>18</td>\n",
              "      <td>10069</td>\n",
              "      <td>970</td>\n",
              "      <td>1.0</td>\n",
              "      <td>1</td>\n",
              "      <td>0</td>\n",
              "      <td>520</td>\n",
              "      <td>48</td>\n",
              "      <td>0</td>\n",
              "      <td>48</td>\n",
              "      <td>0</td>\n",
              "      <td>0</td>\n",
              "      <td>43</td>\n",
              "      <td>0</td>\n",
              "      <td>1</td>\n",
              "      <td>0</td>\n",
              "      <td>0</td>\n",
              "      <td>0</td>\n",
              "      <td>0</td>\n",
              "      <td>0</td>\n",
              "      <td>0</td>\n",
              "      <td>0</td>\n",
              "      <td>0</td>\n",
              "      <td>0</td>\n",
              "      <td>0</td>\n",
              "      <td>0</td>\n",
              "      <td>0</td>\n",
              "      <td>0</td>\n",
              "      <td>0</td>\n",
              "      <td>0</td>\n",
              "      <td>0</td>\n",
              "      <td>0</td>\n",
              "      <td>4</td>\n",
              "      <td>0</td>\n",
              "      <td>0</td>\n",
              "      <td>0</td>\n",
              "      <td>0</td>\n",
              "      <td>0</td>\n",
              "      <td>0</td>\n",
              "      <td>0</td>\n",
              "    </tr>\n",
              "    <tr>\n",
              "      <th>תראבין אצאנעישוב</th>\n",
              "      <td>18</td>\n",
              "      <td>10070</td>\n",
              "      <td>1346</td>\n",
              "      <td>1.0</td>\n",
              "      <td>1</td>\n",
              "      <td>0</td>\n",
              "      <td>587</td>\n",
              "      <td>206</td>\n",
              "      <td>0</td>\n",
              "      <td>206</td>\n",
              "      <td>0</td>\n",
              "      <td>0</td>\n",
              "      <td>160</td>\n",
              "      <td>0</td>\n",
              "      <td>0</td>\n",
              "      <td>0</td>\n",
              "      <td>0</td>\n",
              "      <td>0</td>\n",
              "      <td>0</td>\n",
              "      <td>1</td>\n",
              "      <td>0</td>\n",
              "      <td>0</td>\n",
              "      <td>0</td>\n",
              "      <td>0</td>\n",
              "      <td>0</td>\n",
              "      <td>0</td>\n",
              "      <td>40</td>\n",
              "      <td>0</td>\n",
              "      <td>1</td>\n",
              "      <td>0</td>\n",
              "      <td>0</td>\n",
              "      <td>0</td>\n",
              "      <td>2</td>\n",
              "      <td>1</td>\n",
              "      <td>0</td>\n",
              "      <td>1</td>\n",
              "      <td>0</td>\n",
              "      <td>0</td>\n",
              "      <td>0</td>\n",
              "      <td>0</td>\n",
              "    </tr>\n",
              "    <tr>\n",
              "      <th>תרום</th>\n",
              "      <td>2</td>\n",
              "      <td>960</td>\n",
              "      <td>778</td>\n",
              "      <td>1.0</td>\n",
              "      <td>1</td>\n",
              "      <td>0</td>\n",
              "      <td>576</td>\n",
              "      <td>472</td>\n",
              "      <td>1</td>\n",
              "      <td>471</td>\n",
              "      <td>9</td>\n",
              "      <td>7</td>\n",
              "      <td>0</td>\n",
              "      <td>0</td>\n",
              "      <td>0</td>\n",
              "      <td>0</td>\n",
              "      <td>85</td>\n",
              "      <td>0</td>\n",
              "      <td>0</td>\n",
              "      <td>0</td>\n",
              "      <td>0</td>\n",
              "      <td>0</td>\n",
              "      <td>0</td>\n",
              "      <td>0</td>\n",
              "      <td>0</td>\n",
              "      <td>1</td>\n",
              "      <td>254</td>\n",
              "      <td>1</td>\n",
              "      <td>0</td>\n",
              "      <td>0</td>\n",
              "      <td>2</td>\n",
              "      <td>0</td>\n",
              "      <td>65</td>\n",
              "      <td>0</td>\n",
              "      <td>0</td>\n",
              "      <td>0</td>\n",
              "      <td>0</td>\n",
              "      <td>0</td>\n",
              "      <td>0</td>\n",
              "      <td>47</td>\n",
              "    </tr>\n",
              "  </tbody>\n",
              "</table>\n",
              "<p>10631 rows × 40 columns</p>\n",
              "</div>"
            ],
            "text/plain": [
              "                  סמל ועדה   ברזל  סמל ישוב  קלפי  ריכוז  ...  ק  קי  קך  קץ  שס\n",
              "שם ישוב                                                   ...                   \n",
              "אבו גווייעד שבט         18   9870       967   1.0      1  ...  0   0   0   0   2\n",
              "אבו גווייעד שבט         18   9871       967   2.0      1  ...  0   0   0   2   0\n",
              "אבו גווייעד שבט         18   9872       967   3.0      1  ...  0   0   0   0   0\n",
              "אבו גוש                  2    736       472   1.0      1  ...  0   0   0   0   2\n",
              "אבו גוש                  2    737       472   2.0      1  ...  0   0   0   1   0\n",
              "...                    ...    ...       ...   ...    ...  ... ..  ..  ..  ..  ..\n",
              "תקוע                     2   1050      3563   2.0      3  ...  0   0   1   0  11\n",
              "תקוע                     2   1051      3563   3.0      3  ...  1   0   1   4  13\n",
              "תראבין אצאנע שבט        18  10069       970   1.0      1  ...  0   0   0   0   0\n",
              "תראבין אצאנעישוב        18  10070      1346   1.0      1  ...  1   0   0   0   0\n",
              "תרום                     2    960       778   1.0      1  ...  0   0   0   0  47\n",
              "\n",
              "[10631 rows x 40 columns]"
            ]
          },
          "metadata": {
            "tags": []
          },
          "execution_count": 5
        }
      ]
    },
    {
      "cell_type": "code",
      "metadata": {
        "id": "cH3ltSF1el3e"
      },
      "source": [
        "df_2019_ballot_raw['אמת'] = df_2019_ballot_raw['אמת'] + df_2019_ballot_raw['מרצ']\r\n",
        "df_2019_ballot_raw = df_2019_ballot_raw.drop(['מרצ'], axis=1)"
      ],
      "execution_count": 6,
      "outputs": []
    },
    {
      "cell_type": "markdown",
      "metadata": {
        "id": "Sv74n0vPRYg4"
      },
      "source": [
        "**:בניית מילון לשמות המפלגות**"
      ]
    },
    {
      "cell_type": "code",
      "metadata": {
        "id": "Lo6t4CuvYvNQ"
      },
      "source": [
        "party_dict = { \"מחל\" : \"הליכוד\", \"פה\" : \"כחול לבן\", \"ודעם\" : \"הרשימה המשותפת\" , \"שס\" : \"שס\" ,\n",
        "               \"ג\" : \"יהדות התורה\", \"ל\" : \"ישראל ביתנו\", \"אמת\" :  \"העבודה גשר מרצ\",  \"טב\" : \"ימינה\" }\n",
        "\n",
        "par_names = list(party_dict.values())"
      ],
      "execution_count": 7,
      "outputs": []
    },
    {
      "cell_type": "markdown",
      "metadata": {
        "id": "ybPPzkB0egRf"
      },
      "source": [
        "מחיקת עמודות לא רלוונטיות"
      ]
    },
    {
      "cell_type": "code",
      "metadata": {
        "id": "LfxsXIgMh0TH"
      },
      "source": [
        "df_2020_8par = df_2020_ballot_raw[party_dict] # removing \"metadata\" columns\n",
        "df_2019_8par = df_2019_ballot_raw[party_dict] # removing \"metadata\" columns"
      ],
      "execution_count": 8,
      "outputs": []
    },
    {
      "cell_type": "markdown",
      "metadata": {
        "id": "BApI6-vfenO6"
      },
      "source": [
        "קביעת שמות העמודות כשמות המפלגות"
      ]
    },
    {
      "cell_type": "code",
      "metadata": {
        "id": "kt-4q8vfhdB9"
      },
      "source": [
        "df_2020_8par.columns = df_2020_8par.columns.to_series().map(party_dict)\r\n",
        "df_2019_8par.columns = df_2019_8par.columns.to_series().map(party_dict)"
      ],
      "execution_count": 9,
      "outputs": []
    },
    {
      "cell_type": "markdown",
      "metadata": {
        "id": "fFmCeteZfezY"
      },
      "source": [
        "# **Q.1 :**"
      ]
    },
    {
      "cell_type": "markdown",
      "metadata": {
        "id": "uU7lx70LgimE"
      },
      "source": [
        "### **A**"
      ]
    },
    {
      "cell_type": "markdown",
      "metadata": {
        "id": "FonOL6Mwe1kG"
      },
      "source": [
        "חישוב אומדן לשכיחות ההצבעה על ידי בחירת 10 קלפיות אקראיות 100 פעמים"
      ]
    },
    {
      "cell_type": "code",
      "metadata": {
        "id": "ptTNIHwTfeCb"
      },
      "source": [
        "sample = []\r\n",
        "pj_hat = []\r\n",
        "for i in range(100):\r\n",
        "    random.seed(i)\r\n",
        "    s = df_2020_8par.iloc[random.sample(range(df_2020_8par.shape[0]), 10)]\r\n",
        "    sample.append(s)\r\n",
        "    pj_hat.append(s.sum(axis = 0).div(s.sum(axis = 1).sum()))\r\n",
        "rand_samp = pd.concat(sample)\r\n",
        "pj_hat =  pd.DataFrame(pj_hat)"
      ],
      "execution_count": 10,
      "outputs": []
    },
    {
      "cell_type": "code",
      "metadata": {
        "colab": {
          "base_uri": "https://localhost:8080/",
          "height": 407
        },
        "id": "hdFI0wYcj4gX",
        "outputId": "3ba1d657-f033-4aa4-e655-6837becd6a20"
      },
      "source": [
        "pj_hat"
      ],
      "execution_count": 11,
      "outputs": [
        {
          "output_type": "execute_result",
          "data": {
            "text/html": [
              "<div>\n",
              "<style scoped>\n",
              "    .dataframe tbody tr th:only-of-type {\n",
              "        vertical-align: middle;\n",
              "    }\n",
              "\n",
              "    .dataframe tbody tr th {\n",
              "        vertical-align: top;\n",
              "    }\n",
              "\n",
              "    .dataframe thead th {\n",
              "        text-align: right;\n",
              "    }\n",
              "</style>\n",
              "<table border=\"1\" class=\"dataframe\">\n",
              "  <thead>\n",
              "    <tr style=\"text-align: right;\">\n",
              "      <th></th>\n",
              "      <th>הליכוד</th>\n",
              "      <th>כחול לבן</th>\n",
              "      <th>הרשימה המשותפת</th>\n",
              "      <th>שס</th>\n",
              "      <th>יהדות התורה</th>\n",
              "      <th>ישראל ביתנו</th>\n",
              "      <th>העבודה גשר מרצ</th>\n",
              "      <th>ימינה</th>\n",
              "    </tr>\n",
              "  </thead>\n",
              "  <tbody>\n",
              "    <tr>\n",
              "      <th>0</th>\n",
              "      <td>0.304149</td>\n",
              "      <td>0.284437</td>\n",
              "      <td>0.013752</td>\n",
              "      <td>0.139354</td>\n",
              "      <td>0.038506</td>\n",
              "      <td>0.055466</td>\n",
              "      <td>0.065093</td>\n",
              "      <td>0.099244</td>\n",
              "    </tr>\n",
              "    <tr>\n",
              "      <th>1</th>\n",
              "      <td>0.277576</td>\n",
              "      <td>0.236723</td>\n",
              "      <td>0.213118</td>\n",
              "      <td>0.051748</td>\n",
              "      <td>0.061961</td>\n",
              "      <td>0.065365</td>\n",
              "      <td>0.066500</td>\n",
              "      <td>0.027009</td>\n",
              "    </tr>\n",
              "    <tr>\n",
              "      <th>2</th>\n",
              "      <td>0.266303</td>\n",
              "      <td>0.331763</td>\n",
              "      <td>0.222663</td>\n",
              "      <td>0.030002</td>\n",
              "      <td>0.007191</td>\n",
              "      <td>0.033474</td>\n",
              "      <td>0.087280</td>\n",
              "      <td>0.021324</td>\n",
              "    </tr>\n",
              "    <tr>\n",
              "      <th>3</th>\n",
              "      <td>0.180961</td>\n",
              "      <td>0.251178</td>\n",
              "      <td>0.392083</td>\n",
              "      <td>0.032045</td>\n",
              "      <td>0.006126</td>\n",
              "      <td>0.032516</td>\n",
              "      <td>0.066211</td>\n",
              "      <td>0.038878</td>\n",
              "    </tr>\n",
              "    <tr>\n",
              "      <th>4</th>\n",
              "      <td>0.207235</td>\n",
              "      <td>0.217054</td>\n",
              "      <td>0.220155</td>\n",
              "      <td>0.124806</td>\n",
              "      <td>0.106718</td>\n",
              "      <td>0.037209</td>\n",
              "      <td>0.062532</td>\n",
              "      <td>0.024289</td>\n",
              "    </tr>\n",
              "    <tr>\n",
              "      <th>...</th>\n",
              "      <td>...</td>\n",
              "      <td>...</td>\n",
              "      <td>...</td>\n",
              "      <td>...</td>\n",
              "      <td>...</td>\n",
              "      <td>...</td>\n",
              "      <td>...</td>\n",
              "      <td>...</td>\n",
              "    </tr>\n",
              "    <tr>\n",
              "      <th>95</th>\n",
              "      <td>0.345107</td>\n",
              "      <td>0.193795</td>\n",
              "      <td>0.098329</td>\n",
              "      <td>0.139141</td>\n",
              "      <td>0.052029</td>\n",
              "      <td>0.095704</td>\n",
              "      <td>0.048449</td>\n",
              "      <td>0.027446</td>\n",
              "    </tr>\n",
              "    <tr>\n",
              "      <th>96</th>\n",
              "      <td>0.251905</td>\n",
              "      <td>0.151854</td>\n",
              "      <td>0.288217</td>\n",
              "      <td>0.087862</td>\n",
              "      <td>0.075673</td>\n",
              "      <td>0.085322</td>\n",
              "      <td>0.035043</td>\n",
              "      <td>0.024124</td>\n",
              "    </tr>\n",
              "    <tr>\n",
              "      <th>97</th>\n",
              "      <td>0.226261</td>\n",
              "      <td>0.204202</td>\n",
              "      <td>0.212395</td>\n",
              "      <td>0.128992</td>\n",
              "      <td>0.131092</td>\n",
              "      <td>0.030462</td>\n",
              "      <td>0.031092</td>\n",
              "      <td>0.035504</td>\n",
              "    </tr>\n",
              "    <tr>\n",
              "      <th>98</th>\n",
              "      <td>0.289654</td>\n",
              "      <td>0.350501</td>\n",
              "      <td>0.003646</td>\n",
              "      <td>0.059480</td>\n",
              "      <td>0.095943</td>\n",
              "      <td>0.088879</td>\n",
              "      <td>0.075205</td>\n",
              "      <td>0.036691</td>\n",
              "    </tr>\n",
              "    <tr>\n",
              "      <th>99</th>\n",
              "      <td>0.365560</td>\n",
              "      <td>0.252812</td>\n",
              "      <td>0.179164</td>\n",
              "      <td>0.064274</td>\n",
              "      <td>0.006695</td>\n",
              "      <td>0.037493</td>\n",
              "      <td>0.037761</td>\n",
              "      <td>0.056240</td>\n",
              "    </tr>\n",
              "  </tbody>\n",
              "</table>\n",
              "<p>100 rows × 8 columns</p>\n",
              "</div>"
            ],
            "text/plain": [
              "      הליכוד  כחול לבן  הרשימה המשותפת  ...  ישראל ביתנו  העבודה גשר מרצ     ימינה\n",
              "0   0.304149  0.284437        0.013752  ...     0.055466        0.065093  0.099244\n",
              "1   0.277576  0.236723        0.213118  ...     0.065365        0.066500  0.027009\n",
              "2   0.266303  0.331763        0.222663  ...     0.033474        0.087280  0.021324\n",
              "3   0.180961  0.251178        0.392083  ...     0.032516        0.066211  0.038878\n",
              "4   0.207235  0.217054        0.220155  ...     0.037209        0.062532  0.024289\n",
              "..       ...       ...             ...  ...          ...             ...       ...\n",
              "95  0.345107  0.193795        0.098329  ...     0.095704        0.048449  0.027446\n",
              "96  0.251905  0.151854        0.288217  ...     0.085322        0.035043  0.024124\n",
              "97  0.226261  0.204202        0.212395  ...     0.030462        0.031092  0.035504\n",
              "98  0.289654  0.350501        0.003646  ...     0.088879        0.075205  0.036691\n",
              "99  0.365560  0.252812        0.179164  ...     0.037493        0.037761  0.056240\n",
              "\n",
              "[100 rows x 8 columns]"
            ]
          },
          "metadata": {
            "tags": []
          },
          "execution_count": 11
        }
      ]
    },
    {
      "cell_type": "code",
      "metadata": {
        "id": "lBms62DwfNO4"
      },
      "source": [
        "pj_hat.mean()"
      ],
      "execution_count": null,
      "outputs": []
    },
    {
      "cell_type": "markdown",
      "metadata": {
        "id": "ezWz-nV4j5lZ"
      },
      "source": [
        "### **B**"
      ]
    },
    {
      "cell_type": "markdown",
      "metadata": {
        "id": "wIdR3UgMk0Nz"
      },
      "source": [
        "חישוב השכיחות האמיתית"
      ]
    },
    {
      "cell_type": "code",
      "metadata": {
        "id": "hz86d6oWkeEa"
      },
      "source": [
        "pj = df_2020_8par.sum(axis = 0).div(df_2020_8par.sum(axis = 1).sum())\r\n",
        "pj"
      ],
      "execution_count": null,
      "outputs": []
    },
    {
      "cell_type": "markdown",
      "metadata": {
        "id": "cEIiWKnIk3i2"
      },
      "source": [
        "חישוב הטיה"
      ]
    },
    {
      "cell_type": "code",
      "metadata": {
        "colab": {
          "base_uri": "https://localhost:8080/"
        },
        "id": "6q-2IRHpj74i",
        "outputId": "a1462e93-18ed-44eb-d06e-4a94011b4e8d"
      },
      "source": [
        "bias = pj_hat.mean() - pj\r\n",
        "bias"
      ],
      "execution_count": 14,
      "outputs": [
        {
          "output_type": "execute_result",
          "data": {
            "text/plain": [
              "הליכוד            0.005757\n",
              "כחול לבן         -0.003494\n",
              "הרשימה המשותפת    0.001247\n",
              "שס               -0.002695\n",
              "יהדות התורה      -0.003339\n",
              "ישראל ביתנו       0.000716\n",
              "העבודה גשר מרצ   -0.000245\n",
              "ימינה             0.002054\n",
              "dtype: float64"
            ]
          },
          "metadata": {
            "tags": []
          },
          "execution_count": 14
        }
      ]
    },
    {
      "cell_type": "markdown",
      "metadata": {
        "id": "tgxy67v1ldgH"
      },
      "source": [
        "**ניתן לראות שההטיה אכן קרובה ל-0**"
      ]
    },
    {
      "cell_type": "markdown",
      "metadata": {
        "id": "340KsDUKljHR"
      },
      "source": [
        "חישוב שונות"
      ]
    },
    {
      "cell_type": "code",
      "metadata": {
        "colab": {
          "base_uri": "https://localhost:8080/"
        },
        "id": "hfBjWPWTlhkL",
        "outputId": "a5bf7869-703b-40f8-d948-2625cabdf4e8"
      },
      "source": [
        "var = pj_hat.var(axis = 0)\r\n",
        "var"
      ],
      "execution_count": 15,
      "outputs": [
        {
          "output_type": "execute_result",
          "data": {
            "text/plain": [
              "הליכוד            0.004466\n",
              "כחול לבן          0.004546\n",
              "הרשימה המשותפת    0.011579\n",
              "שס                0.001018\n",
              "יהדות התורה       0.002961\n",
              "ישראל ביתנו       0.000558\n",
              "העבודה גשר מרצ    0.000474\n",
              "ימינה             0.000894\n",
              "dtype: float64"
            ]
          },
          "metadata": {
            "tags": []
          },
          "execution_count": 15
        }
      ]
    },
    {
      "cell_type": "markdown",
      "metadata": {
        "id": "Dvg1iZDUnLhh"
      },
      "source": [
        "חישוב השגיאה הריבועית"
      ]
    },
    {
      "cell_type": "code",
      "metadata": {
        "colab": {
          "base_uri": "https://localhost:8080/"
        },
        "id": "0lLy5EsZk7cs",
        "outputId": "f15d4430-2f51-40cb-c3ca-8f6608d8d816"
      },
      "source": [
        "mse = (var + (bias**2))\r\n",
        "mse"
      ],
      "execution_count": 16,
      "outputs": [
        {
          "output_type": "execute_result",
          "data": {
            "text/plain": [
              "הליכוד            0.004499\n",
              "כחול לבן          0.004558\n",
              "הרשימה המשותפת    0.011581\n",
              "שס                0.001025\n",
              "יהדות התורה       0.002972\n",
              "ישראל ביתנו       0.000559\n",
              "העבודה גשר מרצ    0.000475\n",
              "ימינה             0.000898\n",
              "dtype: float64"
            ]
          },
          "metadata": {
            "tags": []
          },
          "execution_count": 16
        }
      ]
    },
    {
      "cell_type": "markdown",
      "metadata": {
        "id": "Y0rCJVoecJWc"
      },
      "source": [
        "חישוב סטיית התקן עבור הגרף"
      ]
    },
    {
      "cell_type": "code",
      "metadata": {
        "id": "vjeRX0e_oxlS"
      },
      "source": [
        "std = pj_hat.std(axis = 0)"
      ],
      "execution_count": null,
      "outputs": []
    },
    {
      "cell_type": "markdown",
      "metadata": {
        "id": "caLjLxrinS9X"
      },
      "source": [
        "### **C**"
      ]
    },
    {
      "cell_type": "code",
      "metadata": {
        "colab": {
          "base_uri": "https://localhost:8080/",
          "height": 349
        },
        "id": "1NSjUxEonWJC",
        "outputId": "b2880821-b753-4a4b-d396-7b511575c68d"
      },
      "source": [
        "std = pj_hat.std(axis = 0)\r\n",
        "fig, ax = plt.subplots()\r\n",
        "pj_hat.mean().plot(kind='bar', yerr=std, color='deepskyblue')\r\n",
        "plt.setp(ax.get_xticklabels(), rotation=45, ha=\"right\",rotation_mode=\"anchor\")\r\n",
        "ax.set_xticklabels([name[::-1] for name in list(par_names)])\r\n",
        "ax.set_ylabel('Frequency')\r\n",
        "ax.set_xlabel('Parties Names')\r\n",
        "ax.set_title('Pj hat +/- std')\r\n",
        "plt.show()"
      ],
      "execution_count": 19,
      "outputs": [
        {
          "output_type": "display_data",
          "data": {
            "image/png": "[encoded data removed]",
            "text/plain": [
              "<Figure size 432x288 with 1 Axes>"
            ]
          },
          "metadata": {
            "tags": [],
            "needs_background": "light"
          }
        }
      ]
    },
    {
      "cell_type": "markdown",
      "metadata": {
        "id": "_Uqc9b3iqFrk"
      },
      "source": [
        "### **D**"
      ]
    },
    {
      "cell_type": "markdown",
      "metadata": {
        "id": "0Gg5ksg6cZVs"
      },
      "source": [
        "חישוב השגיאה הריבועית התיאורטית"
      ]
    },
    {
      "cell_type": "code",
      "metadata": {
        "colab": {
          "base_uri": "https://localhost:8080/"
        },
        "id": "ZHjzofcXqbba",
        "outputId": "74a60ade-90e9-4b7f-a35e-1276b983c32b"
      },
      "source": [
        "mse_t = (pj * (1- pj))/(rand_samp.sum().sum()/100)\r\n",
        "mse_t"
      ],
      "execution_count": 20,
      "outputs": [
        {
          "output_type": "execute_result",
          "data": {
            "text/plain": [
              "הליכוד            0.000052\n",
              "כחול לבן          0.000048\n",
              "הרשימה המשותפת    0.000029\n",
              "שס                0.000018\n",
              "יהדות התורה       0.000014\n",
              "ישראל ביתנו       0.000014\n",
              "העבודה גשר מרצ    0.000013\n",
              "ימינה             0.000012\n",
              "dtype: float64"
            ]
          },
          "metadata": {
            "tags": []
          },
          "execution_count": 20
        }
      ]
    },
    {
      "cell_type": "markdown",
      "metadata": {
        "id": "AIvjw0CxcePW"
      },
      "source": [
        "השוואה בין השגיאות הריבועיות"
      ]
    },
    {
      "cell_type": "code",
      "metadata": {
        "id": "wIAFQsBErM_P"
      },
      "source": [
        "def bar_plot(var1, var2, title1, title2):\r\n",
        "  width = 0.2\r\n",
        "  fig, ax = plt.subplots()  # plt.subplots()\r\n",
        "  rev_names = [name[::-1] for name in list(var1.index)]\r\n",
        "  bar1 = ax.bar(np.arange(8)- width, list(var1), width, color='g')\r\n",
        "  bar2 = ax.bar(np.arange(8) , list(var2), width, color='r')\r\n",
        "\r\n",
        "  ax.set_ylabel('Frequency')\r\n",
        "  ax.set_xlabel('Parties Names')\r\n",
        "  ax.legend((bar1[0], bar2[0]), (title1, title2))\r\n",
        "  ax.set_xticks(np.arange(8))\r\n",
        "  plt.setp(ax.get_xticklabels(), rotation=60, ha=\"right\",rotation_mode=\"anchor\")\r\n",
        "  ax.set_xticklabels(rev_names)\r\n",
        "  plt.show()\r\n",
        "  return fig, ax\r\n"
      ],
      "execution_count": 21,
      "outputs": []
    },
    {
      "cell_type": "code",
      "metadata": {
        "colab": {
          "base_uri": "https://localhost:8080/",
          "height": 378
        },
        "id": "hhYz-GjUnc92",
        "outputId": "73188772-d454-4291-a6b4-465f2f422ec6"
      },
      "source": [
        "bar_plot(mse,mse_t,\"Real MSE\",\"Theoretical MSE\")"
      ],
      "execution_count": 22,
      "outputs": [
        {
          "output_type": "display_data",
          "data": {
            "image/png": "[encoded data removed]",
            "text/plain": [
              "<Figure size 432x288 with 1 Axes>"
            ]
          },
          "metadata": {
            "tags": [],
            "needs_background": "light"
          }
        },
        {
          "output_type": "execute_result",
          "data": {
            "text/plain": [
              "(<Figure size 432x288 with 1 Axes>,\n",
              " <matplotlib.axes._subplots.AxesSubplot at 0x7fcf7d4bc7f0>)"
            ]
          },
          "metadata": {
            "tags": []
          },
          "execution_count": 22
        }
      ]
    },
    {
      "cell_type": "markdown",
      "metadata": {
        "id": "_5257vSeugob"
      },
      "source": [
        "# **Q2.**"
      ]
    },
    {
      "cell_type": "markdown",
      "metadata": {
        "id": "Q2dk-hVsujk0"
      },
      "source": [
        "### **A**"
      ]
    },
    {
      "cell_type": "markdown",
      "metadata": {
        "id": "yO9XzLo_cjyY"
      },
      "source": [
        "איחוד קובץ האשכולות החברתיים עם נתוני הבחירות"
      ]
    },
    {
      "cell_type": "code",
      "metadata": {
        "id": "RS2BhlNbvnff"
      },
      "source": [
        "eshkol = pd.read_csv('Eshkol Hevrati Calcali.csv')"
      ],
      "execution_count": 23,
      "outputs": []
    },
    {
      "cell_type": "code",
      "metadata": {
        "id": "ibXaEm54ulRp"
      },
      "source": [
        "df_2020_8par_tmp= df_2020_8par\r\n",
        "df_2020_8par_tmp[\"set_code\"] =  df_2020_ballot_raw['סמל ישוב']\r\n",
        "df_2020_8par_tmp['כשרים'] = df_2020_ballot_raw[\"כשרים\"]\r\n",
        "df_2020_8par_esh = pd.merge(df_2020_8par_tmp, eshkol,on='set_code')\r\n",
        "df_2020_8par_esh = df_2020_8par_esh.drop(['population','index_value'],axis = 1)\r\n"
      ],
      "execution_count": null,
      "outputs": []
    },
    {
      "cell_type": "markdown",
      "metadata": {
        "id": "1_6OAd_y1TYc"
      },
      "source": [
        "### **B**"
      ]
    },
    {
      "cell_type": "markdown",
      "metadata": {
        "id": "4LDBx9p1curu"
      },
      "source": [
        "חישוב אומדן לשכיחות ההצבעה על ידי בחירת קלפי אקראית מכל אשכול"
      ]
    },
    {
      "cell_type": "code",
      "metadata": {
        "id": "b6I1fChDyysc"
      },
      "source": [
        "pj_hat_esh = pd.DataFrame()\r\n",
        "sum_votes_eshkol = []\r\n",
        "\r\n",
        "for i in range(1,11):\r\n",
        "  data_new = pd.DataFrame(df_2020_8par_esh.where(df_2020_8par_esh[\"eco_level\"] == i))\r\n",
        "  data_new = data_new.dropna()\r\n",
        "  data_8 = data_new[par_names]\r\n",
        "  eco = data_8.iloc[random.sample(range(data_8.shape[0]),1)]\r\n",
        "  pj_hat_esh = pd.concat([pj_hat_esh,eco])\r\n",
        "  sum_votes_eshkol.append(data_new.sum()[\"כשרים\"])\r\n",
        "\r\n",
        "pj_hat_esh = pj_hat_esh.div(pj_hat_esh.sum(axis = 1),axis=0)\r\n",
        "pj_hat_esh.index = [1,2,3,4,5,6,7,8,9,10]"
      ],
      "execution_count": 25,
      "outputs": []
    },
    {
      "cell_type": "markdown",
      "metadata": {
        "id": "p9V3jW_9E6Z7"
      },
      "source": [
        "אומדן לשכיחות ההצבעה לכל מפלגה לפי כל אשכול"
      ]
    },
    {
      "cell_type": "code",
      "metadata": {
        "id": "KMtX5fIGKlX5"
      },
      "source": [
        "pj_hat_esh                # votes for party j in eco l"
      ],
      "execution_count": null,
      "outputs": []
    },
    {
      "cell_type": "markdown",
      "metadata": {
        "id": "51ZGShwt6WNC"
      },
      "source": [
        "חישוב אומדן משוקלל לכל האשכולות"
      ]
    },
    {
      "cell_type": "code",
      "metadata": {
        "id": "bDvtxpTyJZL7"
      },
      "source": [
        "sum_votes_eshkol = sum_votes_eshkol/sum(sum_votes_eshkol)"
      ],
      "execution_count": 27,
      "outputs": []
    },
    {
      "cell_type": "code",
      "metadata": {
        "id": "K5LklsYsIA1H",
        "colab": {
          "base_uri": "https://localhost:8080/"
        },
        "outputId": "06288c06-3385-4d61-fb66-553684c37ac6"
      },
      "source": [
        "pj_hat_w = (pj_hat_esh.multiply(sum_votes_eshkol,axis =0)).sum()\r\n",
        "pj_hat_w "
      ],
      "execution_count": 28,
      "outputs": [
        {
          "output_type": "execute_result",
          "data": {
            "text/plain": [
              "הליכוד            0.246656\n",
              "כחול לבן          0.323800\n",
              "הרשימה המשותפת    0.162593\n",
              "שס                0.018220\n",
              "יהדות התורה       0.004337\n",
              "ישראל ביתנו       0.120219\n",
              "העבודה גשר מרצ    0.094648\n",
              "ימינה             0.029527\n",
              "dtype: float64"
            ]
          },
          "metadata": {
            "tags": []
          },
          "execution_count": 28
        }
      ]
    },
    {
      "cell_type": "markdown",
      "metadata": {
        "id": "WUyGEE081ozp"
      },
      "source": [
        "### **C**"
      ]
    },
    {
      "cell_type": "markdown",
      "metadata": {
        "id": "Gyk5WUXQdFB_"
      },
      "source": [
        "חישוב הדגימה לפי אשכולות 100 פעמים"
      ]
    },
    {
      "cell_type": "code",
      "metadata": {
        "id": "L9rGPHvw1qTo"
      },
      "source": [
        "all_pj_hat = pd.DataFrame()\r\n",
        "pj_hat_esh= pd.DataFrame()\r\n",
        "votes_eshkol = []\r\n",
        "\r\n",
        "for sim in range(100):\r\n",
        "  random.seed(sim)\r\n",
        "  for i in range(1,11):\r\n",
        "    data_new = pd.DataFrame(df_2020_8par_esh.where(df_2020_8par_esh[\"eco_level\"] == i))\r\n",
        "    data_new = data_new.dropna()\r\n",
        "    data_8 = data_new[par_names]\r\n",
        "    eco = data_8.iloc[random.sample(range(data_8.shape[0]),1)]\r\n",
        "    pj_hat_esh = pd.concat([pj_hat_esh,eco])\r\n",
        "    votes_eshkol.append(data_new.sum()[\"כשרים\"])\r\n",
        "  votes_eshkol = votes_eshkol/sum(votes_eshkol)\r\n",
        "  pj_hat_esh = pj_hat_esh.div(pj_hat_esh.sum(axis = 1),axis=0)\r\n",
        "  pj_hat_w = pd.DataFrame((pj_hat_esh.multiply(sum_votes_eshkol,axis =0)).sum())\r\n",
        "  pj_hat_w = pj_hat_w.T\r\n",
        "  all_pj_hat = pd.concat([all_pj_hat, pj_hat_w])\r\n",
        "  pj_hat_esh = pd.DataFrame()\r\n",
        "  votes_eshkol = []\r\n",
        "   "
      ],
      "execution_count": 29,
      "outputs": []
    },
    {
      "cell_type": "markdown",
      "metadata": {
        "id": "Xfdosu1AdJYF"
      },
      "source": [
        "חישוב השגיאה הריבועית במדגם זה"
      ]
    },
    {
      "cell_type": "code",
      "metadata": {
        "id": "wZV9BO7Gfpug"
      },
      "source": [
        "mse_100 = 0\r\n",
        "for i in range (100):\r\n",
        "    mse_100 += (all_pj_hat.iloc[i]-pj)**2\r\n",
        "mse_100 = mse_100/100"
      ],
      "execution_count": 30,
      "outputs": []
    },
    {
      "cell_type": "code",
      "metadata": {
        "id": "klGvn5DtmTdI"
      },
      "source": [
        "mse_100"
      ],
      "execution_count": null,
      "outputs": []
    },
    {
      "cell_type": "markdown",
      "metadata": {
        "id": "F_KjueYwdRLi"
      },
      "source": [
        "השוואה בין השגיאות הריבועיות בשתי השיטות"
      ]
    },
    {
      "cell_type": "code",
      "metadata": {
        "colab": {
          "base_uri": "https://localhost:8080/",
          "height": 378
        },
        "id": "09dYOeY5nvjl",
        "outputId": "16aab1ef-f7b3-4295-f1fa-6afde7be9534"
      },
      "source": [
        "bar_plot(mse, mse_100,\"Real MSE\",\"Sample-eco MSE\")"
      ],
      "execution_count": 32,
      "outputs": [
        {
          "output_type": "display_data",
          "data": {
            "image/png": "[encoded data removed]",
            "text/plain": [
              "<Figure size 432x288 with 1 Axes>"
            ]
          },
          "metadata": {
            "tags": [],
            "needs_background": "light"
          }
        },
        {
          "output_type": "execute_result",
          "data": {
            "text/plain": [
              "(<Figure size 432x288 with 1 Axes>,\n",
              " <matplotlib.axes._subplots.AxesSubplot at 0x7fcf7d40bac8>)"
            ]
          },
          "metadata": {
            "tags": []
          },
          "execution_count": 32
        }
      ]
    },
    {
      "cell_type": "markdown",
      "metadata": {
        "id": "VrLdADOGoMg2"
      },
      "source": [
        "סכום השגיאה הריבועית בשתי השיטות"
      ]
    },
    {
      "cell_type": "code",
      "metadata": {
        "colab": {
          "base_uri": "https://localhost:8080/"
        },
        "id": "r-N5_ABXoQac",
        "outputId": "9f524f0f-6b13-48e7-b6e0-5a034befa1e4"
      },
      "source": [
        "mse.sum(), mse_100.sum()"
      ],
      "execution_count": 33,
      "outputs": [
        {
          "output_type": "execute_result",
          "data": {
            "text/plain": [
              "(0.02656600393245151, 0.018641280400509587)"
            ]
          },
          "metadata": {
            "tags": []
          },
          "execution_count": 33
        }
      ]
    },
    {
      "cell_type": "markdown",
      "metadata": {
        "id": "53qnsIalb03G"
      },
      "source": [
        "ניתן לראות שהשגיאה הריבועית ממדגם השכבות היא יותר קטנה ולכן נעדיף את השיטה הזאת."
      ]
    },
    {
      "cell_type": "markdown",
      "metadata": {
        "id": "NcvEM0s7oX0c"
      },
      "source": [
        "# **Q3.**"
      ]
    },
    {
      "cell_type": "markdown",
      "metadata": {
        "id": "7qHxrIiaOc3O"
      },
      "source": [
        "### **A**"
      ]
    },
    {
      "cell_type": "markdown",
      "metadata": {
        "id": "bk_VvxN0rKEd"
      },
      "source": [
        "חישוב qj"
      ]
    },
    {
      "cell_type": "code",
      "metadata": {
        "id": "Jb2Sf7I1rMlA"
      },
      "source": [
        "qj = df_2019_8par.sum(axis=0).div(df_2019_8par.sum(axis=1).sum())"
      ],
      "execution_count": 34,
      "outputs": []
    },
    {
      "cell_type": "markdown",
      "metadata": {
        "id": "c2GT1O2OqYjS"
      },
      "source": [
        "**בניית פונקציות לחישוב שונות, הטייה ושגיאה ריבועית בהינתן אלפא**\r\n",
        "\r\n",
        "\r\n"
      ]
    },
    {
      "cell_type": "code",
      "metadata": {
        "id": "1ufRGBuFoaGU"
      },
      "source": [
        "def calc_bias_2(alpha):\r\n",
        "    bias_new = ((1 - alpha) * (pj_hat.mean() - qj))**2\r\n",
        "    return bias_new\r\n",
        "\r\n",
        "def calc_var(alpha):\r\n",
        "    var_new = (alpha ** 2) * var\r\n",
        "    return var_new\r\n",
        "\r\n",
        "def calc_mse(alpha, var, bias_2):\r\n",
        "    mse_new = var + (bias_2)\r\n",
        "    return mse_new"
      ],
      "execution_count": 35,
      "outputs": []
    },
    {
      "cell_type": "markdown",
      "metadata": {
        "id": "NSu1ysG0dXPh"
      },
      "source": [
        "הפעלת הפונקציות על כל האלפות הנדרשות"
      ]
    },
    {
      "cell_type": "code",
      "metadata": {
        "id": "ZbWWhJSvwIF5"
      },
      "source": [
        "all_bias, all_var, all_mse = [], [], []\r\n",
        "for i in np.arange(0, 1.01, 0.01):\r\n",
        "  all_bias.append(calc_bias_2(i))\r\n",
        "  all_var.append(calc_var(i))\r\n",
        "  all_mse.append(calc_mse(i, all_var[-1],all_bias[-1]))"
      ],
      "execution_count": 36,
      "outputs": []
    },
    {
      "cell_type": "markdown",
      "metadata": {
        "id": "5ImYZzxGdbtP"
      },
      "source": [
        "גרף מחולק לכל מפלגה עם הממצאים"
      ]
    },
    {
      "cell_type": "code",
      "metadata": {
        "colab": {
          "base_uri": "https://localhost:8080/",
          "height": 499
        },
        "id": "M9xLMPiJ1YRa",
        "outputId": "d5e28ffe-0275-474c-85c9-11e51fe61ce7"
      },
      "source": [
        "alpha_range = np.arange(0, 1.01, 0.01)\r\n",
        "count = 0 \r\n",
        "fig, ax = plt.subplots(2,4, figsize=(20,8))\r\n",
        "fig.subplots_adjust(hspace = 0.5, wspace = 0.4)\r\n",
        "for i in range(2):\r\n",
        "    for j in range(4):\r\n",
        "        name = par_names[count]\r\n",
        "        rev_name = name[::-1]\r\n",
        "        var_plot = (np.array(all_var))[:,count]\r\n",
        "        bias_plot = (np.array(all_bias))[:,count]\r\n",
        "        mse_plot = (np.array(all_mse))[:,count]\r\n",
        "        ax[i,j].plot(alpha_range,var_plot,'r',label='VAR')\r\n",
        "        ax[i,j].plot(alpha_range,bias_plot,'g',label='BIAS squared')\r\n",
        "        ax[i,j].plot(alpha_range,mse_plot,'b',label='MSE')\r\n",
        "        ax[i,j].legend(loc='upper left')\r\n",
        "        ax[i,j].set_title(rev_name)\r\n",
        "        count += 1\r\n",
        "plt.show()"
      ],
      "execution_count": 37,
      "outputs": [
        {
          "output_type": "display_data",
          "data": {
            "image/png": "[encoded data removed]",
            "text/plain": [
              "<Figure size 1440x576 with 8 Axes>"
            ]
          },
          "metadata": {
            "tags": [],
            "needs_background": "light"
          }
        }
      ]
    },
    {
      "cell_type": "markdown",
      "metadata": {
        "id": "hwYc2l00djKr"
      },
      "source": [
        "השוואה בין אלפה ששוה 1 לאלפא ששווה 0.5"
      ]
    },
    {
      "cell_type": "code",
      "metadata": {
        "id": "yZY3QPJhF-iK"
      },
      "source": [
        "var_05 =calc_var(0.5)\r\n",
        "bias_05 = calc_bias_2(0.5)\r\n",
        "\r\n",
        "var_1 =calc_var(1)\r\n",
        "bias_1 = calc_bias_2(1)\r\n",
        "\r\n",
        "mse_05 = calc_mse(0.5,var_05,bias_05)\r\n",
        "mse_1 = calc_mse(1,var_1,bias_1)\r\n"
      ],
      "execution_count": 38,
      "outputs": []
    },
    {
      "cell_type": "code",
      "metadata": {
        "colab": {
          "base_uri": "https://localhost:8080/"
        },
        "id": "vhI37W2kSEsq",
        "outputId": "a8ee6ca9-2a40-45a8-8fec-cd78b9e39393"
      },
      "source": [
        "mse_05.mean() , mse_1.mean()"
      ],
      "execution_count": 44,
      "outputs": [
        {
          "output_type": "execute_result",
          "data": {
            "text/plain": [
              "(0.0009510599135899617, 0.0033119866815224416)"
            ]
          },
          "metadata": {
            "tags": []
          },
          "execution_count": 44
        }
      ]
    },
    {
      "cell_type": "markdown",
      "metadata": {
        "id": "YNivYdo2SJ0m"
      },
      "source": [
        "ניתן לראות שאכן השגיאה הריבועית הממוצעת משתפרת כאשר אלפא שווה 0.5 ביחס לאלפא ששווה 1"
      ]
    },
    {
      "cell_type": "markdown",
      "metadata": {
        "id": "Gbd05enMOiYV"
      },
      "source": [
        "### **B**"
      ]
    },
    {
      "cell_type": "markdown",
      "metadata": {
        "id": "uXAJM4t-XbQm"
      },
      "source": [
        "mse_pj_bar = [(1 - alpha) * (pj_hat - qj)] ^2 + [(alpha ^ 2) * var(pj_hat)]\r\n",
        "\r\n",
        "the first derivative is: 2 * alpha * var * var(pj_hat) - 2*(1 - alpha) * (qj - pj_hat)\r\n",
        "^2 \r\n",
        "\r\n",
        "נשווה את הביטוי הנ\"ל ל-0 ונקבל את האלפא שממזערת את השגיאה הריבועית\r\n",
        "\r\n",
        "alpha = [(qj-pj_hat)^2] / [(var(pj_hat) + ((qj - pj_hat)^2]\r\n",
        "\r\n",
        "ניתן לראות שהנגזרת השנייה חיובית ולכן זו נקודות מינימום כנדרש"
      ]
    },
    {
      "cell_type": "code",
      "metadata": {
        "id": "TN1KLgIYOkwN",
        "colab": {
          "base_uri": "https://localhost:8080/"
        },
        "outputId": "8e2367cf-9a45-447e-8058-127e2d9a1c09"
      },
      "source": [
        "min_alpha = ((qj - pj_hat.mean())**2) / (var + (qj - pj_hat.mean())**2)\r\n",
        "min_alpha"
      ],
      "execution_count": 41,
      "outputs": [
        {
          "output_type": "execute_result",
          "data": {
            "text/plain": [
              "הליכוד            0.301460\n",
              "כחול לבן          0.000918\n",
              "הרשימה המשותפת    0.036873\n",
              "שס                0.004453\n",
              "יהדות התורה       0.009234\n",
              "ישראל ביתנו       0.241544\n",
              "העבודה גשר מרצ    0.735398\n",
              "ימינה             0.037199\n",
              "dtype: float64"
            ]
          },
          "metadata": {
            "tags": []
          },
          "execution_count": 41
        }
      ]
    },
    {
      "cell_type": "markdown",
      "metadata": {
        "id": "oFxEbSuOgjb0"
      },
      "source": [
        "השוואה בין השגיאות הריבועיות של כל אלפא"
      ]
    },
    {
      "cell_type": "code",
      "metadata": {
        "id": "x5OyL54IgfkW"
      },
      "source": [
        "var_min =calc_var(min_alpha)\r\n",
        "bias_min = calc_bias_2(min_alpha)\r\n",
        "mse_min= calc_mse(min_alpha, var_min, bias_min)"
      ],
      "execution_count": 42,
      "outputs": []
    },
    {
      "cell_type": "code",
      "metadata": {
        "colab": {
          "base_uri": "https://localhost:8080/",
          "height": 378
        },
        "id": "7MfvgCDIgf9q",
        "outputId": "ff108329-9eef-444d-a7ae-f82a72943bb2"
      },
      "source": [
        "bar_plot(mse_min, mse_1,\"Min alpha - MSE\",\"alpha =1 - MSE\")"
      ],
      "execution_count": 43,
      "outputs": [
        {
          "output_type": "display_data",
          "data": {
            "image/png": "[encoded data removed]",
            "text/plain": [
              "<Figure size 432x288 with 1 Axes>"
            ]
          },
          "metadata": {
            "tags": [],
            "needs_background": "light"
          }
        },
        {
          "output_type": "execute_result",
          "data": {
            "text/plain": [
              "(<Figure size 432x288 with 1 Axes>,\n",
              " <matplotlib.axes._subplots.AxesSubplot at 0x7fcf7cf44630>)"
            ]
          },
          "metadata": {
            "tags": []
          },
          "execution_count": 43
        }
      ]
    },
    {
      "cell_type": "markdown",
      "metadata": {
        "id": "-oqOYUJ1hVFo"
      },
      "source": [
        "ניתן לראות שהאלפא המינימלית אכן ממזערת את השגיאה הריבועית הממוצעת של כל מפלגה."
      ]
    },
    {
      "cell_type": "markdown",
      "metadata": {
        "id": "V5JL75nGikEY"
      },
      "source": [
        "אבל לא ניתן לקבוע שהאומדן הזה הוא תמיד יותר טוב מכיוון שהביטוי של אלפא תלוי בתוצאות האמת ואינו קבוע ולכן טיב האומדן ישתנה בכל בחירות."
      ]
    }
  ]
}