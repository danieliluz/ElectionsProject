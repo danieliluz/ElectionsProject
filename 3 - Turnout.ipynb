{
  "nbformat": 4,
  "nbformat_minor": 0,
  "metadata": {
    "colab": {
      "name": "Lab_3.ipynb",
      "provenance": [],
      "collapsed_sections": [
        "lpXltRKp710t",
        "n-QKQdAzYQlY",
        "kSrQbVwJTXm1",
        "avmEhZCya_qS",
        "HqIPQ2_-bkBX",
        "SekOXdVFYuPv",
        "WqR3SEoNY2Mk",
        "jSOyCYF0ezMz",
        "RuQ7FCmMsGRE",
        "Np9tpRFRu170"
      ]
    },
    "kernelspec": {
      "display_name": "Python 3",
      "language": "python",
      "name": "python3"
    },
    "language_info": {
      "codemirror_mode": {
        "name": "ipython",
        "version": 3
      },
      "file_extension": ".py",
      "mimetype": "text/x-python",
      "name": "python",
      "nbconvert_exporter": "python",
      "pygments_lexer": "ipython3",
      "version": "3.7.4"
    }
  },
  "cells": [
    {
      "cell_type": "markdown",
      "metadata": {
        "id": "lyQ45Phps6Z6"
      },
      "source": [
        "# **Israel Elections Data Analysis - Lab 3**\n"
      ]
    },
    {
      "cell_type": "markdown",
      "metadata": {
        "id": "8DKMb3rPhv0R"
      },
      "source": [
        "",
        "\n",
        ""
      ]
    },
    {
      "cell_type": "markdown",
      "metadata": {
        "id": "rdAF2oUTYarA"
      },
      "source": [
        "### **environment checking**"
      ]
    },
    {
      "cell_type": "code",
      "metadata": {
        "id": "eRKSr5EstAUm",
        "outputId": "7e3cb61f-1784-4ddf-e5d2-fd80099cf029",
        "colab": {
          "base_uri": "https://localhost:8080/"
        }
      },
      "source": [
        "# Add a check if we run in google colab or locally in jupyter notebook\n",
        "run_in_colab = True\n",
        "if 'google.colab' in str(get_ipython()):\n",
        "    run_in_colab = True\n",
        "    print('Running on CoLab')\n",
        "else:\n",
        "    print('Running locally on Jupyter')"
      ],
      "execution_count": 1,
      "outputs": [
        {
          "output_type": "stream",
          "text": [
            "Running on CoLab\n"
          ],
          "name": "stdout"
        }
      ]
    },
    {
      "cell_type": "markdown",
      "metadata": {
        "id": "gv0t-UVNfuGY"
      },
      "source": [
        "### **Import modules**"
      ]
    },
    {
      "cell_type": "code",
      "metadata": {
        "id": "iC0NlMvHzL1L"
      },
      "source": [
        "import numpy as np  # a module for working with numerical array \n",
        "import pandas as pd  # a module for working with data-frames\n",
        "import os\n",
        "import io\n",
        "from matplotlib import pyplot as plt\n",
        "import numpy.matlib as mtl\n",
        "import copy\n",
        "import random\n",
        "#from scipy.stats.stats import pearsonr, spearmanr\n",
        "\n",
        "%matplotlib inline"
      ],
      "execution_count": 2,
      "outputs": []
    },
    {
      "cell_type": "markdown",
      "metadata": {
        "id": "pGTS_zCRZGfV"
      },
      "source": [
        "### **Import data**"
      ]
    },
    {
      "cell_type": "code",
      "metadata": {
        "id": "RWSJpsyKqHjH",
        "outputId": "c0aacab1-d19d-418b-a086-f13ceae3f0de",
        "colab": {
          "base_uri": "https://localhost:8080/"
        }
      },
      "source": [
        "# Mount drive in google colab\n",
        "if run_in_colab:\n",
        "    from google.colab import drive\n",
        "    drive.mount('/content/drive')\n",
        "else:  # Set local path \n",
        "    data_path = \"C:/Users/Daniel Ohayon/PycharmProjects/Statistics Lab\"  "
      ],
      "execution_count": 3,
      "outputs": [
        {
          "output_type": "stream",
          "text": [
            "Mounted at /content/drive\n"
          ],
          "name": "stdout"
        }
      ]
    },
    {
      "cell_type": "code",
      "metadata": {
        "id": "xaG-KYCw8XZz",
        "outputId": "1d8276a1-aa3b-48a1-a09b-dda5dbb87eb6",
        "colab": {
          "resources": {
            "http://localhost:8080/nbextensions/google.colab/files.js": {
              "data": "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",
              "ok": true,
              "headers": [
                [
                  "content-type",
                  "application/javascript"
                ]
              ],
              "status": 200,
              "status_text": ""
            }
          },
          "base_uri": "https://localhost:8080/",
          "height": 73
        }
      },
      "source": [
        "# Loading elections 2020 elections data:\n",
        "if run_in_colab:\n",
        "    from google.colab import files\n",
        "    uploaded = files.upload()"
      ],
      "execution_count": 4,
      "outputs": [
        {
          "output_type": "display_data",
          "data": {
            "text/html": [
              "\n",
              "     <input type=\"file\" id=\"files-035c3214-ae8b-43cd-9946-44a8fb4e8f0d\" name=\"files[]\" multiple disabled\n",
              "        style=\"border:none\" />\n",
              "     <output id=\"result-035c3214-ae8b-43cd-9946-44a8fb4e8f0d\">\n",
              "      Upload widget is only available when the cell has been executed in the\n",
              "      current browser session. Please rerun this cell to enable.\n",
              "      </output>\n",
              "      <script src=\"/nbextensions/google.colab/files.js\"></script> "
            ],
            "text/plain": [
              "<IPython.core.display.HTML object>"
            ]
          },
          "metadata": {
            "tags": []
          }
        },
        {
          "output_type": "stream",
          "text": [
            "Saving votes per ballot 2020.csv to votes per ballot 2020.csv\n"
          ],
          "name": "stdout"
        }
      ]
    },
    {
      "cell_type": "code",
      "metadata": {
        "id": "QxK5YlBH1geD"
      },
      "source": [
        "import io\n",
        "\n",
        "data_type = \"ballot\" # \"ballot\"  # city\n",
        "if data_type == \"ballot\":\n",
        "    df_2020_raw = pd.read_csv(io.BytesIO(uploaded['votes per ballot 2020.csv']),  encoding = 'iso-8859-8', index_col='שם ישוב')\n",
        "    df_2020_raw = df_2020_raw.drop(['מעטפות חיצוניות'], axis=0)\n",
        "    # preprocessing of ballot\n",
        "    df_2020 = df_2020_raw.drop('סמל ועדה', axis=1) # new column added in Sep 2019\n",
        "    df_2020 = df_2020[df_2020.columns[9:]] # removing \"metadata\" columns\n",
        "    \n",
        "else:\n",
        "    df_2020_raw = pd.read_csv(io.BytesIO(uploaded['votes per city 2020.csv']),  encoding = 'iso-8859-8', index_col='שם ישוב')\n",
        "    # preprocessing of cities \n",
        "    df_2020 = df_2020_raw.drop('סמל ועדה', axis=1) # new column added in Sep 2019\n",
        "    df_2020 = df_2020[df_2020.columns[5:-1]] # removing \"metadata\" columns\n",
        "# Dataset is now stored in a Pandas Dataframe"
      ],
      "execution_count": 5,
      "outputs": []
    },
    {
      "cell_type": "markdown",
      "metadata": {
        "id": "3C5O8RedYJfN"
      },
      "source": [
        "# **Preliminary calculations**"
      ]
    },
    {
      "cell_type": "markdown",
      "metadata": {
        "id": "ID27uCyE4lw8"
      },
      "source": [
        "### **Computing votes share only for parties above a certain threshold, and extracting these parties:**"
      ]
    },
    {
      "cell_type": "code",
      "metadata": {
        "id": "7DVGJQV441A8"
      },
      "source": [
        "def parties_votes_percents(df, thresh):\n",
        "    par = df.sum().div(df.sum().sum()).sort_values(ascending=False)\n",
        "    return par[par >= thresh]\n",
        "\n",
        "top_parties = parties_votes_percents(df_2020, 0.0325)  # finding the top 8 parties"
      ],
      "execution_count": 6,
      "outputs": []
    },
    {
      "cell_type": "code",
      "metadata": {
        "id": "8Sj6eZPz7S18"
      },
      "source": [
        "par_letters = top_parties.keys()"
      ],
      "execution_count": 7,
      "outputs": []
    },
    {
      "cell_type": "markdown",
      "metadata": {
        "id": "Ugt0AmFM436L"
      },
      "source": [
        "### **Creating a Dataframe for the top 8 parties:**"
      ]
    },
    {
      "cell_type": "code",
      "metadata": {
        "id": "1oGDlqlz4l93"
      },
      "source": [
        "top_par_df = df_2020_raw[par_letters]                                   # dataframe for the top 8 parties"
      ],
      "execution_count": 8,
      "outputs": []
    },
    {
      "cell_type": "code",
      "metadata": {
        "id": "kHb98reb9420",
        "outputId": "45a6e119-a055-447d-b294-019425198300",
        "colab": {
          "base_uri": "https://localhost:8080/",
          "height": 431
        }
      },
      "source": [
        "top_par_df"
      ],
      "execution_count": null,
      "outputs": [
        {
          "output_type": "execute_result",
          "data": {
            "text/html": [
              "<div>\n",
              "<style scoped>\n",
              "    .dataframe tbody tr th:only-of-type {\n",
              "        vertical-align: middle;\n",
              "    }\n",
              "\n",
              "    .dataframe tbody tr th {\n",
              "        vertical-align: top;\n",
              "    }\n",
              "\n",
              "    .dataframe thead th {\n",
              "        text-align: right;\n",
              "    }\n",
              "</style>\n",
              "<table border=\"1\" class=\"dataframe\">\n",
              "  <thead>\n",
              "    <tr style=\"text-align: right;\">\n",
              "      <th></th>\n",
              "      <th>מחל</th>\n",
              "      <th>פה</th>\n",
              "      <th>ודעם</th>\n",
              "      <th>שס</th>\n",
              "      <th>ג</th>\n",
              "      <th>ל</th>\n",
              "      <th>אמת</th>\n",
              "      <th>טב</th>\n",
              "    </tr>\n",
              "    <tr>\n",
              "      <th>שם ישוב</th>\n",
              "      <th></th>\n",
              "      <th></th>\n",
              "      <th></th>\n",
              "      <th></th>\n",
              "      <th></th>\n",
              "      <th></th>\n",
              "      <th></th>\n",
              "      <th></th>\n",
              "    </tr>\n",
              "  </thead>\n",
              "  <tbody>\n",
              "    <tr>\n",
              "      <th>אבו גווייעד שבט</th>\n",
              "      <td>1</td>\n",
              "      <td>6</td>\n",
              "      <td>112</td>\n",
              "      <td>2</td>\n",
              "      <td>0</td>\n",
              "      <td>0</td>\n",
              "      <td>2</td>\n",
              "      <td>0</td>\n",
              "    </tr>\n",
              "    <tr>\n",
              "      <th>אבו גווייעד שבט</th>\n",
              "      <td>2</td>\n",
              "      <td>0</td>\n",
              "      <td>235</td>\n",
              "      <td>0</td>\n",
              "      <td>0</td>\n",
              "      <td>0</td>\n",
              "      <td>6</td>\n",
              "      <td>0</td>\n",
              "    </tr>\n",
              "    <tr>\n",
              "      <th>אבו גווייעד שבט</th>\n",
              "      <td>1</td>\n",
              "      <td>2</td>\n",
              "      <td>207</td>\n",
              "      <td>0</td>\n",
              "      <td>0</td>\n",
              "      <td>1</td>\n",
              "      <td>5</td>\n",
              "      <td>0</td>\n",
              "    </tr>\n",
              "    <tr>\n",
              "      <th>אבו גוש</th>\n",
              "      <td>32</td>\n",
              "      <td>11</td>\n",
              "      <td>229</td>\n",
              "      <td>2</td>\n",
              "      <td>1</td>\n",
              "      <td>0</td>\n",
              "      <td>15</td>\n",
              "      <td>0</td>\n",
              "    </tr>\n",
              "    <tr>\n",
              "      <th>אבו גוש</th>\n",
              "      <td>23</td>\n",
              "      <td>18</td>\n",
              "      <td>330</td>\n",
              "      <td>0</td>\n",
              "      <td>0</td>\n",
              "      <td>2</td>\n",
              "      <td>6</td>\n",
              "      <td>0</td>\n",
              "    </tr>\n",
              "    <tr>\n",
              "      <th>...</th>\n",
              "      <td>...</td>\n",
              "      <td>...</td>\n",
              "      <td>...</td>\n",
              "      <td>...</td>\n",
              "      <td>...</td>\n",
              "      <td>...</td>\n",
              "      <td>...</td>\n",
              "      <td>...</td>\n",
              "    </tr>\n",
              "    <tr>\n",
              "      <th>תקוע</th>\n",
              "      <td>227</td>\n",
              "      <td>27</td>\n",
              "      <td>2</td>\n",
              "      <td>11</td>\n",
              "      <td>14</td>\n",
              "      <td>15</td>\n",
              "      <td>10</td>\n",
              "      <td>174</td>\n",
              "    </tr>\n",
              "    <tr>\n",
              "      <th>תקוע</th>\n",
              "      <td>188</td>\n",
              "      <td>25</td>\n",
              "      <td>0</td>\n",
              "      <td>13</td>\n",
              "      <td>8</td>\n",
              "      <td>10</td>\n",
              "      <td>7</td>\n",
              "      <td>301</td>\n",
              "    </tr>\n",
              "    <tr>\n",
              "      <th>תראבין אצאנע שבט</th>\n",
              "      <td>0</td>\n",
              "      <td>4</td>\n",
              "      <td>43</td>\n",
              "      <td>0</td>\n",
              "      <td>0</td>\n",
              "      <td>0</td>\n",
              "      <td>0</td>\n",
              "      <td>0</td>\n",
              "    </tr>\n",
              "    <tr>\n",
              "      <th>תראבין אצאנעישוב</th>\n",
              "      <td>40</td>\n",
              "      <td>2</td>\n",
              "      <td>160</td>\n",
              "      <td>0</td>\n",
              "      <td>0</td>\n",
              "      <td>0</td>\n",
              "      <td>0</td>\n",
              "      <td>0</td>\n",
              "    </tr>\n",
              "    <tr>\n",
              "      <th>תרום</th>\n",
              "      <td>254</td>\n",
              "      <td>65</td>\n",
              "      <td>0</td>\n",
              "      <td>47</td>\n",
              "      <td>7</td>\n",
              "      <td>1</td>\n",
              "      <td>9</td>\n",
              "      <td>85</td>\n",
              "    </tr>\n",
              "  </tbody>\n",
              "</table>\n",
              "<p>10631 rows × 8 columns</p>\n",
              "</div>"
            ],
            "text/plain": [
              "                  מחל  פה  ודעם  שס   ג   ל  אמת   טב\n",
              "שם ישוב                                              \n",
              "אבו גווייעד שבט     1   6   112   2   0   0    2    0\n",
              "אבו גווייעד שבט     2   0   235   0   0   0    6    0\n",
              "אבו גווייעד שבט     1   2   207   0   0   1    5    0\n",
              "אבו גוש            32  11   229   2   1   0   15    0\n",
              "אבו גוש            23  18   330   0   0   2    6    0\n",
              "...               ...  ..   ...  ..  ..  ..  ...  ...\n",
              "תקוע              227  27     2  11  14  15   10  174\n",
              "תקוע              188  25     0  13   8  10    7  301\n",
              "תראבין אצאנע שבט    0   4    43   0   0   0    0    0\n",
              "תראבין אצאנעישוב   40   2   160   0   0   0    0    0\n",
              "תרום              254  65     0  47   7   1    9   85\n",
              "\n",
              "[10631 rows x 8 columns]"
            ]
          },
          "metadata": {
            "tags": []
          },
          "execution_count": 10
        }
      ]
    },
    {
      "cell_type": "markdown",
      "metadata": {
        "id": "0gsoQa8PctMx"
      },
      "source": [
        "**Create a dictionary of the parties:**"
      ]
    },
    {
      "cell_type": "code",
      "metadata": {
        "id": "uBzyiaHEkjvT"
      },
      "source": [
        "party_names = { \"מחל\" : \"הליכוד\" , \"פה\" : \"כחול לבן\" ,\"ודעם\" : \"הרשימה המשותפת\" , \"שס\" : \"שס\" ,\n",
        "               \"ג\" : \"יהדות התורה\", \"ל\" : \"ישראל ביתנו\", \"אמת\" :  \"העבודה גשר מרצ\",  \"טב\" : \"ימינה\"  }"
      ],
      "execution_count": 9,
      "outputs": []
    },
    {
      "cell_type": "markdown",
      "metadata": {
        "id": "lpXltRKp710t"
      },
      "source": [
        "# **Q1.**"
      ]
    },
    {
      "cell_type": "code",
      "metadata": {
        "id": "7veDgWzSP7_b"
      },
      "source": [
        "def sample_bin(v_ij, n_ij_t):\n",
        "  v_ij[v_ij > 1] = 1\n",
        "  v_ij[v_ij < 0 ] = 0\n",
        "  simulation = np.empty((n_ij_t.shape[0],n_ij_t.shape[1]))\n",
        "  for ballot in range(n_ij_t.shape[0]):  \n",
        "      for party in range(n_ij_t.shape[1]):\n",
        "          simulation[ballot,party] = np.random.binomial(n_ij_t[ballot,party], v_ij[ballot,party])\n",
        "  return simulation"
      ],
      "execution_count": 10,
      "outputs": []
    },
    {
      "cell_type": "markdown",
      "metadata": {
        "id": "n-QKQdAzYQlY"
      },
      "source": [
        "# **Q2.**"
      ]
    },
    {
      "cell_type": "markdown",
      "metadata": {
        "id": "kSrQbVwJTXm1"
      },
      "source": [
        "### **:פונקציה להמרת דאטה פריים למטריצה לשם הנוחות**"
      ]
    },
    {
      "cell_type": "code",
      "metadata": {
        "id": "l1kgSvc7Qd6Q"
      },
      "source": [
        "def numpy_to_df (matrix):\n",
        "  matrix = pd.DataFrame(matrix)\n",
        "  matrix.index = top_par_df.index\n",
        "  matrix.columns = top_par_df.columns\n",
        "  return matrix"
      ],
      "execution_count": 11,
      "outputs": []
    },
    {
      "cell_type": "markdown",
      "metadata": {
        "id": "avmEhZCya_qS"
      },
      "source": [
        "### **calculate nij tilde** "
      ]
    },
    {
      "cell_type": "code",
      "metadata": {
        "id": "kA0gWdSP0fhJ"
      },
      "source": [
        "# multiplying the number of voters by correct ratio\n",
        "n_ij_t = copy.deepcopy(top_par_df)\n",
        "fixed_ratio = (df_2020_raw[\"בזב\"].sum())/(df_2020_raw['כשרים'].sum())\n",
        "n_ij_t=round(n_ij_t.mul(fixed_ratio,axis=0))"
      ],
      "execution_count": 12,
      "outputs": []
    },
    {
      "cell_type": "code",
      "metadata": {
        "id": "NBDZJuygSpeX"
      },
      "source": [
        "n_ij_t = n_ij_t.to_numpy()   # To multiply matrices"
      ],
      "execution_count": 13,
      "outputs": []
    },
    {
      "cell_type": "code",
      "metadata": {
        "id": "3-xkgVVsSoff",
        "outputId": "d6b09e62-5afe-4b01-a4b7-807d659b9c0b",
        "colab": {
          "base_uri": "https://localhost:8080/"
        }
      },
      "source": [
        "n_ij_t"
      ],
      "execution_count": 14,
      "outputs": [
        {
          "output_type": "execute_result",
          "data": {
            "text/plain": [
              "array([[  2.,   9., 170., ...,   0.,   3.,   0.],\n",
              "       [  3.,   0., 356., ...,   0.,   9.,   0.],\n",
              "       [  2.,   3., 313., ...,   2.,   8.,   0.],\n",
              "       ...,\n",
              "       [  0.,   6.,  65., ...,   0.,   0.,   0.],\n",
              "       [ 61.,   3., 242., ...,   0.,   0.,   0.],\n",
              "       [385.,  98.,   0., ...,   2.,  14., 129.]])"
            ]
          },
          "metadata": {
            "tags": []
          },
          "execution_count": 14
        }
      ]
    },
    {
      "cell_type": "markdown",
      "metadata": {
        "id": "HqIPQ2_-bkBX"
      },
      "source": [
        "# **2.a**"
      ]
    },
    {
      "cell_type": "code",
      "metadata": {
        "id": "asqZFoRbOegb"
      },
      "source": [
        "vi = df_2020_raw[\"כשרים\"]/df_2020_raw['בזב']\n",
        "v_mi = np.asmatrix(vi)\n",
        "vi = mtl.repmat(v_mi,8,1)\n",
        "vi = vi.transpose()"
      ],
      "execution_count": 15,
      "outputs": []
    },
    {
      "cell_type": "markdown",
      "metadata": {
        "id": "SekOXdVFYuPv"
      },
      "source": [
        "# **2.b**"
      ]
    },
    {
      "cell_type": "code",
      "metadata": {
        "id": "5aSi_64mGrNy"
      },
      "source": [
        "uj_percents = {\"מחל\" : 0.9  , \"פה\" : 0.8 , \"ודעם\" : 0.7 , \"שס\" : 0.6 ,\n",
        "               \"ג\" : 0.5 , \"ל\" : 0.4, \"אמת\" : 0.3 ,  \"טב\" : 0.2  }"
      ],
      "execution_count": 16,
      "outputs": []
    },
    {
      "cell_type": "code",
      "metadata": {
        "id": "Vqpo3GujRY6H"
      },
      "source": [
        "uj = list(uj_percents.values())\n",
        "u_m= np.asmatrix(uj)\n",
        "uj = mtl.repmat(u_m,10631,1)"
      ],
      "execution_count": 17,
      "outputs": []
    },
    {
      "cell_type": "markdown",
      "metadata": {
        "id": "WqR3SEoNY2Mk"
      },
      "source": [
        "# **2.c**"
      ]
    },
    {
      "cell_type": "code",
      "metadata": {
        "id": "C2qc6RKtbnKT"
      },
      "source": [
        "city_list= top_par_df.index.values.tolist()"
      ],
      "execution_count": 18,
      "outputs": []
    },
    {
      "cell_type": "code",
      "metadata": {
        "id": "3vg_znjkS2_H"
      },
      "source": [
        "rnd_vi_df = np.empty((top_par_df.shape[0],top_par_df.shape[1]))  ## dataframe for the resuls\n",
        "\n",
        "last_city = 's'  # random letter for the firsct checking\n",
        "rand_order = list(uj_percents.values())\n",
        "for i in range(0, len(city_list)):\n",
        "  if last_city == city_list[i]:\n",
        "      rnd_vi_df[i,] = rand_order\n",
        "  else: \n",
        "      random.shuffle(rand_order)\n",
        "      rnd_vi_df[i,] = rand_order\n",
        "      last_city = city_list[i]"
      ],
      "execution_count": 19,
      "outputs": []
    },
    {
      "cell_type": "markdown",
      "metadata": {
        "id": "j3Urs4WooDAZ"
      },
      "source": [
        "# **2.1**"
      ]
    },
    {
      "cell_type": "markdown",
      "metadata": {
        "id": "jSOyCYF0ezMz"
      },
      "source": [
        "### **מימוש הסימולציות**"
      ]
    },
    {
      "cell_type": "markdown",
      "metadata": {
        "id": "wgg1f7AMRi-t"
      },
      "source": [
        ":סימולציות ללא תיקון"
      ]
    },
    {
      "cell_type": "code",
      "metadata": {
        "id": "maojyUsyq_30"
      },
      "source": [
        "sim_a, sim_b, sim_c = [],[],[]\n",
        "\n",
        "for i in range(50):\n",
        "  sim_a.append(sample_bin(vi,n_ij_t))\n",
        "  sim_b.append(sample_bin(uj,n_ij_t))\n",
        "  sim_c.append(sample_bin(rnd_vi_df,n_ij_t))"
      ],
      "execution_count": 20,
      "outputs": []
    },
    {
      "cell_type": "markdown",
      "metadata": {
        "id": "BRwcF2UZRn7Z"
      },
      "source": [
        ":סימולציות כולל תיקון"
      ]
    },
    {
      "cell_type": "code",
      "metadata": {
        "id": "YXVyQWBf1djL"
      },
      "source": [
        "votes_ratio = df_2020_raw['כשרים'].div(df_2020_raw['בזב'])"
      ],
      "execution_count": 21,
      "outputs": []
    },
    {
      "cell_type": "code",
      "metadata": {
        "id": "xfnxjDlX0-VT"
      },
      "source": [
        "sim_a_fix, sim_b_fix, sim_c_fix = copy.deepcopy(sim_a), copy.deepcopy(sim_b),copy.deepcopy(sim_c),\n",
        "\n",
        "for sim in range(50):\n",
        "  for i in range(10631):\n",
        "    for j in range(8):\n",
        "      sim_a_fix[sim][i,j]= sim_a[sim][i,j]/votes_ratio[i]\n",
        "      sim_b_fix[sim][i,j] = sim_b[sim][i,j]/votes_ratio[i]\n",
        "      sim_c_fix[sim][i,j] = sim_c[sim][i,j]/votes_ratio[i]"
      ],
      "execution_count": 22,
      "outputs": []
    },
    {
      "cell_type": "markdown",
      "metadata": {
        "id": "RuQ7FCmMsGRE"
      },
      "source": [
        "# **2.2**"
      ]
    },
    {
      "cell_type": "markdown",
      "metadata": {
        "id": "RixVX62lP3S-"
      },
      "source": [
        "### **q**"
      ]
    },
    {
      "cell_type": "code",
      "metadata": {
        "id": "1Fdq8q4YO2UK"
      },
      "source": [
        "n_ij_t = numpy_to_df(n_ij_t)"
      ],
      "execution_count": 23,
      "outputs": []
    },
    {
      "cell_type": "code",
      "metadata": {
        "id": "rRc2PvSnPOjN"
      },
      "source": [
        "qj = parties_votes_percents(n_ij_t,0)"
      ],
      "execution_count": 24,
      "outputs": []
    },
    {
      "cell_type": "markdown",
      "metadata": {
        "id": "ZgJm4H_ke7aG"
      },
      "source": [
        "### **חישוב סך הבזב והכשרים**"
      ]
    },
    {
      "cell_type": "code",
      "metadata": {
        "id": "vwKTFv1Xt8Tt"
      },
      "source": [
        "df_raw_top = df_2020_raw[[\"בזב\",\"כשרים\",\"מחל\",\"פה\",\"ודעם\",\"שס\",\"ג\",\"ל\",\"אמת\",\"טב\"]]\n",
        "sum_bzb = (df_raw_top['בזב']).sum()\n",
        "sum_votes = (df_raw_top['כשרים']).sum()"
      ],
      "execution_count": 25,
      "outputs": []
    },
    {
      "cell_type": "markdown",
      "metadata": {
        "id": "aNpGiZkxfAjG"
      },
      "source": [
        "### **חישוב אומדן qj**"
      ]
    },
    {
      "cell_type": "markdown",
      "metadata": {
        "id": "3HludYUlSXbe"
      },
      "source": [
        "חישוב סך הקולות בכל סימולציה"
      ]
    },
    {
      "cell_type": "code",
      "metadata": {
        "id": "URSo6vd5sJpf"
      },
      "source": [
        "qj_a_hat , qj_b_hat, qj_c_hat = [],[],[]\n",
        "\n",
        "for i in range(len(sim_a_fix)):\n",
        "    qj_a_hat.append(sum(sim_a_fix[i]))\n",
        "    qj_b_hat.append(sum(sim_b_fix[i]))\n",
        "    qj_c_hat.append(sum(sim_c_fix[i]))"
      ],
      "execution_count": 26,
      "outputs": []
    },
    {
      "cell_type": "markdown",
      "metadata": {
        "id": "WoRlfp5wSir_"
      },
      "source": [
        "הפיכת הטבלה למטריצה לשם נוחות"
      ]
    },
    {
      "cell_type": "code",
      "metadata": {
        "id": "qSbJadhcYfub"
      },
      "source": [
        "q_a_hat , q_b_hat  , q_c_hat  = [], [], []\n",
        "\n",
        "for sim in range(50):\n",
        "  q_a_hat.append(numpy_to_df(sim_a_fix[sim]))\n",
        "  q_b_hat.append(numpy_to_df(sim_b_fix[sim]))\n",
        "  q_c_hat.append(numpy_to_df(sim_c_fix[sim]))  "
      ],
      "execution_count": 27,
      "outputs": []
    },
    {
      "cell_type": "markdown",
      "metadata": {
        "id": "tyRb5S83SnAQ"
      },
      "source": [
        "חישוב אחוז ההצבעה לכל מפלגה בכל סימולציה"
      ]
    },
    {
      "cell_type": "code",
      "metadata": {
        "id": "lIV0mxNHbdpV"
      },
      "source": [
        "qj_a_fix_per , qj_b_fix_per, qj_c_fix_per = [],[],[]\n",
        "for sim in range(50):\n",
        "  qj_a_fix_per.append(parties_votes_percents(q_a_hat[sim],0))\n",
        "  qj_b_fix_per.append(parties_votes_percents(q_b_hat[sim],0))\n",
        "  qj_c_fix_per.append(parties_votes_percents(q_c_hat[sim],0))"
      ],
      "execution_count": 28,
      "outputs": []
    },
    {
      "cell_type": "markdown",
      "metadata": {
        "id": "S4ituuLmS1ox"
      },
      "source": [
        "חישוב ממוצע אחוז ההצבעה לכל מפלגה על כל הסימולציות"
      ]
    },
    {
      "cell_type": "code",
      "metadata": {
        "id": "gpmibj24dQpQ"
      },
      "source": [
        "q_a_hat_mean , q_b_hat_mean , q_c_hat_mean = [0,0,0,0,0,0,0,0], [0,0,0,0,0,0,0,0], [0,0,0,0,0,0,0,0]\n",
        "\n",
        "\n",
        "# sum all the percents for each party\n",
        "for par in range(8):\n",
        "  for sim in range(50):\n",
        "    q_a_hat_mean[par] = q_a_hat_mean[par] + qj_a_fix_per[sim][par]\n",
        "    q_b_hat_mean[par] = q_b_hat_mean[par] + qj_b_fix_per[sim][par]\n",
        "    q_c_hat_mean[par] = q_c_hat_mean[par] + qj_c_fix_per[sim][par]\n",
        "\n",
        "# calculate avareage for each party\n",
        "for i in range(8):\n",
        "  q_a_hat_mean[i] = q_a_hat_mean[i]/50\n",
        "  q_b_hat_mean[i] = q_b_hat_mean[i]/50\n",
        "  q_c_hat_mean[i] = q_c_hat_mean[i]/50"
      ],
      "execution_count": 29,
      "outputs": []
    },
    {
      "cell_type": "markdown",
      "metadata": {
        "id": "pKoreiHdTGZs"
      },
      "source": [
        ":הפיכת הוקטור שמתקבל לסדרה המסומנת לפי מפלגות עבור הגרף בהמשך"
      ]
    },
    {
      "cell_type": "code",
      "metadata": {
        "id": "x5fgmz9cm-Du"
      },
      "source": [
        "q_a_hat_mean, q_b_hat_mean , q_c_hat_mean = pd.Series(q_a_hat_mean), pd.Series(q_b_hat_mean), pd.Series(q_c_hat_mean)\n",
        "q_a_hat_mean.index,  q_b_hat_mean.index, q_c_hat_mean.index = top_par_df.columns, top_par_df.columns, top_par_df.columns"
      ],
      "execution_count": 30,
      "outputs": []
    },
    {
      "cell_type": "markdown",
      "metadata": {
        "id": "Np9tpRFRu170"
      },
      "source": [
        "# **2.3 - חישוב התוחלת, ההטיה, השונות והשגיאה הריבועית**"
      ]
    },
    {
      "cell_type": "markdown",
      "metadata": {
        "id": "qEAjA5ENbVLl"
      },
      "source": [
        "פונקציה להצגת התוצאות בטבלה"
      ]
    },
    {
      "cell_type": "code",
      "metadata": {
        "id": "Ib-JvOVHbUho"
      },
      "source": [
        "def table_cal (sim1, sim2, sim3):\n",
        "  data_table = (pd.DataFrame([sim1, sim2, sim3])).round(3)\n",
        "  data_table.columns = top_par_df.columns\n",
        "  data_table.columns = data_table.columns.to_series().map(party_names)\n",
        "  data_table = data_table.rename(index = {0: 'sim_a',1:'sim_b', 2:'sim_c'})\n",
        "  return data_table"
      ],
      "execution_count": null,
      "outputs": []
    },
    {
      "cell_type": "markdown",
      "metadata": {
        "id": "G9Pnrzy5RKrt"
      },
      "source": [
        "פונקציה להמרת דאטה פריים למטריצה"
      ]
    },
    {
      "cell_type": "markdown",
      "metadata": {
        "id": "68wUjHBgvm_I"
      },
      "source": [
        "### **תוחלת**"
      ]
    },
    {
      "cell_type": "code",
      "metadata": {
        "id": "cdvtXrCbu44g"
      },
      "source": [
        "sim_a_mean = sum(qj_a_fix_per)/50\n",
        "sim_b_mean = sum(qj_b_fix_per)/50\n",
        "sim_c_mean = sum(qj_c_fix_per)/50"
      ],
      "execution_count": null,
      "outputs": []
    },
    {
      "cell_type": "code",
      "metadata": {
        "id": "c9SlyRhYXwdB",
        "outputId": "05359a6c-0c6c-4d86-843f-01f6381fbc38",
        "colab": {
          "base_uri": "https://localhost:8080/",
          "height": 136
        }
      },
      "source": [
        "mean_table = table_cal(sim_a_mean,sim_b_mean,sim_c_mean)\n",
        "mean_table"
      ],
      "execution_count": null,
      "outputs": [
        {
          "output_type": "execute_result",
          "data": {
            "text/html": [
              "<div>\n",
              "<style scoped>\n",
              "    .dataframe tbody tr th:only-of-type {\n",
              "        vertical-align: middle;\n",
              "    }\n",
              "\n",
              "    .dataframe tbody tr th {\n",
              "        vertical-align: top;\n",
              "    }\n",
              "\n",
              "    .dataframe thead th {\n",
              "        text-align: right;\n",
              "    }\n",
              "</style>\n",
              "<table border=\"1\" class=\"dataframe\">\n",
              "  <thead>\n",
              "    <tr style=\"text-align: right;\">\n",
              "      <th></th>\n",
              "      <th>הליכוד</th>\n",
              "      <th>כחול לבן</th>\n",
              "      <th>הרשימה המשותפת</th>\n",
              "      <th>שס</th>\n",
              "      <th>יהדות התורה</th>\n",
              "      <th>ישראל ביתנו</th>\n",
              "      <th>העבודה גשר מרצ</th>\n",
              "      <th>ימינה</th>\n",
              "    </tr>\n",
              "  </thead>\n",
              "  <tbody>\n",
              "    <tr>\n",
              "      <th>sim_a</th>\n",
              "      <td>0.294</td>\n",
              "      <td>0.265</td>\n",
              "      <td>0.133</td>\n",
              "      <td>0.078</td>\n",
              "      <td>0.062</td>\n",
              "      <td>0.059</td>\n",
              "      <td>0.058</td>\n",
              "      <td>0.051</td>\n",
              "    </tr>\n",
              "    <tr>\n",
              "      <th>sim_b</th>\n",
              "      <td>0.383</td>\n",
              "      <td>0.298</td>\n",
              "      <td>0.138</td>\n",
              "      <td>0.066</td>\n",
              "      <td>0.041</td>\n",
              "      <td>0.037</td>\n",
              "      <td>0.025</td>\n",
              "      <td>0.014</td>\n",
              "    </tr>\n",
              "    <tr>\n",
              "      <th>sim_c</th>\n",
              "      <td>0.303</td>\n",
              "      <td>0.239</td>\n",
              "      <td>0.145</td>\n",
              "      <td>0.082</td>\n",
              "      <td>0.067</td>\n",
              "      <td>0.060</td>\n",
              "      <td>0.058</td>\n",
              "      <td>0.046</td>\n",
              "    </tr>\n",
              "  </tbody>\n",
              "</table>\n",
              "</div>"
            ],
            "text/plain": [
              "       הליכוד  כחול לבן  הרשימה המשותפת  ...  ישראל ביתנו  העבודה גשר מרצ  ימינה\n",
              "sim_a   0.294     0.265           0.133  ...        0.059           0.058  0.051\n",
              "sim_b   0.383     0.298           0.138  ...        0.037           0.025  0.014\n",
              "sim_c   0.303     0.239           0.145  ...        0.060           0.058  0.046\n",
              "\n",
              "[3 rows x 8 columns]"
            ]
          },
          "metadata": {
            "tags": []
          },
          "execution_count": 36
        }
      ]
    },
    {
      "cell_type": "markdown",
      "metadata": {
        "id": "pi-0ERDHwjxr"
      },
      "source": [
        "### **שונות**"
      ]
    },
    {
      "cell_type": "code",
      "metadata": {
        "id": "4nkWyVOewl2d"
      },
      "source": [
        "sim_a_var = np.var(qj_a_fix_per,axis =0)\n",
        "sim_b_var = np.var(qj_b_fix_per,axis =0)\n",
        "sim_c_var = np.var(qj_c_fix_per,axis =0)"
      ],
      "execution_count": null,
      "outputs": []
    },
    {
      "cell_type": "code",
      "metadata": {
        "id": "Oq4dzJjnHa8S"
      },
      "source": [
        "sim_a_var = np.var(qj_a_fix_per, axis=0)\n",
        "sim_b_var = np.var(qj_b_fix_per, axis = 0)\n",
        "sim_c_var = np.var(qj_c_fix_per, axis =0)"
      ],
      "execution_count": null,
      "outputs": []
    },
    {
      "cell_type": "code",
      "metadata": {
        "id": "x5Lw15eHZQVx",
        "outputId": "211a0f9f-81c3-4fc8-90f1-e133f0b7d33d",
        "colab": {
          "base_uri": "https://localhost:8080/",
          "height": 136
        }
      },
      "source": [
        "var_table = table_cal(sim_a_var,sim_b_var,sim_c_var)\n",
        "var_table\n",
        "\n",
        " # The variance is very close to 0. About 9 digits after the dot there are numbers"
      ],
      "execution_count": null,
      "outputs": [
        {
          "output_type": "execute_result",
          "data": {
            "text/html": [
              "<div>\n",
              "<style scoped>\n",
              "    .dataframe tbody tr th:only-of-type {\n",
              "        vertical-align: middle;\n",
              "    }\n",
              "\n",
              "    .dataframe tbody tr th {\n",
              "        vertical-align: top;\n",
              "    }\n",
              "\n",
              "    .dataframe thead th {\n",
              "        text-align: right;\n",
              "    }\n",
              "</style>\n",
              "<table border=\"1\" class=\"dataframe\">\n",
              "  <thead>\n",
              "    <tr style=\"text-align: right;\">\n",
              "      <th></th>\n",
              "      <th>הליכוד</th>\n",
              "      <th>כחול לבן</th>\n",
              "      <th>הרשימה המשותפת</th>\n",
              "      <th>שס</th>\n",
              "      <th>יהדות התורה</th>\n",
              "      <th>ישראל ביתנו</th>\n",
              "      <th>העבודה גשר מרצ</th>\n",
              "      <th>ימינה</th>\n",
              "    </tr>\n",
              "  </thead>\n",
              "  <tbody>\n",
              "    <tr>\n",
              "      <th>sim_a</th>\n",
              "      <td>0.0</td>\n",
              "      <td>0.0</td>\n",
              "      <td>0.0</td>\n",
              "      <td>0.0</td>\n",
              "      <td>0.0</td>\n",
              "      <td>0.0</td>\n",
              "      <td>0.0</td>\n",
              "      <td>0.0</td>\n",
              "    </tr>\n",
              "    <tr>\n",
              "      <th>sim_b</th>\n",
              "      <td>0.0</td>\n",
              "      <td>0.0</td>\n",
              "      <td>0.0</td>\n",
              "      <td>0.0</td>\n",
              "      <td>0.0</td>\n",
              "      <td>0.0</td>\n",
              "      <td>0.0</td>\n",
              "      <td>0.0</td>\n",
              "    </tr>\n",
              "    <tr>\n",
              "      <th>sim_c</th>\n",
              "      <td>0.0</td>\n",
              "      <td>0.0</td>\n",
              "      <td>0.0</td>\n",
              "      <td>0.0</td>\n",
              "      <td>0.0</td>\n",
              "      <td>0.0</td>\n",
              "      <td>0.0</td>\n",
              "      <td>0.0</td>\n",
              "    </tr>\n",
              "  </tbody>\n",
              "</table>\n",
              "</div>"
            ],
            "text/plain": [
              "       הליכוד  כחול לבן  הרשימה המשותפת  ...  ישראל ביתנו  העבודה גשר מרצ  ימינה\n",
              "sim_a     0.0       0.0             0.0  ...          0.0             0.0    0.0\n",
              "sim_b     0.0       0.0             0.0  ...          0.0             0.0    0.0\n",
              "sim_c     0.0       0.0             0.0  ...          0.0             0.0    0.0\n",
              "\n",
              "[3 rows x 8 columns]"
            ]
          },
          "metadata": {
            "tags": []
          },
          "execution_count": 39
        }
      ]
    },
    {
      "cell_type": "markdown",
      "metadata": {
        "id": "RGktaWaKw83D"
      },
      "source": [
        "### **הטיה**"
      ]
    },
    {
      "cell_type": "code",
      "metadata": {
        "id": "LdDdnwRfI1fl"
      },
      "source": [
        "sim_a_bias, sim_b_bias, sim_c_bias =[],[],[]\n",
        "\n",
        "for i in range(len(qj_a_fix_per)):\n",
        "    sim_a_bias.append(qj_a_fix_per[i] - qj)\n",
        "    sim_b_bias.append(qj_b_fix_per[i] - qj)\n",
        "    sim_c_bias.append(qj_c_fix_per[i] - qj)\n"
      ],
      "execution_count": null,
      "outputs": []
    },
    {
      "cell_type": "code",
      "metadata": {
        "id": "A39BE1duJR9r"
      },
      "source": [
        "sim_a_bias_mean , sim_b_bias_mean , sim_c_bias_mean = [0,0,0,0,0,0,0,0], [0,0,0,0,0,0,0,0], [0,0,0,0,0,0,0,0]\n",
        "\n",
        "\n",
        "# sum all the percents for each party\n",
        "for par in range(8):\n",
        "  for sim in range(50):\n",
        "    sim_a_bias_mean[par] = sim_a_bias_mean[par] + sim_a_bias[sim][par]\n",
        "    sim_b_bias_mean[par] = sim_b_bias_mean[par] + sim_b_bias[sim][par]\n",
        "    sim_c_bias_mean[par] = sim_c_bias_mean[par] + sim_c_bias[sim][par]\n",
        "\n",
        "# calculate average for each party\n",
        "for i in range(8):\n",
        "  sim_a_bias_mean[i] = sim_a_bias_mean[i]/50\n",
        "  sim_b_bias_mean[i] = sim_b_bias_mean[i]/50\n",
        "  sim_c_bias_mean[i] = sim_c_bias_mean[i]/50"
      ],
      "execution_count": null,
      "outputs": []
    },
    {
      "cell_type": "code",
      "metadata": {
        "id": "oDXMHVO8ax6A",
        "outputId": "e2d02fff-5962-4976-f24e-b074a46c0768",
        "colab": {
          "base_uri": "https://localhost:8080/",
          "height": 136
        }
      },
      "source": [
        "bias_table = table_cal(sim_a_bias_mean,sim_b_bias_mean,sim_c_bias_mean)\n",
        "bias_table"
      ],
      "execution_count": null,
      "outputs": [
        {
          "output_type": "execute_result",
          "data": {
            "text/html": [
              "<div>\n",
              "<style scoped>\n",
              "    .dataframe tbody tr th:only-of-type {\n",
              "        vertical-align: middle;\n",
              "    }\n",
              "\n",
              "    .dataframe tbody tr th {\n",
              "        vertical-align: top;\n",
              "    }\n",
              "\n",
              "    .dataframe thead th {\n",
              "        text-align: right;\n",
              "    }\n",
              "</style>\n",
              "<table border=\"1\" class=\"dataframe\">\n",
              "  <thead>\n",
              "    <tr style=\"text-align: right;\">\n",
              "      <th></th>\n",
              "      <th>הליכוד</th>\n",
              "      <th>כחול לבן</th>\n",
              "      <th>הרשימה המשותפת</th>\n",
              "      <th>שס</th>\n",
              "      <th>יהדות התורה</th>\n",
              "      <th>ישראל ביתנו</th>\n",
              "      <th>העבודה גשר מרצ</th>\n",
              "      <th>ימינה</th>\n",
              "    </tr>\n",
              "  </thead>\n",
              "  <tbody>\n",
              "    <tr>\n",
              "      <th>sim_a</th>\n",
              "      <td>0.000</td>\n",
              "      <td>0.000</td>\n",
              "      <td>0.000</td>\n",
              "      <td>-0.000</td>\n",
              "      <td>-0.000</td>\n",
              "      <td>0.000</td>\n",
              "      <td>-0.000</td>\n",
              "      <td>0.000</td>\n",
              "    </tr>\n",
              "    <tr>\n",
              "      <th>sim_b</th>\n",
              "      <td>0.089</td>\n",
              "      <td>0.032</td>\n",
              "      <td>0.004</td>\n",
              "      <td>-0.012</td>\n",
              "      <td>-0.021</td>\n",
              "      <td>-0.022</td>\n",
              "      <td>-0.033</td>\n",
              "      <td>-0.037</td>\n",
              "    </tr>\n",
              "    <tr>\n",
              "      <th>sim_c</th>\n",
              "      <td>0.009</td>\n",
              "      <td>-0.026</td>\n",
              "      <td>0.011</td>\n",
              "      <td>0.004</td>\n",
              "      <td>0.005</td>\n",
              "      <td>0.001</td>\n",
              "      <td>0.001</td>\n",
              "      <td>-0.005</td>\n",
              "    </tr>\n",
              "  </tbody>\n",
              "</table>\n",
              "</div>"
            ],
            "text/plain": [
              "       הליכוד  כחול לבן  הרשימה המשותפת  ...  ישראל ביתנו  העבודה גשר מרצ  ימינה\n",
              "sim_a   0.000     0.000           0.000  ...        0.000          -0.000  0.000\n",
              "sim_b   0.089     0.032           0.004  ...       -0.022          -0.033 -0.037\n",
              "sim_c   0.009    -0.026           0.011  ...        0.001           0.001 -0.005\n",
              "\n",
              "[3 rows x 8 columns]"
            ]
          },
          "metadata": {
            "tags": []
          },
          "execution_count": 42
        }
      ]
    },
    {
      "cell_type": "markdown",
      "metadata": {
        "id": "tbdMuggJxZWV"
      },
      "source": [
        "### **שגיאה ריבועית**"
      ]
    },
    {
      "cell_type": "code",
      "metadata": {
        "id": "AVfxAm6Sxa9q"
      },
      "source": [
        "sim_a_se , sim_b_se, sim_c_se = [],[],[]\n",
        "for i in range(len(qj_a_fix_per)):\n",
        "    sim_a_se.append((qj_a_fix_per[i] - qj)** 2)\n",
        "    sim_b_se.append((qj_b_fix_per[i] - qj)** 2)\n",
        "    sim_c_se.append((qj_c_fix_per[i] - qj)** 2)"
      ],
      "execution_count": null,
      "outputs": []
    },
    {
      "cell_type": "code",
      "metadata": {
        "id": "mLtj2rup5KKH"
      },
      "source": [
        "sim_a_se , sim_b_se, sim_c_se = sum(sim_a_se), sum(sim_b_se), sum(sim_c_se)"
      ],
      "execution_count": null,
      "outputs": []
    },
    {
      "cell_type": "code",
      "metadata": {
        "id": "MtvCaT6vbHaj",
        "outputId": "3508b55f-9bf6-491e-dcaf-55ed1bec7a34",
        "colab": {
          "base_uri": "https://localhost:8080/",
          "height": 136
        }
      },
      "source": [
        "se_table = table_cal(sim_a_se,sim_b_se, sim_c_se)\n",
        "se_table"
      ],
      "execution_count": null,
      "outputs": [
        {
          "output_type": "execute_result",
          "data": {
            "text/html": [
              "<div>\n",
              "<style scoped>\n",
              "    .dataframe tbody tr th:only-of-type {\n",
              "        vertical-align: middle;\n",
              "    }\n",
              "\n",
              "    .dataframe tbody tr th {\n",
              "        vertical-align: top;\n",
              "    }\n",
              "\n",
              "    .dataframe thead th {\n",
              "        text-align: right;\n",
              "    }\n",
              "</style>\n",
              "<table border=\"1\" class=\"dataframe\">\n",
              "  <thead>\n",
              "    <tr style=\"text-align: right;\">\n",
              "      <th></th>\n",
              "      <th>הליכוד</th>\n",
              "      <th>כחול לבן</th>\n",
              "      <th>הרשימה המשותפת</th>\n",
              "      <th>שס</th>\n",
              "      <th>יהדות התורה</th>\n",
              "      <th>ישראל ביתנו</th>\n",
              "      <th>העבודה גשר מרצ</th>\n",
              "      <th>ימינה</th>\n",
              "    </tr>\n",
              "  </thead>\n",
              "  <tbody>\n",
              "    <tr>\n",
              "      <th>sim_a</th>\n",
              "      <td>0.000</td>\n",
              "      <td>0.000</td>\n",
              "      <td>0.000</td>\n",
              "      <td>0.000</td>\n",
              "      <td>0.000</td>\n",
              "      <td>0.000</td>\n",
              "      <td>0.000</td>\n",
              "      <td>0.000</td>\n",
              "    </tr>\n",
              "    <tr>\n",
              "      <th>sim_b</th>\n",
              "      <td>0.394</td>\n",
              "      <td>0.053</td>\n",
              "      <td>0.001</td>\n",
              "      <td>0.008</td>\n",
              "      <td>0.022</td>\n",
              "      <td>0.025</td>\n",
              "      <td>0.054</td>\n",
              "      <td>0.068</td>\n",
              "    </tr>\n",
              "    <tr>\n",
              "      <th>sim_c</th>\n",
              "      <td>0.004</td>\n",
              "      <td>0.033</td>\n",
              "      <td>0.007</td>\n",
              "      <td>0.001</td>\n",
              "      <td>0.001</td>\n",
              "      <td>0.000</td>\n",
              "      <td>0.000</td>\n",
              "      <td>0.001</td>\n",
              "    </tr>\n",
              "  </tbody>\n",
              "</table>\n",
              "</div>"
            ],
            "text/plain": [
              "       הליכוד  כחול לבן  הרשימה המשותפת  ...  ישראל ביתנו  העבודה גשר מרצ  ימינה\n",
              "sim_a   0.000     0.000           0.000  ...        0.000           0.000  0.000\n",
              "sim_b   0.394     0.053           0.001  ...        0.025           0.054  0.068\n",
              "sim_c   0.004     0.033           0.007  ...        0.000           0.000  0.001\n",
              "\n",
              "[3 rows x 8 columns]"
            ]
          },
          "metadata": {
            "tags": []
          },
          "execution_count": 45
        }
      ]
    },
    {
      "cell_type": "markdown",
      "metadata": {
        "id": "OONN1XPRM3En"
      },
      "source": [
        "בסעיף זה התבקשנו לחשב תוחלת שונות והטייה, בסימולציה א התוחלת הייתה הגבוהה ביותר וההטייה הנמוכה ביותר. \n",
        "סכ\"ה על פי השגיאה הריבועית ניתן לומר כי סימולציה א הכי קרובה לתוצאה אמיתית וסימולציה ב הכי רחוקה מהתוצאה האמיתית."
      ]
    },
    {
      "cell_type": "markdown",
      "metadata": {
        "id": "q_52myJ-yQJ3"
      },
      "source": [
        "# **2.4 - Barplots**"
      ]
    },
    {
      "cell_type": "markdown",
      "metadata": {
        "id": "8XkvcGu1QAU1"
      },
      "source": [
        "### **p**"
      ]
    },
    {
      "cell_type": "code",
      "metadata": {
        "id": "wUokt_oaQHXe"
      },
      "source": [
        "#עבור כל סימולציה בנפרד\n",
        "p_a , p_b , p_c = [], [], []\n",
        "\n",
        "for sim in range(50):\n",
        "  p_a.append(numpy_to_df(sim_a[sim]))\n",
        "  p_b.append(numpy_to_df(sim_b[sim]))\n",
        "  p_c.append(numpy_to_df(sim_c[sim]))  "
      ],
      "execution_count": 31,
      "outputs": []
    },
    {
      "cell_type": "code",
      "metadata": {
        "id": "uYnQ9MN3TzXX"
      },
      "source": [
        "p_a_vec , p_b_vec, p_c_vec = [],[],[]\n",
        "for sim in range(50):\n",
        "  p_a_vec.append(parties_votes_percents(p_a[sim],-1))\n",
        "  p_b_vec.append(parties_votes_percents(p_b[sim],-1))\n",
        "  p_c_vec.append(parties_votes_percents(p_c[sim],-1))"
      ],
      "execution_count": 32,
      "outputs": []
    },
    {
      "cell_type": "code",
      "metadata": {
        "id": "bLaiiaZtUXlv"
      },
      "source": [
        "p_a , p_b , p_c = [0,0,0,0,0,0,0,0], [0,0,0,0,0,0,0,0], [0,0,0,0,0,0,0,0]\n",
        "for i in range(8):\n",
        "  for j in range(50):\n",
        "    p_a[i] = p_a[i] + p_a_vec[j][i]\n",
        "    p_b[i] = p_b[i] + p_b_vec[j][i]\n",
        "    p_c[i] = p_c[i] + p_c_vec[j][i]"
      ],
      "execution_count": 33,
      "outputs": []
    },
    {
      "cell_type": "code",
      "metadata": {
        "id": "tujqq_OXXeDM"
      },
      "source": [
        "for i in range(8):\n",
        "  p_a[i] = p_a[i]/50\n",
        "  p_b[i] = p_b[i]/50\n",
        "  p_c[i] = p_c[i]/50"
      ],
      "execution_count": 34,
      "outputs": []
    },
    {
      "cell_type": "code",
      "metadata": {
        "id": "rh1bJq9VT6Uv"
      },
      "source": [
        "p_a, p_b , p_c = pd.Series(p_a), pd.Series(p_b), pd.Series(p_c)\n",
        "p_a.index,  p_b.index, p_c.index = top_par_df.columns, top_par_df.columns, top_par_df.columns"
      ],
      "execution_count": 35,
      "outputs": []
    },
    {
      "cell_type": "markdown",
      "metadata": {
        "id": "dyj6HTscLWSl"
      },
      "source": [
        "### **Barplots**"
      ]
    },
    {
      "cell_type": "code",
      "metadata": {
        "id": "MNLar7yacVqj"
      },
      "source": [
        "def parties_bar(city1, city2, city3,sd2,sd3):\n",
        "    width = 0.15  # set column width\n",
        "    n = 8  # number of parties\n",
        "    names = party_names.values()\n",
        "    rev_names = [name[::-1] for name in list(names)]\n",
        "    fig, ax = plt.subplots(figsize=(8, 5))  # plt.subplots()\n",
        "\n",
        "    city1_bar = ax.bar(np.arange(n)+width, list(city1), width, color='blue')\n",
        "    city2_bar = ax.bar(np.arange(n), list(city2), width, color='lightsteelblue', yerr =sd2, capsize =5)\n",
        "    city3_bar = ax.bar(np.arange(n)-width, list(city3), width, color='deepskyblue', yerr =sd3, capsize =5)\n",
        "\n",
        "    ax.set_ylabel('Votes percent')\n",
        "    ax.set_xlabel('Parties Names')\n",
        "    ax.set_title('Votes percent per party 2020 - vij=random uj')\n",
        "    ax.set_xticks(np.arange(n))\n",
        "    ax.set_xticklabels(rev_names)\n",
        "    plt.setp(ax.get_xticklabels(), rotation=45, ha=\"right\",rotation_mode=\"anchor\")\n",
        "\n",
        "    ax.legend((city1_bar[0], city2_bar[0],city3_bar[0]), ('Reality Percents','Unfixed simulation percents','Fixed simulation percents - LAB 3'))\n",
        "    plt.show()\n",
        "\n",
        "    return fig, ax"
      ],
      "execution_count": 63,
      "outputs": []
    },
    {
      "cell_type": "markdown",
      "metadata": {
        "id": "g2134SK8JcUU"
      },
      "source": [
        "**סימולציה א**"
      ]
    },
    {
      "cell_type": "code",
      "metadata": {
        "id": "k8Vjtdh_JapZ"
      },
      "source": [
        "sd_a = np.std(p_a_vec,axis =0)\n",
        "sd_a_fix = np.std(qj_a_fix_per,axis =0)"
      ],
      "execution_count": 45,
      "outputs": []
    },
    {
      "cell_type": "code",
      "metadata": {
        "id": "7-Pi95nQpIzt",
        "outputId": "67138949-c947-4e40-ecf6-086607f8c859",
        "colab": {
          "base_uri": "https://localhost:8080/",
          "height": 439
        }
      },
      "source": [
        "parties_bar(qj, p_a, q_a_hat_mean, sd_a,sd_a_fix)"
      ],
      "execution_count": 59,
      "outputs": [
        {
          "output_type": "display_data",
          "data": {
            "image/png": "[encoded data removed]",
            "text/plain": [
              "<Figure size 576x360 with 1 Axes>"
            ]
          },
          "metadata": {
            "tags": [],
            "needs_background": "light"
          }
        },
        {
          "output_type": "execute_result",
          "data": {
            "text/plain": [
              "(<Figure size 576x360 with 1 Axes>,\n",
              " <matplotlib.axes._subplots.AxesSubplot at 0x7f7eb881de80>)"
            ]
          },
          "metadata": {
            "tags": []
          },
          "execution_count": 59
        }
      ]
    },
    {
      "cell_type": "markdown",
      "metadata": {
        "id": "duYjfc3ZMsog"
      },
      "source": [
        "בסימולציה זו ניתן לראות הבדלים מזעריים באחוזים. כך שאין הבדל משמעותי שניתן לתת לו דגש."
      ]
    },
    {
      "cell_type": "markdown",
      "metadata": {
        "id": "OUM7PFlgJr5v"
      },
      "source": [
        "**סימולציה ב**"
      ]
    },
    {
      "cell_type": "code",
      "metadata": {
        "id": "W9vM6BjGvH3g"
      },
      "source": [
        "sd_b = np.std(p_b_vec,axis =0)\n",
        "sd_b_fix = np.std(qj_b_fix_per,axis =0)"
      ],
      "execution_count": 43,
      "outputs": []
    },
    {
      "cell_type": "code",
      "metadata": {
        "id": "uxNmtWtaugej",
        "outputId": "04168b26-abe0-4567-ba39-03bb4b57228f",
        "colab": {
          "base_uri": "https://localhost:8080/",
          "height": 439
        }
      },
      "source": [
        "parties_bar(qj,p_b,q_b_hat_mean,sd_b,sd_b_fix)"
      ],
      "execution_count": 62,
      "outputs": [
        {
          "output_type": "display_data",
          "data": {
            "image/png": "[encoded data removed]",
            "text/plain": [
              "<Figure size 576x360 with 1 Axes>"
            ]
          },
          "metadata": {
            "tags": [],
            "needs_background": "light"
          }
        },
        {
          "output_type": "execute_result",
          "data": {
            "text/plain": [
              "(<Figure size 576x360 with 1 Axes>,\n",
              " <matplotlib.axes._subplots.AxesSubplot at 0x7f7eb86e09b0>)"
            ]
          },
          "metadata": {
            "tags": []
          },
          "execution_count": 62
        }
      ]
    },
    {
      "cell_type": "markdown",
      "metadata": {
        "id": "-oZ2TbdpJvk2"
      },
      "source": [
        "**סימולציה ג**"
      ]
    },
    {
      "cell_type": "code",
      "metadata": {
        "id": "AXCKU8z_7X-r"
      },
      "source": [
        "sd_c = np.std(p_c_vec,axis =0)\n",
        "sd_c_fix = np.std(qj_c_fix_per,axis =0)"
      ],
      "execution_count": 52,
      "outputs": []
    },
    {
      "cell_type": "markdown",
      "metadata": {
        "id": "fiDtAOjtuPxT"
      },
      "source": [
        "ניתן לראות כי בסימולציה זו היה שיפור באחוזי המפלגות הגדולות שבא על חשבון המפלגות הקטנות. לדוגמא- כחול לבן גדול על חשבון ימינה"
      ]
    },
    {
      "cell_type": "code",
      "metadata": {
        "id": "oII0wk4A7ZHi",
        "outputId": "7e2dfea9-9bef-44a3-e460-03db099f4d06",
        "colab": {
          "base_uri": "https://localhost:8080/",
          "height": 439
        }
      },
      "source": [
        "parties_bar(qj,p_c,q_c_hat_mean,sd_c,sd_c_fix)"
      ],
      "execution_count": 64,
      "outputs": [
        {
          "output_type": "display_data",
          "data": {
            "image/png": "[encoded data removed]",
            "text/plain": [
              "<Figure size 576x360 with 1 Axes>"
            ]
          },
          "metadata": {
            "tags": [],
            "needs_background": "light"
          }
        },
        {
          "output_type": "execute_result",
          "data": {
            "text/plain": [
              "(<Figure size 576x360 with 1 Axes>,\n",
              " <matplotlib.axes._subplots.AxesSubplot at 0x7f7eb85bfa90>)"
            ]
          },
          "metadata": {
            "tags": []
          },
          "execution_count": 64
        }
      ]
    },
    {
      "cell_type": "markdown",
      "metadata": {
        "id": "YkY_xgU2MHom"
      },
      "source": [
        "בסימולציה זו בשונה מהקודמת כעת השינוי העיקרי והשיפור באחוזים הוא במפלגות קצה במפה הפוליטית, למשל הרשימה המשותפת ויהדות התורה, וירידה באחוזים במפלגות כמו כחול לבן והליכוד. אך בסכה אלו לא שינויים גדולים."
      ]
    }
  ]
}
